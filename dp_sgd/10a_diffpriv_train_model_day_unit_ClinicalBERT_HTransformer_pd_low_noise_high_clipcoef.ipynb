{
 "cells": [
  {
   "cell_type": "code",
   "execution_count": 1,
   "id": "4562b2a8",
   "metadata": {},
   "outputs": [],
   "source": [
    "import numpy as np\n",
    "import pandas as pd\n",
    "import pickle\n",
    "import os\n",
    "import torch\n",
    "os.environ[\"TOKENIZERS_PARALLELISM\"] = \"false\"\n"
   ]
  },
  {
   "cell_type": "code",
   "execution_count": 2,
   "id": "226809af-3047-4c9f-bef7-b4dfd0da231f",
   "metadata": {},
   "outputs": [],
   "source": [
    "os.environ['CUDA_LAUNCH_BLOCKING'] = '1'\n",
    "torch.use_deterministic_algorithms(False)\n",
    "torch.backends.cudnn.benchmark = False"
   ]
  },
  {
   "cell_type": "code",
   "execution_count": 3,
   "id": "33532154",
   "metadata": {},
   "outputs": [
    {
     "data": {
      "text/plain": [
       "True"
      ]
     },
     "execution_count": 3,
     "metadata": {},
     "output_type": "execute_result"
    }
   ],
   "source": [
    "torch.cuda.is_available()"
   ]
  },
  {
   "cell_type": "code",
   "execution_count": 4,
   "id": "323fe0e8-adef-40af-aefe-0bc81ab51521",
   "metadata": {},
   "outputs": [],
   "source": [
    "outcome='pd_true'"
   ]
  },
  {
   "cell_type": "code",
   "execution_count": 5,
   "id": "e084fd40-d147-45d2-bed5-b8bda521908e",
   "metadata": {},
   "outputs": [
    {
     "name": "stdout",
     "output_type": "stream",
     "text": [
      "There are 2 GPU(s) available.\n",
      "We will use the GPU: NVIDIA RTX A6000\n"
     ]
    }
   ],
   "source": [
    "import torch\n",
    "\n",
    "cuda = torch.device('cuda')     # Default CUDA device\n",
    "cuda0 = torch.device('cuda:0')\n",
    "cuda1 = torch.device('cuda:1')  \n",
    "\n",
    "\n",
    "# If there's a GPU available...\n",
    "if torch.cuda.is_available():    \n",
    "\n",
    "    # Tell PyTorch to use the GPU.    \n",
    "    device = torch.device(cuda)\n",
    "\n",
    "    print('There are %d GPU(s) available.' % torch.cuda.device_count())\n",
    "\n",
    "    print('We will use the GPU:', torch.cuda.get_device_name(cuda))\n",
    "\n",
    "# If not...\n",
    "else:\n",
    "    print('No GPU available, using the CPU instead.')\n",
    "    device = torch.device(\"cpu\")"
   ]
  },
  {
   "cell_type": "code",
   "execution_count": null,
   "id": "ef471993-c6a5-4a89-9c33-08804af96132",
   "metadata": {},
   "outputs": [],
   "source": []
  },
  {
   "cell_type": "code",
   "execution_count": 6,
   "id": "b4789c2b",
   "metadata": {},
   "outputs": [],
   "source": [
    "prefix = './'"
   ]
  },
  {
   "cell_type": "code",
   "execution_count": 7,
   "id": "392f05dd",
   "metadata": {},
   "outputs": [
    {
     "name": "stderr",
     "output_type": "stream",
     "text": [
      "/tmp/ipykernel_19379/1554159933.py:6: FutureWarning: The default value of regex will change from True to False in a future version.\n",
      "  all_reports['text'] = all_reports.text.str.lower().str.replace(\"\\r|\\n\", \" \")\n",
      "/tmp/ipykernel_19379/1554159933.py:7: FutureWarning: The default value of regex will change from True to False in a future version.\n",
      "  all_reports['text'] = all_reports.text.str.replace('\\s+', ' ')\n"
     ]
    }
   ],
   "source": [
    "all_reports = pd.read_csv(prefix + 'timc_recist_labeled_dataset_id.csv')\n",
    "all_reports['report_length'] = all_reports.report_text.str.len()\n",
    "all_reports['date'] = pd.to_datetime(all_reports.date)\n",
    "all_reports = all_reports.sort_values(by=['obs','dfci_mrn','date'])\n",
    "all_reports['text'] = all_reports[\"report_text\"]\n",
    "all_reports['text'] = all_reports.text.str.lower().str.replace(\"\\r|\\n\", \" \")\n",
    "all_reports['text'] = all_reports.text.str.replace('\\s+', ' ')"
   ]
  },
  {
   "cell_type": "code",
   "execution_count": 8,
   "id": "a949ab7a-1e02-43f2-aa69-77372550fa3b",
   "metadata": {},
   "outputs": [],
   "source": [
    "# remove\n",
    "all_reports = all_reports.drop_duplicates(subset=['dfci_mrn','text'])"
   ]
  },
  {
   "cell_type": "code",
   "execution_count": 9,
   "id": "76989b8a-cef5-498a-b150-17347008a7a2",
   "metadata": {},
   "outputs": [
    {
     "data": {
      "text/plain": [
       "(63897, 14)"
      ]
     },
     "execution_count": 9,
     "metadata": {},
     "output_type": "execute_result"
    }
   ],
   "source": [
    "all_reports.shape"
   ]
  },
  {
   "cell_type": "code",
   "execution_count": null,
   "id": "b2053af3-d2fd-44d0-b880-9796083fb0fd",
   "metadata": {},
   "outputs": [],
   "source": []
  },
  {
   "cell_type": "code",
   "execution_count": 10,
   "id": "7697ed52",
   "metadata": {},
   "outputs": [],
   "source": [
    "all_reports['starttime'] = all_reports.groupby('obs').date.transform('first')\n",
    "all_reports['time'] =  (all_reports['date'] - all_reports['starttime']).dt.days"
   ]
  },
  {
   "cell_type": "code",
   "execution_count": 11,
   "id": "613b48eb-fb7f-414a-b848-d3b084086d18",
   "metadata": {},
   "outputs": [
    {
     "data": {
      "text/plain": [
       "(63897, 16)"
      ]
     },
     "execution_count": 11,
     "metadata": {},
     "output_type": "execute_result"
    }
   ],
   "source": [
    "all_reports.shape"
   ]
  },
  {
   "cell_type": "code",
   "execution_count": 12,
   "id": "a528a7c7-4b82-432a-b364-6323f5168cd7",
   "metadata": {},
   "outputs": [
    {
     "data": {
      "text/plain": [
       "3    20140\n",
       "0    15935\n",
       "1    15396\n",
       "4     9188\n",
       "2     3238\n",
       "Name: overall_response_factor, dtype: int64"
      ]
     },
     "execution_count": 12,
     "metadata": {},
     "output_type": "execute_result"
    }
   ],
   "source": [
    "all_reports.overall_response_factor.value_counts()"
   ]
  },
  {
   "cell_type": "code",
   "execution_count": 13,
   "id": "05c66025-73f3-459a-a356-86c99ab29def",
   "metadata": {},
   "outputs": [
    {
     "data": {
      "text/plain": [
       "SD    20140\n",
       "BL    15935\n",
       "PR    15396\n",
       "PD     9188\n",
       "CR     3238\n",
       "Name: overall_response, dtype: int64"
      ]
     },
     "execution_count": 13,
     "metadata": {},
     "output_type": "execute_result"
    }
   ],
   "source": [
    "all_reports.overall_response.value_counts()"
   ]
  },
  {
   "cell_type": "code",
   "execution_count": 14,
   "id": "ee805503-796a-44d9-a3d7-05d8bebe80a0",
   "metadata": {},
   "outputs": [
    {
     "name": "stdout",
     "output_type": "stream",
     "text": [
      " 0    38774\n",
      "-1    15935\n",
      " 1     9188\n",
      "Name: outcome, dtype: int64\n",
      "0    45263\n",
      "1    18634\n",
      "Name: prcr_true, dtype: int64\n",
      "0    54709\n",
      "1     9188\n",
      "Name: pd_true, dtype: int64\n",
      " 0    38774\n",
      "-1    12630\n",
      " 1     9188\n",
      "Name: outcome, dtype: int64\n",
      "0    41958\n",
      "1    18634\n",
      "Name: prcr_true, dtype: int64\n",
      "0    51404\n",
      "1     9188\n",
      "Name: pd_true, dtype: int64\n"
     ]
    }
   ],
   "source": [
    "all_reports['prcr_true'] = np.where(all_reports.overall_response.isin(['PR','CR']), 1, 0)\n",
    "all_reports['pd_true'] = np.where(all_reports.overall_response == 'PD', 1, 0)\n",
    "\n",
    "# baseline scans get coded as -1 for both the PD and PRCR outcomes.\n",
    "all_reports['outcome'] = np.where(all_reports.overall_response == 'BL', -1, 0)\n",
    "all_reports['outcome'] = np.where(all_reports[outcome]==1, 1, all_reports['outcome'])\n",
    "print(all_reports.outcome.value_counts())\n",
    "print(all_reports.prcr_true.value_counts())\n",
    "print(all_reports.pd_true.value_counts())\n",
    "all_reports['is_bl'] = np.where(all_reports.overall_response == 'BL', True, False)\n",
    "\n",
    "good_obs = all_reports.groupby('obs').is_bl.all().reset_index()\n",
    "good_obs = good_obs[good_obs.is_bl == False]\n",
    "\n",
    "all_reports = pd.merge(all_reports, good_obs[['obs']], on='obs')\n",
    "\n",
    "print(all_reports.outcome.value_counts())\n",
    "print(all_reports.prcr_true.value_counts())\n",
    "print(all_reports.pd_true.value_counts())"
   ]
  },
  {
   "cell_type": "code",
   "execution_count": null,
   "id": "29d5fd21-553a-4e27-b8c3-b48807258a60",
   "metadata": {},
   "outputs": [],
   "source": []
  },
  {
   "cell_type": "code",
   "execution_count": 15,
   "id": "fbefd74e",
   "metadata": {},
   "outputs": [],
   "source": [
    "training = all_reports[all_reports['split'] == 'train']\n",
    "validation = all_reports[all_reports['split'] == 'validation']\n",
    "test = all_reports[all_reports['split'] == 'test']"
   ]
  },
  {
   "cell_type": "code",
   "execution_count": null,
   "id": "cc7ea541-53fc-48cb-b26b-78c0dae796d3",
   "metadata": {},
   "outputs": [],
   "source": []
  },
  {
   "cell_type": "code",
   "execution_count": null,
   "id": "5821a19f-131c-4c92-b362-ae91e8dabf93",
   "metadata": {},
   "outputs": [],
   "source": []
  },
  {
   "cell_type": "code",
   "execution_count": 16,
   "id": "90ae486f-c5c2-4178-b872-666f943a1f64",
   "metadata": {},
   "outputs": [],
   "source": [
    "from torch.utils import data\n",
    "import torch.nn.functional as F\n",
    "from transformers import AutoTokenizer\n",
    "\n",
    "class RecistDataset(data.Dataset):\n",
    "    def __init__(self, pandas_dataset):\n",
    "        self.data = pandas_dataset\n",
    "        self.max_doc_len = 512\n",
    "        self.tokenizer = AutoTokenizer.from_pretrained(\"medicalai/ClinicalBERT\")\n",
    "        self.observations = self.data.obs.unique()\n",
    "        \n",
    "    def __len__(self):\n",
    "        # how many observations (pt-trial combos) in the dataset\n",
    "        return len(self.observations)\n",
    "    \n",
    "    def __getitem__(self, index):\n",
    "        # get data for observation corresponding to index passed\n",
    "        thisobs = self.observations[index]\n",
    "        obs = self.data[self.data.obs == thisobs].copy().reset_index(drop=True)\n",
    "        \n",
    "        obs['date'] = pd.to_datetime(obs['date'])\n",
    "        obs = obs.sort_values(by=['date'])\n",
    "\n",
    "        start_times = torch.tensor(obs.time / 365, dtype=torch.float32)\n",
    "\n",
    "    \n",
    "        y_outcome = torch.tensor(obs['outcome'], dtype=torch.float32)\n",
    "\n",
    "        text = obs.text.tolist()\n",
    "        \n",
    "        \n",
    "        encoded_list = self.tokenizer(text, padding='max_length', max_length=self.max_doc_len, truncation=True)\n",
    "        input_ids = torch.tensor(encoded_list['input_ids'], dtype=torch.long)\n",
    "        attention_mask = torch.tensor(encoded_list['attention_mask'], dtype=torch.long) \n",
    "        \n",
    "        return input_ids, attention_mask, start_times, y_outcome\n",
    "\n",
    "    \n",
    "\n",
    "        "
   ]
  },
  {
   "cell_type": "code",
   "execution_count": 17,
   "id": "30a9e58e-619f-4ded-98af-79dbb2b0be45",
   "metadata": {},
   "outputs": [
    {
     "data": {
      "text/plain": [
       "tensor([ True,  True, False, False, False, False])"
      ]
     },
     "execution_count": 17,
     "metadata": {},
     "output_type": "execute_result"
    }
   ],
   "source": [
    "torch.isin(torch.tensor([1,1,4,4,5,5]), torch.unique(torch.tensor([3,2,1])))"
   ]
  },
  {
   "cell_type": "code",
   "execution_count": 18,
   "id": "f5dc5bc7-a610-4baf-af09-bb8148af2b78",
   "metadata": {},
   "outputs": [],
   "source": [
    "#model \n",
    "import math\n",
    "from transformers import AutoModel\n",
    "from torch.nn import functional as F\n",
    "import torch.nn as nn\n",
    "from torch import Tensor\n",
    "from torch.utils.data import DataLoader\n",
    "from torch.nn import LSTM, Linear, Embedding, Conv1d, MaxPool1d, GRU, LSTMCell, GRUCell, Dropout, AdaptiveMaxPool1d\n",
    "from recistmodels import HTransformer\n",
    "    \n",
    "    \n",
    "\n",
    "###### from: https://pytorch.org/tutorials/beginner/transformer_tutorial.html\n",
    "class PositionalEncoding(nn.Module):\n",
    "\n",
    "    def __init__(self, d_model: int, dropout: float = 0.0, max_len: int = 150):\n",
    "        super().__init__()\n",
    "        self.dropout = nn.Dropout(p=dropout)\n",
    "\n",
    "        position = torch.arange(max_len).unsqueeze(1)\n",
    "        div_term = torch.exp(torch.arange(0, d_model, 2) * (-math.log(10000.0) / d_model))\n",
    "        pe = torch.zeros(max_len, 1, d_model)\n",
    "        pe[:, 0, 0::2] = torch.sin(position * div_term)\n",
    "        pe[:, 0, 1::2] = torch.cos(position * div_term)\n",
    "        self.register_buffer('pe', pe)\n",
    "\n",
    "    def forward(self, x: Tensor) -> Tensor:\n",
    "        \"\"\"\n",
    "        Arguments:\n",
    "            x: Tensor, shape ``[seq_len, batch_size, embedding_dim]``\n",
    "        \"\"\"\n",
    "        x = x + self.pe[:x.size(0)]\n",
    "        return self.dropout(x)"
   ]
  },
  {
   "cell_type": "code",
   "execution_count": 19,
   "id": "b625b4cd-956b-4054-aeeb-29685c8b38f9",
   "metadata": {},
   "outputs": [],
   "source": [
    "    \n",
    "class RecistModel(nn.Module):\n",
    "\n",
    "\n",
    "    def __init__(self):\n",
    "        super(RecistModel, self).__init__()\n",
    "        \n",
    "        self.day_tensor_dim = 768\n",
    "        self.per_doc_hidden_dim = 256\n",
    "        \n",
    "        self.final_hidden_dim = 128\n",
    "        self.class_output_dim=1\n",
    "      \n",
    "        self.note_bert = AutoModel.from_pretrained('medicalai/ClinicalBERT')\n",
    "            \n",
    "        self.per_doc_hidden = Linear(self.day_tensor_dim, self.per_doc_hidden_dim)\n",
    "        \n",
    "        self.day_transformer = HTransformer(emb=self.per_doc_hidden_dim, heads=4, depth=1)\n",
    "        \n",
    "        self.day_position_encoding = PositionalEncoding(self.per_doc_hidden_dim)\n",
    "        \n",
    "        self.final_hidden = Linear(self.per_doc_hidden_dim, self.final_hidden_dim)\n",
    "        \n",
    "        self.recist_out = Linear(self.final_hidden_dim, self.class_output_dim)\n",
    "\n",
    "        \n",
    "\n",
    "        \n",
    "\n",
    "    def forward(self, input_ids, mask, start_times):\n",
    "\n",
    "        \n",
    "        input_ids = input_ids.squeeze(0)\n",
    "        mask = mask.squeeze(0)\n",
    "        start_times = start_times.squeeze(0) # now (num_docs,)\n",
    "        \n",
    "        # figure out unique start times.\n",
    "        unique_start_times = torch.unique(start_times)\n",
    "        \n",
    "        # restrict to first 20 unique times for training tractability\n",
    "        unique_start_times = unique_start_times[0:20]\n",
    "        input_ids = input_ids[torch.isin(start_times, unique_start_times)]\n",
    "        mask = mask[torch.isin(start_times, unique_start_times)]\n",
    "        start_times = start_times[torch.isin(start_times, unique_start_times)]\n",
    "        \n",
    "        \n",
    "        main = self.note_bert(input_ids, mask)\n",
    "        main = main.last_hidden_state[:,0,:].squeeze(1)\n",
    "              \n",
    "        main = self.per_doc_hidden(main)\n",
    "\n",
    "        # batch = sequence_length, embedding\n",
    "        # permute to get position encoding along temporal dimension\n",
    "\n",
    "\n",
    "        # add a single batch dimension, then position encode, then remove batch dimension\n",
    "        main = main.unsqueeze(1)\n",
    "        main = self.day_position_encoding(main)\n",
    "        main = main.squeeze(1)\n",
    "        \n",
    "\n",
    "        \n",
    "        # loop over unique start times\n",
    "        day_tensor_list = []\n",
    "        for start_time in unique_start_times:\n",
    "            day_input = main[start_times == start_time]\n",
    "            \n",
    "            # batch of 1 axis back\n",
    "            day_input = day_input.unsqueeze(0)\n",
    "\n",
    "            day_output = torch.max(day_input, axis=1)[0]\n",
    "\n",
    "            day_tensor_list.append(day_output)\n",
    "        day_tensors = torch.cat(day_tensor_list)\n",
    "        \n",
    "\n",
    "\n",
    "        # batch axis back for hierarchical transformer\n",
    "        day_tensors = day_tensors.unsqueeze(0)\n",
    "        main = self.day_transformer(day_tensors)\n",
    "        main = self.final_hidden(main)\n",
    "        main = F.relu(main)\n",
    "        \n",
    "        # remove batch axis again\n",
    "        main = main.squeeze(0)\n",
    "        main = self.recist_out(main).squeeze(1)\n",
    "               \n",
    "        return main"
   ]
  },
  {
   "cell_type": "code",
   "execution_count": 20,
   "id": "6acf7b68-30db-48db-9d71-a2ce511e558b",
   "metadata": {},
   "outputs": [
    {
     "name": "stdout",
     "output_type": "stream",
     "text": [
      "(49019, 20)\n",
      "(5477, 20)\n",
      "(6096, 20)\n"
     ]
    }
   ],
   "source": [
    "training = training[training['text'].notna()]\n",
    "validation = validation[validation['text'].notna()]\n",
    "test = test[test['text'].notna()]\n",
    "print(training.shape)\n",
    "print(validation.shape)\n",
    "print(test.shape)"
   ]
  },
  {
   "cell_type": "code",
   "execution_count": 236,
   "id": "c3a1c382",
   "metadata": {},
   "outputs": [],
   "source": [
    "# train loop\n",
    "from transformers import get_scheduler, get_linear_schedule_with_warmup\n",
    "from torch.optim import AdamW, Adam\n",
    "\n",
    "def train_model(model, num_epochs, optimizer, trainloader, validloader):\n",
    "    \n",
    "    \n",
    "    import torch.optim as optim\n",
    "   \n",
    "    num_training_steps = num_epochs * len(trainloader)\n",
    "\n",
    "    clipping_norm = 5\n",
    "    noise_multiplier = 0.00001\n",
    "    \n",
    "    lr_scheduler = get_linear_schedule_with_warmup(optimizer, num_warmup_steps=0, num_training_steps = num_epochs * num_training_steps)  # PyTorch scheduler\n",
    "    \n",
    "    model.to(device)\n",
    "    \n",
    "    for epoch in range(num_epochs):  \n",
    "        running_train_main_loss = 0.0\n",
    "        mean_train_main_loss = 0.0\n",
    "\n",
    "        \n",
    "        running_val_main_loss = 0.0\n",
    "        mean_val_main_loss = 0.0\n",
    "\n",
    "        \n",
    "        num_train_batches = len(trainloader)\n",
    "                \n",
    "        model.train()\n",
    "\n",
    "        \n",
    "        for i, batch in enumerate(trainloader, 0):\n",
    "            ids, mask, s_times, y_true  = [x.to(device) for x in batch]\n",
    "            \n",
    "\n",
    "            \n",
    "            #unique_times = torch.unique(s_times)\n",
    "            # limit to 20 days for tractability\n",
    "            unique_times = torch.unique(s_times)[0:20]\n",
    "            ids = ids[torch.isin(s_times, unique_times)]\n",
    "            mask = mask[torch.isin(s_times, unique_times)]\n",
    "            y_true = y_true[torch.isin(s_times, unique_times)]\n",
    "            s_times = s_times[torch.isin(s_times, unique_times)]\n",
    "            \n",
    "\n",
    "            #get rid of batch1 axis from target labels\n",
    "            y_true = y_true.squeeze(0)\n",
    "\n",
    "\n",
    "            y_true_list = []\n",
    "            \n",
    "\n",
    " \n",
    "            for unique_time in unique_times:\n",
    "                y_true_list.append(y_true[s_times.squeeze(0) == unique_time][0,])\n",
    "           \n",
    "            y_true = torch.stack(y_true_list, dim=0)\n",
    "\n",
    "            optimizer.zero_grad()\n",
    "            pred_recist = model(ids, mask, s_times)\n",
    "            \n",
    "            y_true_use = y_true[y_true != -1]\n",
    "            pred_recist_use = pred_recist[y_true != -1]\n",
    "            \n",
    "    \n",
    "            \n",
    "            if(pred_recist_use.shape[0] > 0):\n",
    "                loss = F.binary_cross_entropy_with_logits(pred_recist_use, y_true_use)            \n",
    "                loss.backward()\n",
    "                \n",
    "                # Gradient Clipping -from openai o1-preview\n",
    "                total_norm = 0.0\n",
    "                for p in model.parameters():\n",
    "                    if p.grad is not None:\n",
    "                        param_norm = p.grad.data.norm(2)\n",
    "                        total_norm += param_norm.item() ** 2\n",
    "                total_norm = math.sqrt(total_norm)\n",
    "                \n",
    "                #print(total_norm)\n",
    "                clip_coef = clipping_norm / (total_norm + 1e-6)\n",
    "                #print(clip_coef )\n",
    "                # print(torch.isclose(list(model.parameters())[0].grad.data, torch.tensor(0.), 1e-11))\n",
    "                if clip_coef < 1.0:\n",
    "                    for p in model.parameters():\n",
    "                        p.grad.data.mul_(clip_coef)\n",
    "\n",
    "                \n",
    "                #print(noise_multiplier)\n",
    "                #print(clipping_norm)\n",
    "                #print(list(model.parameters())[0].grad.data)\n",
    "                #Add Gaussian Noise\n",
    "                for p in model.parameters():\n",
    "                    if p.grad is not None:\n",
    "                        noise = torch.normal(\n",
    "                            mean=0.0,\n",
    "                            std=noise_multiplier * clipping_norm,\n",
    "                            size=p.grad.data.shape,\n",
    "                            device=p.grad.data.device\n",
    "                        )\n",
    "                        p.grad.data.add_(noise)\n",
    "\n",
    "                optimizer.step()\n",
    "                lr_scheduler.step()\n",
    "            else:\n",
    "                loss = torch.tensor(0)\n",
    "            \n",
    "            running_train_main_loss += loss.data.cpu().numpy()\n",
    "            mean_train_main_loss = running_train_main_loss / (i+1)\n",
    "\n",
    "            del ids, mask, s_times, y_true, pred_recist\n",
    "                \n",
    "            # print statistics\n",
    "            print('Epoch: ' + str(epoch+1) + ', batch: ' + str(i + 1) + '/' + str(num_train_batches) + ', main train loss: ' + str(mean_train_main_loss), end='\\r', flush=True)\n",
    "\n",
    "\n",
    "             \n",
    "        print('')\n",
    "            \n",
    "        if validloader is not None:\n",
    "            # validate\n",
    "            valid_batches = len(validloader)\n",
    "\n",
    "            model.eval()\n",
    "\n",
    "            for j, vbatch in enumerate(validloader, 0):\n",
    "\n",
    "                ids, mask, s_times, y_true  = [x.to(device) for x in vbatch]\n",
    "                \n",
    "\n",
    "                \n",
    "                #unique_times = torch.unique(s_times)\n",
    "                # limit to 20 days for tractability\n",
    "                unique_times = torch.unique(s_times)[0:20]\n",
    "                ids = ids[torch.isin(s_times, unique_times)]\n",
    "                mask = mask[torch.isin(s_times, unique_times)]\n",
    "                y_true = y_true[torch.isin(s_times, unique_times)]\n",
    "                s_times = s_times[torch.isin(s_times, unique_times)]\n",
    "\n",
    "                #get rid of batch1 axis from target labels\n",
    "                y_true = y_true.squeeze(0)\n",
    "\n",
    "                y_true_list = []\n",
    "\n",
    "                unique_times = torch.unique(s_times)\n",
    "                for unique_time in unique_times:\n",
    "                    y_true_list.append(y_true[s_times.squeeze(0) == unique_time][0,])\n",
    "\n",
    "                y_true = torch.stack(y_true_list, dim=0)\n",
    "\n",
    "                with torch.no_grad():\n",
    "                    pred_recist = model(ids, mask, s_times)\n",
    "            \n",
    "                y_true_use = y_true[y_true != -1]\n",
    "                pred_recist_use = pred_recist[y_true != -1]\n",
    "\n",
    "                if(pred_recist_use.shape[0] > 0):\n",
    "                    loss = F.binary_cross_entropy_with_logits(pred_recist_use, y_true_use)\n",
    "                else:\n",
    "                    loss = torch.tensor(0)\n",
    "\n",
    "                running_val_main_loss += loss.data.cpu().numpy()\n",
    "                \n",
    "                del ids, mask, s_times, y_true, pred_recist\n",
    "            mean_val_main_loss = running_val_main_loss / (j+1)\n",
    "\n",
    "            print('Epoch: ' + str(epoch+1) + ', main val loss: ' + str(mean_val_main_loss), end='\\r', flush=True)\n",
    "        print('')\n",
    "    \n",
    "\n"
   ]
  },
  {
   "cell_type": "code",
   "execution_count": 237,
   "id": "5edeaa88",
   "metadata": {},
   "outputs": [
    {
     "name": "stderr",
     "output_type": "stream",
     "text": [
      "/home/klkehl/miniconda3/envs/pytorch2/lib/python3.10/site-packages/torch/_utils.py:776: UserWarning: TypedStorage is deprecated. It will be removed in the future and UntypedStorage will be the only storage class. This should only matter to you if you are using storages directly.  To access UntypedStorage directly, use tensor.untyped_storage() instead of tensor.storage()\n",
      "  return self.fget.__get__(instance, owner)()\n"
     ]
    }
   ],
   "source": [
    "themodel = RecistModel().to(device)\n",
    "optimizer = AdamW(themodel.parameters(), lr=1e-6, weight_decay=1e-3)\n",
    "\n",
    "trainloader = data.DataLoader(RecistDataset(training.reset_index(drop=True)), \n",
    "                              batch_size=1, \n",
    "                              num_workers=0, \n",
    "                              shuffle=True)\n",
    "\n"
   ]
  },
  {
   "cell_type": "code",
   "execution_count": null,
   "id": "7226ed2d-87ed-4be8-97db-be6d0a318179",
   "metadata": {},
   "outputs": [],
   "source": []
  },
  {
   "cell_type": "code",
   "execution_count": 238,
   "id": "2661059b-9fdd-4a37-81b9-a50b9d2562ec",
   "metadata": {},
   "outputs": [
    {
     "name": "stdout",
     "output_type": "stream",
     "text": [
      "[torch.Size([1, 9, 512]), torch.Size([1, 9, 512]), torch.Size([1, 9]), torch.Size([1, 9])]\n"
     ]
    }
   ],
   "source": [
    "temp = iter(trainloader)\n",
    "print([x.shape for x in next(temp)])"
   ]
  },
  {
   "cell_type": "code",
   "execution_count": 239,
   "id": "5fa92640-8fca-41c3-9292-a9dbf073e900",
   "metadata": {},
   "outputs": [],
   "source": [
    "validloader = data.DataLoader(RecistDataset(validation.reset_index(drop=True)), batch_size=1, num_workers=2, shuffle=True)"
   ]
  },
  {
   "cell_type": "code",
   "execution_count": 240,
   "id": "f0c6fa3b-5fca-4621-8581-ec6ff8333c58",
   "metadata": {},
   "outputs": [
    {
     "name": "stdout",
     "output_type": "stream",
     "text": [
      "Epoch: 1, batch: 4595/4595, main train loss: 0.6586354006361524\n",
      "Epoch: 1, main val loss: 0.6821245044010921\n",
      "Epoch: 2, batch: 4595/4595, main train loss: 0.5159361536844641\n",
      "Epoch: 2, main val loss: 0.488237330838498\n",
      "Epoch: 3, batch: 4595/4595, main train loss: 0.46159398580604394\n",
      "Epoch: 3, main val loss: 0.4965349579587633\n",
      "Epoch: 4, batch: 4595/4595, main train loss: 0.45120051615669825\n",
      "Epoch: 4, main val loss: 0.48936293508344586\n",
      "Epoch: 5, batch: 4595/4595, main train loss: 0.43070412933364335\n",
      "Epoch: 5, main val loss: 0.48811459835564747\n"
     ]
    }
   ],
   "source": [
    "train_model(themodel,5, optimizer, trainloader, validloader)\n",
    "\n",
    "torch.save(themodel.state_dict(), prefix+'./recist_bert_htransformer_diffpriv_pd.pt')"
   ]
  },
  {
   "cell_type": "code",
   "execution_count": 241,
   "id": "94989161",
   "metadata": {},
   "outputs": [
    {
     "name": "stdout",
     "output_type": "stream",
     "text": [
      "<class 'pandas.core.frame.DataFrame'>\n",
      "Int64Index: 5477 entries, 44 to 60447\n",
      "Data columns (total 20 columns):\n",
      " #   Column                   Non-Null Count  Dtype         \n",
      "---  ------                   --------------  -----         \n",
      " 0   Unnamed: 0               5477 non-null   int64         \n",
      " 1   dfci_mrn                 5477 non-null   int64         \n",
      " 2   date                     5477 non-null   datetime64[ns]\n",
      " 3   report_text              5477 non-null   object        \n",
      " 4   protocol                 5477 non-null   object        \n",
      " 5   overall_response         5477 non-null   object        \n",
      " 6   narrative_text           5476 non-null   object        \n",
      " 7   impression_text          3255 non-null   object        \n",
      " 8   drop_this_obs            5477 non-null   bool          \n",
      " 9   split                    5477 non-null   object        \n",
      " 10  obs                      5477 non-null   int64         \n",
      " 11  overall_response_factor  5477 non-null   int64         \n",
      " 12  report_length            5477 non-null   int64         \n",
      " 13  text                     5477 non-null   object        \n",
      " 14  starttime                5477 non-null   datetime64[ns]\n",
      " 15  time                     5477 non-null   int64         \n",
      " 16  prcr_true                5477 non-null   int64         \n",
      " 17  pd_true                  5477 non-null   int64         \n",
      " 18  outcome                  5477 non-null   int64         \n",
      " 19  is_bl                    5477 non-null   bool          \n",
      "dtypes: bool(2), datetime64[ns](2), int64(9), object(7)\n",
      "memory usage: 823.7+ KB\n"
     ]
    }
   ],
   "source": [
    "validation.info()"
   ]
  },
  {
   "cell_type": "code",
   "execution_count": 242,
   "id": "7d287a8c",
   "metadata": {},
   "outputs": [
    {
     "name": "stdout",
     "output_type": "stream",
     "text": [
      "<class 'pandas.core.frame.DataFrame'>\n",
      "Int64Index: 5477 entries, 44 to 60447\n",
      "Data columns (total 20 columns):\n",
      " #   Column                   Non-Null Count  Dtype         \n",
      "---  ------                   --------------  -----         \n",
      " 0   Unnamed: 0               5477 non-null   int64         \n",
      " 1   dfci_mrn                 5477 non-null   int64         \n",
      " 2   date                     5477 non-null   datetime64[ns]\n",
      " 3   report_text              5477 non-null   object        \n",
      " 4   protocol                 5477 non-null   object        \n",
      " 5   overall_response         5477 non-null   object        \n",
      " 6   narrative_text           5476 non-null   object        \n",
      " 7   impression_text          3255 non-null   object        \n",
      " 8   drop_this_obs            5477 non-null   bool          \n",
      " 9   split                    5477 non-null   object        \n",
      " 10  obs                      5477 non-null   int64         \n",
      " 11  overall_response_factor  5477 non-null   int64         \n",
      " 12  report_length            5477 non-null   int64         \n",
      " 13  text                     5477 non-null   object        \n",
      " 14  starttime                5477 non-null   datetime64[ns]\n",
      " 15  time                     5477 non-null   int64         \n",
      " 16  prcr_true                5477 non-null   int64         \n",
      " 17  pd_true                  5477 non-null   int64         \n",
      " 18  outcome                  5477 non-null   int64         \n",
      " 19  is_bl                    5477 non-null   bool          \n",
      "dtypes: bool(2), datetime64[ns](2), int64(9), object(7)\n",
      "memory usage: 823.7+ KB\n"
     ]
    }
   ],
   "source": [
    "validation_day_text = validation.copy()\n",
    "validation_day_text['text'] = validation_day_text.text.astype(str)\n",
    "validation_day_text.info()"
   ]
  },
  {
   "cell_type": "code",
   "execution_count": 243,
   "id": "db75ce91",
   "metadata": {},
   "outputs": [
    {
     "name": "stdout",
     "output_type": "stream",
     "text": [
      "<class 'pandas.core.frame.DataFrame'>\n",
      "RangeIndex: 2461 entries, 0 to 2460\n",
      "Data columns (total 21 columns):\n",
      " #   Column                   Non-Null Count  Dtype         \n",
      "---  ------                   --------------  -----         \n",
      " 0   obs                      2461 non-null   int64         \n",
      " 1   dfci_mrn                 2461 non-null   int64         \n",
      " 2   time                     2461 non-null   int64         \n",
      " 3   Unnamed: 0               2461 non-null   int64         \n",
      " 4   date                     2461 non-null   datetime64[ns]\n",
      " 5   report_text              2461 non-null   object        \n",
      " 6   protocol                 2461 non-null   object        \n",
      " 7   overall_response         2461 non-null   object        \n",
      " 8   narrative_text           2461 non-null   object        \n",
      " 9   impression_text          1809 non-null   object        \n",
      " 10  drop_this_obs            2461 non-null   bool          \n",
      " 11  split                    2461 non-null   object        \n",
      " 12  overall_response_factor  2461 non-null   int64         \n",
      " 13  report_length            2461 non-null   int64         \n",
      " 14  text                     2461 non-null   object        \n",
      " 15  starttime                2461 non-null   datetime64[ns]\n",
      " 16  prcr_true                2461 non-null   int64         \n",
      " 17  pd_true                  2461 non-null   int64         \n",
      " 18  outcome                  2461 non-null   int64         \n",
      " 19  is_bl                    2461 non-null   bool          \n",
      " 20  timepoint_id             2461 non-null   int64         \n",
      "dtypes: bool(2), datetime64[ns](2), int64(10), object(7)\n",
      "memory usage: 370.2+ KB\n"
     ]
    }
   ],
   "source": [
    "validation_day_text = validation_day_text.sort_values(by=['obs','dfci_mrn','time'])\n",
    "\n",
    "validation_day_text['text'] = validation_day_text.groupby(['obs','dfci_mrn','time'])['text'].transform(lambda x: ' '.join(x))\n",
    "validation_day_text = validation_day_text.groupby(['obs','dfci_mrn','time']).first().reset_index()\n",
    "validation_day_text['timepoint_id'] = validation_day_text.groupby(['obs']).cumcount()\n",
    "validation_day_text = validation_day_text[validation_day_text.timepoint_id < 20]\n",
    "output = validation_day_text.reset_index(drop=True)\n",
    "output.info()"
   ]
  },
  {
   "cell_type": "code",
   "execution_count": 244,
   "id": "38525c7d",
   "metadata": {},
   "outputs": [
    {
     "data": {
      "text/plain": [
       "0    2036\n",
       "1     425\n",
       "Name: pd_true, dtype: int64"
      ]
     },
     "execution_count": 244,
     "metadata": {},
     "output_type": "execute_result"
    }
   ],
   "source": [
    "validation_day_text.pd_true.value_counts()"
   ]
  },
  {
   "cell_type": "code",
   "execution_count": 245,
   "id": "70c159f6",
   "metadata": {},
   "outputs": [
    {
     "data": {
      "text/plain": [
       " 0    1550\n",
       "-1     486\n",
       " 1     425\n",
       "Name: outcome, dtype: int64"
      ]
     },
     "execution_count": 245,
     "metadata": {},
     "output_type": "execute_result"
    }
   ],
   "source": [
    "validation_day_text.outcome.value_counts()"
   ]
  },
  {
   "cell_type": "code",
   "execution_count": 246,
   "id": "d28b7cbf-a0dc-457b-b9ac-ca3c10af6f77",
   "metadata": {},
   "outputs": [
    {
     "data": {
      "text/plain": [
       " 0    38774\n",
       "-1    12630\n",
       " 1     9188\n",
       "Name: outcome, dtype: int64"
      ]
     },
     "execution_count": 246,
     "metadata": {},
     "output_type": "execute_result"
    }
   ],
   "source": [
    "all_reports.outcome.value_counts()"
   ]
  },
  {
   "cell_type": "code",
   "execution_count": 224,
   "id": "888df18e-a88b-40ae-8f6d-0e65eb6b166a",
   "metadata": {},
   "outputs": [
    {
     "name": "stderr",
     "output_type": "stream",
     "text": [
      "/home/klkehl/miniconda3/envs/pytorch2/lib/python3.10/site-packages/torch/_utils.py:776: UserWarning: TypedStorage is deprecated. It will be removed in the future and UntypedStorage will be the only storage class. This should only matter to you if you are using storages directly.  To access UntypedStorage directly, use tensor.untyped_storage() instead of tensor.storage()\n",
      "  return self.fget.__get__(instance, owner)()\n"
     ]
    }
   ],
   "source": [
    "# write out actual validation dataset\n",
    "themodel = RecistModel()\n",
    "themodel.load_state_dict(torch.load(prefix+'./recist_bert_htransformer_diffpriv_pd.pt'))\n",
    "themodel.to(device)\n",
    "\n",
    "no_shuffle_valid_dataset = data.DataLoader(RecistDataset(validation.sort_values(by=['obs','time'])), batch_size=1, shuffle=False, num_workers=0)\n",
    "\n",
    "dflist = []\n",
    "for ids, mask, s_times, y_true in no_shuffle_valid_dataset:\n",
    "    thisframe = pd.DataFrame()\n",
    "    \n",
    "    #unique_times = torch.unique(s_times)\n",
    "    # limit to 20 days for tractability\n",
    "    unique_times = torch.unique(s_times)[0:20]\n",
    "    ids = ids[torch.isin(s_times, unique_times)]\n",
    "    mask = mask[torch.isin(s_times, unique_times)]\n",
    "    y_true = y_true[torch.isin(s_times, unique_times)]\n",
    "    s_times = s_times[torch.isin(s_times, unique_times)]\n",
    "\n",
    "    #get rid of batch1 axis from target labels\n",
    "    y_true = y_true.squeeze(0)\n",
    "\n",
    "    y_true_list = []\n",
    "\n",
    "    unique_times = torch.unique(s_times)\n",
    "    for unique_time in unique_times:\n",
    "        y_true_list.append(y_true[s_times.squeeze(0) == unique_time][0,])\n",
    "\n",
    "    y_true = torch.stack(y_true_list, dim=0)\n",
    "    \n",
    "    with torch.no_grad():\n",
    "        y_pred = themodel(ids.to(device), mask.to(device), s_times.to(device))\n",
    "        \n",
    "    thisframe = pd.DataFrame(y_pred.cpu().detach().numpy(), columns=['pd_pred'])\n",
    "  \n",
    "    dflist.append(thisframe)\n",
    "    \n",
    "resultframe = pd.concat(dflist, axis=0)\n",
    "resultframe = resultframe.reset_index(drop=True)\n",
    "    "
   ]
  },
  {
   "cell_type": "code",
   "execution_count": 225,
   "id": "8fc85426-10e4-44a9-afc6-adf036f1ed37",
   "metadata": {},
   "outputs": [
    {
     "name": "stdout",
     "output_type": "stream",
     "text": [
      "(2461, 21)\n",
      "(2461, 1)\n"
     ]
    }
   ],
   "source": [
    "# only first 20 timepoints per patient\n",
    "print(output.shape)\n",
    "print(resultframe.shape)\n",
    "\n",
    "\n",
    "valid_output = pd.concat([output, resultframe], axis=1)\n",
    "valid_output = valid_output.sort_values(by=['obs','dfci_mrn', 'date']).reset_index(drop=True)"
   ]
  },
  {
   "cell_type": "code",
   "execution_count": 226,
   "id": "6208c388-ef0b-47ea-8f39-c33ab2164b43",
   "metadata": {},
   "outputs": [
    {
     "name": "stdout",
     "output_type": "stream",
     "text": [
      "<class 'pandas.core.frame.DataFrame'>\n",
      "RangeIndex: 2461 entries, 0 to 2460\n",
      "Data columns (total 21 columns):\n",
      " #   Column                   Non-Null Count  Dtype         \n",
      "---  ------                   --------------  -----         \n",
      " 0   obs                      2461 non-null   int64         \n",
      " 1   dfci_mrn                 2461 non-null   int64         \n",
      " 2   time                     2461 non-null   int64         \n",
      " 3   Unnamed: 0               2461 non-null   int64         \n",
      " 4   date                     2461 non-null   datetime64[ns]\n",
      " 5   report_text              2461 non-null   object        \n",
      " 6   protocol                 2461 non-null   object        \n",
      " 7   overall_response         2461 non-null   object        \n",
      " 8   narrative_text           2461 non-null   object        \n",
      " 9   impression_text          1809 non-null   object        \n",
      " 10  drop_this_obs            2461 non-null   bool          \n",
      " 11  split                    2461 non-null   object        \n",
      " 12  overall_response_factor  2461 non-null   int64         \n",
      " 13  report_length            2461 non-null   int64         \n",
      " 14  text                     2461 non-null   object        \n",
      " 15  starttime                2461 non-null   datetime64[ns]\n",
      " 16  prcr_true                2461 non-null   int64         \n",
      " 17  pd_true                  2461 non-null   int64         \n",
      " 18  outcome                  2461 non-null   int64         \n",
      " 19  is_bl                    2461 non-null   bool          \n",
      " 20  timepoint_id             2461 non-null   int64         \n",
      "dtypes: bool(2), datetime64[ns](2), int64(10), object(7)\n",
      "memory usage: 370.2+ KB\n"
     ]
    }
   ],
   "source": [
    "output.info()"
   ]
  },
  {
   "cell_type": "code",
   "execution_count": 227,
   "id": "5c9df69a",
   "metadata": {},
   "outputs": [],
   "source": [
    "valid_output = valid_output.sort_values(by=['obs','dfci_mrn', 'date']).reset_index(drop=True)\n",
    "\n",
    "\n",
    "#valid_output.to_csv(prefix+'./validation_set_output_pd.csv')"
   ]
  },
  {
   "cell_type": "code",
   "execution_count": 228,
   "id": "5e2ef256",
   "metadata": {},
   "outputs": [],
   "source": [
    "import seaborn as sns\n",
    "import pandas as pd\n",
    "import numpy as np\n",
    "#valid_output = pd.read_csv(prefix+'./validation_set_output_pd.csv')\n"
   ]
  },
  {
   "cell_type": "code",
   "execution_count": 229,
   "id": "b93dec6c",
   "metadata": {},
   "outputs": [
    {
     "name": "stderr",
     "output_type": "stream",
     "text": [
      "/tmp/ipykernel_19379/1034618822.py:2: UserWarning: \n",
      "\n",
      "`distplot` is a deprecated function and will be removed in seaborn v0.14.0.\n",
      "\n",
      "Please adapt your code to use either `displot` (a figure-level function with\n",
      "similar flexibility) or `histplot` (an axes-level function for histograms).\n",
      "\n",
      "For a guide to updating your code to use the new functions, please see\n",
      "https://gist.github.com/mwaskom/de44147ed2974457ad6372750bbe5751\n",
      "\n",
      "  sns.distplot(valid_output.query('pd_true==1').pd_pred)\n",
      "/tmp/ipykernel_19379/1034618822.py:3: UserWarning: \n",
      "\n",
      "`distplot` is a deprecated function and will be removed in seaborn v0.14.0.\n",
      "\n",
      "Please adapt your code to use either `displot` (a figure-level function with\n",
      "similar flexibility) or `histplot` (an axes-level function for histograms).\n",
      "\n",
      "For a guide to updating your code to use the new functions, please see\n",
      "https://gist.github.com/mwaskom/de44147ed2974457ad6372750bbe5751\n",
      "\n",
      "  sns.distplot(valid_output.query('pd_true==0').pd_pred)\n"
     ]
    },
    {
     "data": {
      "text/plain": [
       "<Axes: xlabel='pd_pred', ylabel='Density'>"
      ]
     },
     "execution_count": 229,
     "metadata": {},
     "output_type": "execute_result"
    },
    {
     "data": {
      "image/png": "[encoded data removed]",
      "text/plain": [
       "<Figure size 640x480 with 1 Axes>"
      ]
     },
     "metadata": {},
     "output_type": "display_data"
    }
   ],
   "source": [
    "import seaborn as sns\n",
    "sns.distplot(valid_output.query('pd_true==1').pd_pred)\n",
    "sns.distplot(valid_output.query('pd_true==0').pd_pred)\n"
   ]
  },
  {
   "cell_type": "code",
   "execution_count": 230,
   "id": "db12616f-bc10-42e0-8871-72ddd7c0ecd3",
   "metadata": {},
   "outputs": [
    {
     "name": "stderr",
     "output_type": "stream",
     "text": [
      "/tmp/ipykernel_19379/276717808.py:2: UserWarning: \n",
      "\n",
      "`distplot` is a deprecated function and will be removed in seaborn v0.14.0.\n",
      "\n",
      "Please adapt your code to use either `displot` (a figure-level function with\n",
      "similar flexibility) or `histplot` (an axes-level function for histograms).\n",
      "\n",
      "For a guide to updating your code to use the new functions, please see\n",
      "https://gist.github.com/mwaskom/de44147ed2974457ad6372750bbe5751\n",
      "\n",
      "  sns.distplot(valid_output.query('pd_true==1').pd_pred)\n",
      "/tmp/ipykernel_19379/276717808.py:3: UserWarning: \n",
      "\n",
      "`distplot` is a deprecated function and will be removed in seaborn v0.14.0.\n",
      "\n",
      "Please adapt your code to use either `displot` (a figure-level function with\n",
      "similar flexibility) or `histplot` (an axes-level function for histograms).\n",
      "\n",
      "For a guide to updating your code to use the new functions, please see\n",
      "https://gist.github.com/mwaskom/de44147ed2974457ad6372750bbe5751\n",
      "\n",
      "  sns.distplot(valid_output.query('pd_true==0').pd_pred)\n"
     ]
    },
    {
     "data": {
      "text/plain": [
       "<Axes: xlabel='pd_pred', ylabel='Density'>"
      ]
     },
     "execution_count": 230,
     "metadata": {},
     "output_type": "execute_result"
    },
    {
     "data": {
      "image/png": "[encoded data removed]",
      "text/plain": [
       "<Figure size 640x480 with 1 Axes>"
      ]
     },
     "metadata": {},
     "output_type": "display_data"
    }
   ],
   "source": [
    "valid_output= valid_output[valid_output.overall_response != 'BL']\n",
    "sns.distplot(valid_output.query('pd_true==1').pd_pred)\n",
    "sns.distplot(valid_output.query('pd_true==0').pd_pred)\n"
   ]
  },
  {
   "cell_type": "code",
   "execution_count": 231,
   "id": "e26b227a",
   "metadata": {},
   "outputs": [],
   "source": [
    "from sklearn.metrics import roc_auc_score\n",
    "import matplotlib as plt\n",
    "\n",
    "%matplotlib inline"
   ]
  },
  {
   "cell_type": "code",
   "execution_count": 232,
   "id": "830296da",
   "metadata": {},
   "outputs": [],
   "source": [
    "\n",
    "\n",
    "# helper functions for performance evaluation\n",
    "\n",
    "\n",
    "def plot_confusion_matrix(cm, classes,\n",
    "                          normalize=False,\n",
    "                          title='Confusion matrix',\n",
    "                          cmap=plt.cm.Blues):\n",
    "    \"\"\"\n",
    "    This function prints and plots the confusion matrix.\n",
    "    Normalization can be applied by setting `normalize=True`.\n",
    "    \"\"\"\n",
    "\n",
    "    import itertools\n",
    "    import numpy as np\n",
    "\n",
    "    from sklearn.metrics import confusion_matrix\n",
    "  \n",
    "    if normalize:\n",
    "        cm = cm.astype('float') / cm.sum(axis=1)[:, np.newaxis]\n",
    "        print(\"Normalized confusion matrix\")\n",
    "    else:\n",
    "        print('Confusion matrix, without normalization')\n",
    "\n",
    "    print(cm)\n",
    "\n",
    "    plt.imshow(cm, interpolation='nearest', cmap=cmap)\n",
    "    plt.title(title)\n",
    "    plt.colorbar()\n",
    "    tick_marks = np.arange(len(classes))\n",
    "    plt.xticks(tick_marks, classes, rotation=45)\n",
    "    plt.yticks(tick_marks, classes)\n",
    "\n",
    "    fmt = '.2f' if normalize else 'd'\n",
    "    thresh = cm.max() / 2.\n",
    "    for i, j in itertools.product(range(cm.shape[0]), range(cm.shape[1])):\n",
    "        plt.text(j, i, format(cm[i, j], fmt),\n",
    "                 horizontalalignment=\"center\",\n",
    "                 color=\"white\" if cm[i, j] > thresh else \"black\")\n",
    "\n",
    "    plt.ylabel('True label')\n",
    "    plt.xlabel('Predicted label')\n",
    "    plt.tight_layout()\n",
    "    plt.grid(False)\n",
    "    plt.show()\n",
    "\n",
    "    \n",
    "    \n",
    "# now eval model function\n",
    "# evaluate model auc\n",
    "def eval_model(predicted, actual, graph=True):\n",
    "    from sklearn.metrics import roc_auc_score\n",
    "    from sklearn.metrics import f1_score\n",
    "    from sklearn.metrics import classification_report\n",
    "    from sklearn.metrics import precision_recall_curve\n",
    "    from sklearn.metrics import auc\n",
    "    from sklearn.metrics import roc_curve\n",
    "    \n",
    "    outcome_counts = np.unique(actual, return_counts=True)[1]\n",
    "    prob_outcome = outcome_counts[1] / (outcome_counts[0] + outcome_counts[1])\n",
    "\n",
    "    print(\"AUC \" + str(roc_auc_score(actual, predicted)))\n",
    "\n",
    "    # calculate the fpr and tpr for all thresholds of the classification\n",
    "    fpr, tpr, threshold = roc_curve(actual, predicted)\n",
    "    roc_auc = auc(fpr, tpr)\n",
    "\n",
    "    from sklearn.metrics import average_precision_score\n",
    "    average_precision = average_precision_score(actual, predicted)\n",
    "\n",
    "    print('Outcome probability: ' + str(prob_outcome))\n",
    "\n",
    "    \n",
    "    print('Average precision score: {0:0.2f}'.format(\n",
    "        average_precision))\n",
    "\n",
    "    # best F1\n",
    "    precision, recall, thresholds = precision_recall_curve(actual, predicted)\n",
    "\n",
    "    \n",
    "    F1 = 2*((precision*recall)/(precision+recall))\n",
    "    print(\"Best F1: \" + str(max(F1)))\n",
    "\n",
    "    \n",
    "    # threshold for best F1\n",
    "    bestF1_thresh = thresholds[np.argmax(F1)]\n",
    "    \n",
    "    if graph==True:\n",
    "        print('Best F1 threshold: ' + str(bestF1_thresh))\n",
    "        return bestF1_thresh\n",
    "    \n",
    "    # method I: plt\n",
    "    import matplotlib.pyplot as plt\n",
    "    plt.title('Receiver Operating Characteristic: ' )\n",
    "    plt.plot(fpr, tpr, 'b', label = 'AUC = %0.2f' % roc_auc)\n",
    "    plt.legend(loc = 'lower right')\n",
    "    plt.plot([0, 1], [0, 1],'r--')\n",
    "    plt.xlim([0, 1])\n",
    "    plt.ylim([0, 1])\n",
    "    plt.ylabel('True Positive Rate')\n",
    "    plt.xlabel('False Positive Rate')\n",
    "    plt.show()\n",
    "\n",
    "\n",
    "\n",
    "    import matplotlib.pyplot as plt\n",
    "    ##from sklearn.utils.fixes import signature\n",
    "\n",
    "\n",
    "\n",
    "    \n",
    "    plt.plot(recall, precision, color='b')\n",
    "    plt.plot([0,1],[prob_outcome,prob_outcome], 'r--')\n",
    "    plt.step(recall, precision, color='b', alpha=0.2,\n",
    "             where='post')\n",
    "    plt.fill_between(recall, precision, alpha=0.2, color='b')\n",
    "\n",
    "    plt.xlabel('Recall (Sensitivity)')\n",
    "    plt.ylabel('Precision (PPV)')\n",
    "    plt.ylim([0.0, 1.05])\n",
    "    plt.xlim([0.0, 1.0])\n",
    "    plt.title('2-class Precision-Recall curve: AP={0:0.2f}'.format(\n",
    "            average_precision))\n",
    "    plt.show()\n",
    "\n",
    "\n",
    "\n",
    "    print(\"Threshold for best F1:\")\n",
    "    print(bestF1_thresh)\n",
    "    pred_outcome_best_f1_thresh = np.where(predicted >= bestF1_thresh,1,0)\n",
    "    pred_outcome_05_thresh = np.where(predicted >= 0.5,1,0)\n",
    "    \n",
    "    # # predictions\n",
    "    \n",
    "    # # confusion matrix\n",
    "    print(\"Confusion matrix at best F1 thresh:\")\n",
    "    from sklearn.metrics import confusion_matrix\n",
    "    cnf_matrix = confusion_matrix(actual, pred_outcome_best_f1_thresh)\n",
    "    np.set_printoptions(precision=2)\n",
    "    # Plot non-normalized confusion matrix\n",
    "    plt.figure()\n",
    "    plot_confusion_matrix(cnf_matrix, classes=['No','Yes'],\n",
    "                        title='Confusion matrix, without normalization')\n",
    "    print(\"Metrics at best F1 thresh (specificity is recall for negative class):\")\n",
    "    from sklearn.metrics import classification_report\n",
    "    print(classification_report(actual, pred_outcome_best_f1_thresh, target_names=['No','Yes']))\n",
    "\n",
    "\n",
    "    print(\"Confusion matrix at 0.5 thresh:\")\n",
    "    from sklearn.metrics import confusion_matrix\n",
    "    cnf_matrix = confusion_matrix(actual, pred_outcome_05_thresh)\n",
    "    np.set_printoptions(precision=2)\n",
    "    # Plot non-normalized confusion matrix\n",
    "    plt.figure()\n",
    "    plot_confusion_matrix(cnf_matrix, classes=['No','Yes'],\n",
    "                        title='Confusion matrix, without normalization')\n",
    "    print(\"Metrics at 0.5 thresh thresh (specificity is recall for negative class):\")\n",
    "    print(classification_report(actual, pred_outcome_05_thresh, target_names=['No','Yes']))\n",
    "\n",
    "\n",
    "\n",
    "\n",
    "\n",
    "    # # plot threshold vs ppv curve\n",
    "    plt.plot(thresholds, precision[0:len(precision)-1], color='b')\n",
    "\n",
    "    plt.xlabel('Threshold probability')\n",
    "    plt.ylabel('Precision (PPV)')\n",
    "    plt.ylim([0.0, 1.0])\n",
    "    plt.xlim([0.0, 1.0])\n",
    "    plt.title('Threshold vs precision')\n",
    "    plt.show()\n",
    "\n",
    "    # histogram\n",
    "    plt.hist(predicted)\n",
    "    plt.title(\"Histogram\")\n",
    "    plt.xlabel(\"Predicted probability\" )\n",
    "    plt.ylabel(\"Frequency\")\n",
    "    plt.show()\n",
    "\n",
    "    return bestF1_thresh\n",
    "    "
   ]
  },
  {
   "cell_type": "code",
   "execution_count": 233,
   "id": "8af15978-3950-439d-b870-d14cdc7c4430",
   "metadata": {},
   "outputs": [
    {
     "name": "stdout",
     "output_type": "stream",
     "text": [
      "<class 'pandas.core.frame.DataFrame'>\n",
      "Int64Index: 1975 entries, 1 to 2460\n",
      "Data columns (total 22 columns):\n",
      " #   Column                   Non-Null Count  Dtype         \n",
      "---  ------                   --------------  -----         \n",
      " 0   obs                      1975 non-null   int64         \n",
      " 1   dfci_mrn                 1975 non-null   int64         \n",
      " 2   time                     1975 non-null   int64         \n",
      " 3   Unnamed: 0               1975 non-null   int64         \n",
      " 4   date                     1975 non-null   datetime64[ns]\n",
      " 5   report_text              1975 non-null   object        \n",
      " 6   protocol                 1975 non-null   object        \n",
      " 7   overall_response         1975 non-null   object        \n",
      " 8   narrative_text           1975 non-null   object        \n",
      " 9   impression_text          1476 non-null   object        \n",
      " 10  drop_this_obs            1975 non-null   bool          \n",
      " 11  split                    1975 non-null   object        \n",
      " 12  overall_response_factor  1975 non-null   int64         \n",
      " 13  report_length            1975 non-null   int64         \n",
      " 14  text                     1975 non-null   object        \n",
      " 15  starttime                1975 non-null   datetime64[ns]\n",
      " 16  prcr_true                1975 non-null   int64         \n",
      " 17  pd_true                  1975 non-null   int64         \n",
      " 18  outcome                  1975 non-null   int64         \n",
      " 19  is_bl                    1975 non-null   bool          \n",
      " 20  timepoint_id             1975 non-null   int64         \n",
      " 21  pd_pred                  1975 non-null   float32       \n",
      "dtypes: bool(2), datetime64[ns](2), float32(1), int64(10), object(7)\n",
      "memory usage: 320.2+ KB\n"
     ]
    }
   ],
   "source": [
    "valid_output.info()"
   ]
  },
  {
   "cell_type": "code",
   "execution_count": 234,
   "id": "a7c18c70",
   "metadata": {},
   "outputs": [
    {
     "data": {
      "text/plain": [
       "0.8861920303605313"
      ]
     },
     "execution_count": 234,
     "metadata": {},
     "output_type": "execute_result"
    }
   ],
   "source": [
    "# AUROC for getting pd scans, excluding baseline scans\n",
    "roc_auc_score(valid_output.outcome, valid_output.pd_pred)\n"
   ]
  },
  {
   "cell_type": "code",
   "execution_count": 235,
   "id": "a880af35",
   "metadata": {
    "tags": []
   },
   "outputs": [
    {
     "name": "stdout",
     "output_type": "stream",
     "text": [
      "AUC 0.8861920303605313\n",
      "Outcome probability: 0.21518987341772153\n",
      "Average precision score: 0.72\n",
      "Best F1: 0.6877828054298643\n"
     ]
    },
    {
     "data": {
      "image/png": "[encoded data removed]",
      "text/plain": [
       "<Figure size 640x480 with 1 Axes>"
      ]
     },
     "metadata": {},
     "output_type": "display_data"
    },
    {
     "data": {
      "image/png": "[encoded data removed]",
      "text/plain": [
       "<Figure size 640x480 with 1 Axes>"
      ]
     },
     "metadata": {},
     "output_type": "display_data"
    },
    {
     "name": "stdout",
     "output_type": "stream",
     "text": [
      "Threshold for best F1:\n",
      "-1.0986311\n",
      "Confusion matrix at best F1 thresh:\n",
      "Confusion matrix, without normalization\n",
      "[[1395  155]\n",
      " [ 121  304]]\n"
     ]
    },
    {
     "data": {
      "image/png": "[encoded data removed]",
      "text/plain": [
       "<Figure size 640x480 with 2 Axes>"
      ]
     },
     "metadata": {},
     "output_type": "display_data"
    },
    {
     "name": "stdout",
     "output_type": "stream",
     "text": [
      "Metrics at best F1 thresh (specificity is recall for negative class):\n",
      "              precision    recall  f1-score   support\n",
      "\n",
      "          No       0.92      0.90      0.91      1550\n",
      "         Yes       0.66      0.72      0.69       425\n",
      "\n",
      "    accuracy                           0.86      1975\n",
      "   macro avg       0.79      0.81      0.80      1975\n",
      "weighted avg       0.86      0.86      0.86      1975\n",
      "\n",
      "Confusion matrix at 0.5 thresh:\n",
      "Confusion matrix, without normalization\n",
      "[[1466   84]\n",
      " [ 184  241]]\n"
     ]
    },
    {
     "data": {
      "image/png": "[encoded data removed]",
      "text/plain": [
       "<Figure size 640x480 with 2 Axes>"
      ]
     },
     "metadata": {},
     "output_type": "display_data"
    },
    {
     "name": "stdout",
     "output_type": "stream",
     "text": [
      "Metrics at 0.5 thresh thresh (specificity is recall for negative class):\n",
      "              precision    recall  f1-score   support\n",
      "\n",
      "          No       0.89      0.95      0.92      1550\n",
      "         Yes       0.74      0.57      0.64       425\n",
      "\n",
      "    accuracy                           0.86      1975\n",
      "   macro avg       0.82      0.76      0.78      1975\n",
      "weighted avg       0.86      0.86      0.86      1975\n",
      "\n"
     ]
    },
    {
     "data": {
      "image/png": "[encoded data removed]",
      "text/plain": [
       "<Figure size 640x480 with 1 Axes>"
      ]
     },
     "metadata": {},
     "output_type": "display_data"
    },
    {
     "data": {
      "image/png": "[encoded data removed]",
      "text/plain": [
       "<Figure size 640x480 with 1 Axes>"
      ]
     },
     "metadata": {},
     "output_type": "display_data"
    },
    {
     "data": {
      "image/png": "[encoded data removed]",
      "text/plain": [
       "<Figure size 640x480 with 1 Axes>"
      ]
     },
     "metadata": {},
     "output_type": "display_data"
    },
    {
     "data": {
      "text/plain": [
       "-1.0986311"
      ]
     },
     "execution_count": 235,
     "metadata": {},
     "output_type": "execute_result"
    }
   ],
   "source": [
    "from utils_102023 import *\n",
    "eval_model(valid_output.pd_pred, valid_output.outcome, graph=True)"
   ]
  },
  {
   "cell_type": "code",
   "execution_count": null,
   "id": "e2e977d3",
   "metadata": {},
   "outputs": [],
   "source": []
  },
  {
   "cell_type": "code",
   "execution_count": null,
   "id": "8803e727",
   "metadata": {},
   "outputs": [],
   "source": []
  },
  {
   "cell_type": "code",
   "execution_count": null,
   "id": "f4399cca-1938-4ec9-af67-98f9aff0b331",
   "metadata": {},
   "outputs": [],
   "source": []
  },
  {
   "cell_type": "code",
   "execution_count": null,
   "id": "c667eb64-6863-42f8-be8e-913df7523b8f",
   "metadata": {},
   "outputs": [],
   "source": []
  },
  {
   "cell_type": "code",
   "execution_count": 36,
   "id": "edd5a8e6-2272-4e98-ae1e-b79e1bae04b2",
   "metadata": {},
   "outputs": [
    {
     "name": "stdout",
     "output_type": "stream",
     "text": [
      "<class 'pandas.core.frame.DataFrame'>\n",
      "Index: 6096 entries, 148 to 60471\n",
      "Data columns (total 20 columns):\n",
      " #   Column                   Non-Null Count  Dtype         \n",
      "---  ------                   --------------  -----         \n",
      " 0   Unnamed: 0               6096 non-null   int64         \n",
      " 1   dfci_mrn                 6096 non-null   int64         \n",
      " 2   date                     6096 non-null   datetime64[ns]\n",
      " 3   report_text              6096 non-null   object        \n",
      " 4   protocol                 6096 non-null   object        \n",
      " 5   overall_response         6096 non-null   object        \n",
      " 6   narrative_text           6096 non-null   object        \n",
      " 7   impression_text          3350 non-null   object        \n",
      " 8   drop_this_obs            6096 non-null   bool          \n",
      " 9   split                    6096 non-null   object        \n",
      " 10  obs                      6096 non-null   int64         \n",
      " 11  overall_response_factor  6096 non-null   int64         \n",
      " 12  report_length            6096 non-null   int64         \n",
      " 13  text                     6096 non-null   object        \n",
      " 14  starttime                6096 non-null   datetime64[ns]\n",
      " 15  time                     6096 non-null   int64         \n",
      " 16  prcr_true                6096 non-null   int64         \n",
      " 17  pd_true                  6096 non-null   int64         \n",
      " 18  outcome                  6096 non-null   int64         \n",
      " 19  is_bl                    6096 non-null   bool          \n",
      "dtypes: bool(2), datetime64[ns](2), int64(9), object(7)\n",
      "memory usage: 916.8+ KB\n"
     ]
    }
   ],
   "source": [
    "test.info()"
   ]
  },
  {
   "cell_type": "code",
   "execution_count": 37,
   "id": "a6d3e372-1b6b-4f6e-b2b6-462cca73142b",
   "metadata": {},
   "outputs": [
    {
     "name": "stdout",
     "output_type": "stream",
     "text": [
      "<class 'pandas.core.frame.DataFrame'>\n",
      "Index: 6096 entries, 148 to 60471\n",
      "Data columns (total 20 columns):\n",
      " #   Column                   Non-Null Count  Dtype         \n",
      "---  ------                   --------------  -----         \n",
      " 0   Unnamed: 0               6096 non-null   int64         \n",
      " 1   dfci_mrn                 6096 non-null   int64         \n",
      " 2   date                     6096 non-null   datetime64[ns]\n",
      " 3   report_text              6096 non-null   object        \n",
      " 4   protocol                 6096 non-null   object        \n",
      " 5   overall_response         6096 non-null   object        \n",
      " 6   narrative_text           6096 non-null   object        \n",
      " 7   impression_text          3350 non-null   object        \n",
      " 8   drop_this_obs            6096 non-null   bool          \n",
      " 9   split                    6096 non-null   object        \n",
      " 10  obs                      6096 non-null   int64         \n",
      " 11  overall_response_factor  6096 non-null   int64         \n",
      " 12  report_length            6096 non-null   int64         \n",
      " 13  text                     6096 non-null   object        \n",
      " 14  starttime                6096 non-null   datetime64[ns]\n",
      " 15  time                     6096 non-null   int64         \n",
      " 16  prcr_true                6096 non-null   int64         \n",
      " 17  pd_true                  6096 non-null   int64         \n",
      " 18  outcome                  6096 non-null   int64         \n",
      " 19  is_bl                    6096 non-null   bool          \n",
      "dtypes: bool(2), datetime64[ns](2), int64(9), object(7)\n",
      "memory usage: 916.8+ KB\n"
     ]
    }
   ],
   "source": [
    "test_day_text = test.copy()\n",
    "test_day_text['text'] = test_day_text.text.astype(str)\n",
    "test_day_text.info()"
   ]
  },
  {
   "cell_type": "code",
   "execution_count": 38,
   "id": "cd08113e-56ed-42ad-aeac-9bd5539811e8",
   "metadata": {},
   "outputs": [
    {
     "name": "stdout",
     "output_type": "stream",
     "text": [
      "<class 'pandas.core.frame.DataFrame'>\n",
      "RangeIndex: 2694 entries, 0 to 2693\n",
      "Data columns (total 20 columns):\n",
      " #   Column                   Non-Null Count  Dtype         \n",
      "---  ------                   --------------  -----         \n",
      " 0   obs                      2694 non-null   int64         \n",
      " 1   dfci_mrn                 2694 non-null   int64         \n",
      " 2   time                     2694 non-null   int64         \n",
      " 3   Unnamed: 0               2694 non-null   int64         \n",
      " 4   date                     2694 non-null   datetime64[ns]\n",
      " 5   report_text              2694 non-null   object        \n",
      " 6   protocol                 2694 non-null   object        \n",
      " 7   overall_response         2694 non-null   object        \n",
      " 8   narrative_text           2694 non-null   object        \n",
      " 9   impression_text          1865 non-null   object        \n",
      " 10  drop_this_obs            2694 non-null   bool          \n",
      " 11  split                    2694 non-null   object        \n",
      " 12  overall_response_factor  2694 non-null   int64         \n",
      " 13  report_length            2694 non-null   int64         \n",
      " 14  text                     2694 non-null   object        \n",
      " 15  starttime                2694 non-null   datetime64[ns]\n",
      " 16  prcr_true                2694 non-null   int64         \n",
      " 17  pd_true                  2694 non-null   int64         \n",
      " 18  outcome                  2694 non-null   int64         \n",
      " 19  is_bl                    2694 non-null   bool          \n",
      "dtypes: bool(2), datetime64[ns](2), int64(9), object(7)\n",
      "memory usage: 384.2+ KB\n"
     ]
    }
   ],
   "source": [
    "test_day_text = test_day_text.sort_values(by=['obs','dfci_mrn','time'])\n",
    "\n",
    "test_day_text['text'] = test_day_text.groupby(['obs','dfci_mrn','time'])['text'].transform(lambda x: ' '.join(x))\n",
    "test_day_text = test_day_text.groupby(['obs','dfci_mrn','time']).first().reset_index()\n",
    "test_day_text.info()"
   ]
  },
  {
   "cell_type": "code",
   "execution_count": 39,
   "id": "5a3d7ecd-6402-4efc-a3cd-b23dbcd17afe",
   "metadata": {},
   "outputs": [
    {
     "data": {
      "text/plain": [
       "pd_true\n",
       "0    2244\n",
       "1     450\n",
       "Name: count, dtype: int64"
      ]
     },
     "execution_count": 39,
     "metadata": {},
     "output_type": "execute_result"
    }
   ],
   "source": [
    "test_day_text.pd_true.value_counts()"
   ]
  },
  {
   "cell_type": "code",
   "execution_count": 40,
   "id": "66c7a506-029b-45ed-9f3c-32242f9f7852",
   "metadata": {},
   "outputs": [
    {
     "data": {
      "text/plain": [
       "outcome\n",
       " 0    1720\n",
       "-1     524\n",
       " 1     450\n",
       "Name: count, dtype: int64"
      ]
     },
     "execution_count": 40,
     "metadata": {},
     "output_type": "execute_result"
    }
   ],
   "source": [
    "test_day_text.outcome.value_counts()"
   ]
  },
  {
   "cell_type": "code",
   "execution_count": 41,
   "id": "bfeed2b9-3409-4a05-a8df-cd8eeb01cfd8",
   "metadata": {},
   "outputs": [
    {
     "data": {
      "text/plain": [
       "outcome\n",
       " 0    38775\n",
       "-1    12631\n",
       " 1     9188\n",
       "Name: count, dtype: int64"
      ]
     },
     "execution_count": 41,
     "metadata": {},
     "output_type": "execute_result"
    }
   ],
   "source": [
    "all_reports.outcome.value_counts()"
   ]
  },
  {
   "cell_type": "code",
   "execution_count": null,
   "id": "476906e2",
   "metadata": {},
   "outputs": [],
   "source": []
  },
  {
   "cell_type": "code",
   "execution_count": null,
   "id": "8afe0383",
   "metadata": {},
   "outputs": [],
   "source": []
  },
  {
   "cell_type": "code",
   "execution_count": null,
   "id": "1194ebf5",
   "metadata": {},
   "outputs": [],
   "source": []
  }
 ],
 "metadata": {
  "kernelspec": {
   "display_name": "Python 3 (ipykernel)",
   "language": "python",
   "name": "python3"
  },
  "language_info": {
   "codemirror_mode": {
    "name": "ipython",
    "version": 3
   },
   "file_extension": ".py",
   "mimetype": "text/x-python",
   "name": "python",
   "nbconvert_exporter": "python",
   "pygments_lexer": "ipython3",
   "version": "3.10.10"
  }
 },
 "nbformat": 4,
 "nbformat_minor": 5
}
