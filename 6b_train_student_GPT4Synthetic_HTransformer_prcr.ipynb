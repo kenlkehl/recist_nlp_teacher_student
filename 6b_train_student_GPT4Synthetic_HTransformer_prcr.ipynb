{
 "cells": [
  {
   "cell_type": "code",
   "execution_count": 1,
   "id": "4562b2a8",
   "metadata": {},
   "outputs": [],
   "source": [
    "import numpy as np\n",
    "import pandas as pd\n",
    "import pickle\n",
    "import os\n",
    "import torch\n",
    "os.environ[\"TOKENIZERS_PARALLELISM\"] = \"false\""
   ]
  },
  {
   "cell_type": "code",
   "execution_count": 2,
   "id": "226809af-3047-4c9f-bef7-b4dfd0da231f",
   "metadata": {},
   "outputs": [],
   "source": [
    "os.environ['CUDA_LAUNCH_BLOCKING'] = '1'\n",
    "torch.use_deterministic_algorithms(False)\n",
    "torch.backends.cudnn.benchmark = False"
   ]
  },
  {
   "cell_type": "code",
   "execution_count": 3,
   "id": "33532154",
   "metadata": {},
   "outputs": [
    {
     "data": {
      "text/plain": [
       "True"
      ]
     },
     "execution_count": 3,
     "metadata": {},
     "output_type": "execute_result"
    }
   ],
   "source": [
    "torch.cuda.is_available()"
   ]
  },
  {
   "cell_type": "code",
   "execution_count": 4,
   "id": "323fe0e8-adef-40af-aefe-0bc81ab51521",
   "metadata": {},
   "outputs": [],
   "source": [
    "outcome='prcr_true'"
   ]
  },
  {
   "cell_type": "code",
   "execution_count": 5,
   "id": "e084fd40-d147-45d2-bed5-b8bda521908e",
   "metadata": {},
   "outputs": [
    {
     "name": "stdout",
     "output_type": "stream",
     "text": [
      "There are 2 GPU(s) available.\n",
      "We will use the GPU: NVIDIA RTX A6000\n"
     ]
    }
   ],
   "source": [
    "import torch\n",
    "\n",
    "cuda = torch.device('cuda')     # Default CUDA device\n",
    "cuda0 = torch.device('cuda:0')\n",
    "cuda1 = torch.device('cuda:1')  # GPU 2 (these are 0-indexed)\n",
    "\n",
    "# If there's a GPU available...\n",
    "if torch.cuda.is_available():    \n",
    "\n",
    "    # Tell PyTorch to use the GPU.    \n",
    "    #device = torch.device(\"cpu\")\n",
    "    device = torch.device(cuda1)\n",
    "\n",
    "    print('There are %d GPU(s) available.' % torch.cuda.device_count())\n",
    "\n",
    "    print('We will use the GPU:', torch.cuda.get_device_name(cuda))\n",
    "\n",
    "# If not...\n",
    "else:\n",
    "    print('No GPU available, using the CPU instead.')\n",
    "    device = torch.device(\"cpu\")"
   ]
  },
  {
   "cell_type": "code",
   "execution_count": 6,
   "id": "a28a45ff-871a-4b1d-a725-5d73ca4a3ac5",
   "metadata": {},
   "outputs": [],
   "source": [
    "import json"
   ]
  },
  {
   "cell_type": "code",
   "execution_count": 8,
   "id": "3c3b0a89-9b39-4c5e-a6cf-b7fa2820c2c7",
   "metadata": {},
   "outputs": [],
   "source": [
    "list_of_obs = []\n",
    "for i in range(5724):\n",
    "    with open('./gpt4_synthetic_data/obs' + str(i) + '.txt') as json_file:\n",
    "        try:\n",
    "            file_dict = json.load(json_file)\n",
    "\n",
    "            file_frame = pd.DataFrame.from_records(file_dict['timepoints']).reset_index()\n",
    "            file_frame['charttime'] = file_frame.index\n",
    "            file_frame = file_frame.explode('synthetic_reports')\n",
    "            file_frame['obs'] = i\n",
    "            list_of_obs.append(file_frame)\n",
    "        except:\n",
    "            pass"
   ]
  },
  {
   "cell_type": "code",
   "execution_count": 9,
   "id": "9d845297-6f3a-4310-80d6-d2c5a9597e2d",
   "metadata": {},
   "outputs": [
    {
     "data": {
      "text/plain": [
       "SD    8757\n",
       "BL    8380\n",
       "PD    5855\n",
       "PR    5786\n",
       "CR    1596\n",
       "Name: recist_annotation, dtype: int64"
      ]
     },
     "execution_count": 9,
     "metadata": {},
     "output_type": "execute_result"
    }
   ],
   "source": [
    "mimic_cancer = pd.concat(list_of_obs, axis=0)[['obs','charttime','recist_annotation','synthetic_reports']]\n",
    "mimic_cancer['recist_annotation'] = np.where(mimic_cancer.recist_annotation.str.lower().str.contains('baseline|bl'), 'BL', mimic_cancer.recist_annotation)\n",
    "mimic_cancer['recist_annotation'] = np.where(mimic_cancer.recist_annotation.str.lower().str.contains('stable|sd'), 'SD', mimic_cancer.recist_annotation)\n",
    "mimic_cancer['recist_annotation'] = np.where(mimic_cancer.recist_annotation.str.lower().str.contains('partial|pr'), 'PR', mimic_cancer.recist_annotation)\n",
    "mimic_cancer['recist_annotation'] = np.where(mimic_cancer.recist_annotation.str.lower().str.contains('complete|cr'), 'CR', mimic_cancer.recist_annotation)\n",
    "mimic_cancer['recist_annotation'] = np.where(mimic_cancer.recist_annotation.str.lower().str.contains('progressive|pd'), 'PD', mimic_cancer.recist_annotation)\n",
    "\n",
    "mimic_cancer = mimic_cancer[mimic_cancer.recist_annotation.isin(['SD','BL','PD','PR','CR'])]\n",
    "mimic_cancer=mimic_cancer[~mimic_cancer.synthetic_reports.isnull()].rename(columns={'synthetic_reports':'text', 'timepoint_number':'charttime'})\n",
    "mimic_cancer = mimic_cancer[mimic_cancer.charttime!='CR']\n",
    "mimic_cancer['charttime'] = pd.to_numeric(mimic_cancer.charttime)\n",
    "mimic_cancer.recist_annotation.value_counts().head(30)"
   ]
  },
  {
   "cell_type": "code",
   "execution_count": null,
   "id": "71b04adc-939c-4fd7-97aa-371fa06a0110",
   "metadata": {},
   "outputs": [],
   "source": []
  },
  {
   "cell_type": "code",
   "execution_count": 10,
   "id": "0962324f-bb40-47f1-8bb8-b5da801ee01a",
   "metadata": {},
   "outputs": [
    {
     "name": "stderr",
     "output_type": "stream",
     "text": [
      "/tmp/ipykernel_3049/3617987778.py:2: FutureWarning: The default value of regex will change from True to False in a future version.\n",
      "  good_obses['text'] = good_obses.text.str.lower().str.replace(\"\\r|\\n\", \" \")\n",
      "/tmp/ipykernel_3049/3617987778.py:3: FutureWarning: The default value of regex will change from True to False in a future version.\n",
      "  good_obses['text'] = good_obses.text.str.replace('\\s+', ' ')\n"
     ]
    },
    {
     "data": {
      "text/html": [
       "<div>\n",
       "<style scoped>\n",
       "    .dataframe tbody tr th:only-of-type {\n",
       "        vertical-align: middle;\n",
       "    }\n",
       "\n",
       "    .dataframe tbody tr th {\n",
       "        vertical-align: top;\n",
       "    }\n",
       "\n",
       "    .dataframe thead th {\n",
       "        text-align: right;\n",
       "    }\n",
       "</style>\n",
       "<table border=\"1\" class=\"dataframe\">\n",
       "  <thead>\n",
       "    <tr style=\"text-align: right;\">\n",
       "      <th></th>\n",
       "      <th>obs</th>\n",
       "      <th>charttime</th>\n",
       "      <th>recist_annotation</th>\n",
       "      <th>text</th>\n",
       "      <th>starttime</th>\n",
       "      <th>time</th>\n",
       "    </tr>\n",
       "  </thead>\n",
       "  <tbody>\n",
       "    <tr>\n",
       "      <th>0</th>\n",
       "      <td>0</td>\n",
       "      <td>0</td>\n",
       "      <td>BL</td>\n",
       "      <td>examination: computed tomography (ct) of the c...</td>\n",
       "      <td>0</td>\n",
       "      <td>0</td>\n",
       "    </tr>\n",
       "    <tr>\n",
       "      <th>0</th>\n",
       "      <td>0</td>\n",
       "      <td>0</td>\n",
       "      <td>BL</td>\n",
       "      <td>examination: bone scan indication: baseline st...</td>\n",
       "      <td>0</td>\n",
       "      <td>0</td>\n",
       "    </tr>\n",
       "    <tr>\n",
       "      <th>1</th>\n",
       "      <td>0</td>\n",
       "      <td>1</td>\n",
       "      <td>SD</td>\n",
       "      <td>examination: computed tomography (ct) of the c...</td>\n",
       "      <td>0</td>\n",
       "      <td>1</td>\n",
       "    </tr>\n",
       "    <tr>\n",
       "      <th>1</th>\n",
       "      <td>0</td>\n",
       "      <td>1</td>\n",
       "      <td>SD</td>\n",
       "      <td>examination: magnetic resonance imaging (mri) ...</td>\n",
       "      <td>0</td>\n",
       "      <td>1</td>\n",
       "    </tr>\n",
       "    <tr>\n",
       "      <th>2</th>\n",
       "      <td>0</td>\n",
       "      <td>2</td>\n",
       "      <td>SD</td>\n",
       "      <td>examination: computed tomography (ct) of the c...</td>\n",
       "      <td>0</td>\n",
       "      <td>2</td>\n",
       "    </tr>\n",
       "  </tbody>\n",
       "</table>\n",
       "</div>"
      ],
      "text/plain": [
       "   obs  charttime recist_annotation  \\\n",
       "0    0          0                BL   \n",
       "0    0          0                BL   \n",
       "1    0          1                SD   \n",
       "1    0          1                SD   \n",
       "2    0          2                SD   \n",
       "\n",
       "                                                text  starttime  time  \n",
       "0  examination: computed tomography (ct) of the c...          0     0  \n",
       "0  examination: bone scan indication: baseline st...          0     0  \n",
       "1  examination: computed tomography (ct) of the c...          0     1  \n",
       "1  examination: magnetic resonance imaging (mri) ...          0     1  \n",
       "2  examination: computed tomography (ct) of the c...          0     2  "
      ]
     },
     "execution_count": 10,
     "metadata": {},
     "output_type": "execute_result"
    }
   ],
   "source": [
    "good_obses = mimic_cancer\n",
    "good_obses['text'] = good_obses.text.str.lower().str.replace(\"\\r|\\n\", \" \")\n",
    "good_obses['text'] = good_obses.text.str.replace('\\s+', ' ')\n",
    "good_obses['starttime'] = good_obses.groupby('obs').charttime.transform('first')\n",
    "good_obses['time'] =  (pd.to_numeric(good_obses['charttime']) - pd.to_numeric(good_obses['starttime']))\n",
    "good_obses.head()"
   ]
  },
  {
   "cell_type": "code",
   "execution_count": 11,
   "id": "12a6a87a-de96-461a-a2d3-e56a75a8202b",
   "metadata": {},
   "outputs": [
    {
     "data": {
      "text/plain": [
       "5723"
      ]
     },
     "execution_count": 11,
     "metadata": {},
     "output_type": "execute_result"
    }
   ],
   "source": [
    "good_obses.obs.nunique()"
   ]
  },
  {
   "cell_type": "code",
   "execution_count": 12,
   "id": "b4789c2b",
   "metadata": {},
   "outputs": [],
   "source": [
    "prefix = './'"
   ]
  },
  {
   "cell_type": "code",
   "execution_count": 13,
   "id": "84598021-2044-4616-baf4-fe832b3cdaea",
   "metadata": {},
   "outputs": [
    {
     "name": "stderr",
     "output_type": "stream",
     "text": [
      "/tmp/ipykernel_3049/932359508.py:7: FutureWarning: The default value of regex will change from True to False in a future version.\n",
      "  all_reports['text'] = all_reports.text.str.lower().str.replace(\"\\r|\\n\", \" \")\n",
      "/tmp/ipykernel_3049/932359508.py:8: FutureWarning: The default value of regex will change from True to False in a future version.\n",
      "  all_reports['text'] = all_reports.text.str.replace('\\s+', ' ')\n"
     ]
    }
   ],
   "source": [
    "# read in the PHI dataset\n",
    "all_reports = pd.read_csv(prefix + 'timc_recist_labeled_dataset_id.csv')\n",
    "all_reports['report_length'] = all_reports.report_text.str.len()\n",
    "all_reports['date'] = pd.to_datetime(all_reports.date)\n",
    "all_reports = all_reports.sort_values(by=['obs','dfci_mrn','date'])\n",
    "all_reports['text'] = all_reports[\"report_text\"]\n",
    "all_reports['text'] = all_reports.text.str.lower().str.replace(\"\\r|\\n\", \" \")\n",
    "all_reports['text'] = all_reports.text.str.replace('\\s+', ' ')"
   ]
  },
  {
   "cell_type": "code",
   "execution_count": null,
   "id": "aed7d850-83b5-4b1c-833a-b79f4733f127",
   "metadata": {},
   "outputs": [],
   "source": []
  },
  {
   "cell_type": "code",
   "execution_count": 14,
   "id": "f5927dfe-83fb-43dd-866b-a8150fc34d47",
   "metadata": {},
   "outputs": [
    {
     "data": {
      "text/plain": [
       "(63915, 14)"
      ]
     },
     "execution_count": 14,
     "metadata": {},
     "output_type": "execute_result"
    }
   ],
   "source": [
    "all_reports.shape"
   ]
  },
  {
   "cell_type": "code",
   "execution_count": 15,
   "id": "a949ab7a-1e02-43f2-aa69-77372550fa3b",
   "metadata": {},
   "outputs": [],
   "source": [
    "# deduplicate reports\n",
    "all_reports = all_reports.drop_duplicates(subset=['dfci_mrn','report_text'])"
   ]
  },
  {
   "cell_type": "code",
   "execution_count": 16,
   "id": "76989b8a-cef5-498a-b150-17347008a7a2",
   "metadata": {},
   "outputs": [
    {
     "data": {
      "text/plain": [
       "(63899, 14)"
      ]
     },
     "execution_count": 16,
     "metadata": {},
     "output_type": "execute_result"
    }
   ],
   "source": [
    "all_reports.shape"
   ]
  },
  {
   "cell_type": "code",
   "execution_count": 17,
   "id": "b2053af3-d2fd-44d0-b880-9796083fb0fd",
   "metadata": {},
   "outputs": [
    {
     "name": "stdout",
     "output_type": "stream",
     "text": [
      "<class 'pandas.core.frame.DataFrame'>\n",
      "Int64Index: 63899 entries, 0 to 63914\n",
      "Data columns (total 14 columns):\n",
      " #   Column                   Non-Null Count  Dtype         \n",
      "---  ------                   --------------  -----         \n",
      " 0   Unnamed: 0               63899 non-null  int64         \n",
      " 1   dfci_mrn                 63899 non-null  int64         \n",
      " 2   date                     63899 non-null  datetime64[ns]\n",
      " 3   report_text              63899 non-null  object        \n",
      " 4   protocol                 63899 non-null  object        \n",
      " 5   overall_response         63899 non-null  object        \n",
      " 6   narrative_text           63896 non-null  object        \n",
      " 7   impression_text          35806 non-null  object        \n",
      " 8   drop_this_obs            63899 non-null  bool          \n",
      " 9   split                    63899 non-null  object        \n",
      " 10  obs                      63899 non-null  int64         \n",
      " 11  overall_response_factor  63899 non-null  int64         \n",
      " 12  report_length            63899 non-null  int64         \n",
      " 13  text                     63899 non-null  object        \n",
      "dtypes: bool(1), datetime64[ns](1), int64(5), object(7)\n",
      "memory usage: 6.9+ MB\n"
     ]
    }
   ],
   "source": [
    "all_reports.info()"
   ]
  },
  {
   "cell_type": "code",
   "execution_count": 18,
   "id": "7697ed52",
   "metadata": {},
   "outputs": [],
   "source": [
    "all_reports['starttime'] = all_reports.groupby('obs').date.transform('first')\n",
    "all_reports['time'] =  (all_reports['date'] - all_reports['starttime']).dt.days"
   ]
  },
  {
   "cell_type": "code",
   "execution_count": 19,
   "id": "613b48eb-fb7f-414a-b848-d3b084086d18",
   "metadata": {},
   "outputs": [
    {
     "data": {
      "text/plain": [
       "(63899, 16)"
      ]
     },
     "execution_count": 19,
     "metadata": {},
     "output_type": "execute_result"
    }
   ],
   "source": [
    "all_reports.shape"
   ]
  },
  {
   "cell_type": "code",
   "execution_count": 24,
   "id": "a528a7c7-4b82-432a-b364-6323f5168cd7",
   "metadata": {},
   "outputs": [
    {
     "data": {
      "text/plain": [
       "3    20140\n",
       "1    15397\n",
       "0    12631\n",
       "4     9188\n",
       "2     3238\n",
       "Name: overall_response_factor, dtype: int64"
      ]
     },
     "execution_count": 24,
     "metadata": {},
     "output_type": "execute_result"
    }
   ],
   "source": [
    "all_reports.overall_response_factor.value_counts()"
   ]
  },
  {
   "cell_type": "code",
   "execution_count": 25,
   "id": "05c66025-73f3-459a-a356-86c99ab29def",
   "metadata": {},
   "outputs": [
    {
     "data": {
      "text/plain": [
       "SD    20140\n",
       "PR    15397\n",
       "BL    12631\n",
       "PD     9188\n",
       "CR     3238\n",
       "Name: overall_response, dtype: int64"
      ]
     },
     "execution_count": 25,
     "metadata": {},
     "output_type": "execute_result"
    }
   ],
   "source": [
    "all_reports.overall_response.value_counts()"
   ]
  },
  {
   "cell_type": "code",
   "execution_count": 26,
   "id": "ee805503-796a-44d9-a3d7-05d8bebe80a0",
   "metadata": {},
   "outputs": [
    {
     "name": "stdout",
     "output_type": "stream",
     "text": [
      " 0    29328\n",
      " 1    18635\n",
      "-1    12631\n",
      "Name: outcome, dtype: int64\n",
      "0    41959\n",
      "1    18635\n",
      "Name: prcr_true, dtype: int64\n",
      "0    51406\n",
      "1     9188\n",
      "Name: pd_true, dtype: int64\n",
      " 0    29328\n",
      " 1    18635\n",
      "-1    12631\n",
      "Name: outcome, dtype: int64\n",
      "0    41959\n",
      "1    18635\n",
      "Name: prcr_true, dtype: int64\n",
      "0    51406\n",
      "1     9188\n",
      "Name: pd_true, dtype: int64\n"
     ]
    }
   ],
   "source": [
    "all_reports['prcr_true'] = np.where(all_reports.overall_response.isin(['PR','CR']), 1, 0)\n",
    "all_reports['pd_true'] = np.where(all_reports.overall_response == 'PD', 1, 0)\n",
    "\n",
    "all_reports['outcome'] = np.where(all_reports.overall_response == 'BL', -1, 0)\n",
    "all_reports['outcome'] = np.where(all_reports[outcome]==1, 1, all_reports['outcome'])\n",
    "print(all_reports.outcome.value_counts())\n",
    "print(all_reports.prcr_true.value_counts())\n",
    "print(all_reports.pd_true.value_counts())\n",
    "all_reports['is_bl'] = np.where(all_reports.overall_response == 'BL', True, False)\n",
    "\n",
    "good_obs = all_reports.groupby('obs').is_bl.all().reset_index()\n",
    "good_obs = good_obs[good_obs.is_bl == False]\n",
    "\n",
    "all_reports = pd.merge(all_reports, good_obs[['obs']], on='obs')\n",
    "\n",
    "print(all_reports.outcome.value_counts())\n",
    "print(all_reports.prcr_true.value_counts())\n",
    "print(all_reports.pd_true.value_counts())"
   ]
  },
  {
   "cell_type": "code",
   "execution_count": null,
   "id": "29d5fd21-553a-4e27-b8c3-b48807258a60",
   "metadata": {},
   "outputs": [],
   "source": []
  },
  {
   "cell_type": "code",
   "execution_count": 27,
   "id": "fbefd74e",
   "metadata": {},
   "outputs": [],
   "source": [
    "validation = all_reports[all_reports['split'] == 'validation']\n",
    "test = all_reports[all_reports['split'] == 'test']\n"
   ]
  },
  {
   "cell_type": "code",
   "execution_count": null,
   "id": "f9b9f680-8649-43d0-ae62-f814e875c347",
   "metadata": {},
   "outputs": [],
   "source": []
  },
  {
   "cell_type": "code",
   "execution_count": null,
   "id": "c73cb981-11f3-46c0-a1e3-3cf9e770048c",
   "metadata": {},
   "outputs": [],
   "source": []
  },
  {
   "cell_type": "code",
   "execution_count": 28,
   "id": "cc7ea541-53fc-48cb-b26b-78c0dae796d3",
   "metadata": {},
   "outputs": [],
   "source": [
    "from torch.utils import data\n",
    "import torch.nn.functional as F\n",
    "from transformers import AutoTokenizer\n",
    "\n",
    "# dataset for running inference on synthetic/unlabeled data\n",
    "class UnlabeledRecistDataset(data.Dataset):\n",
    "    def __init__(self, pandas_dataset):\n",
    "        self.data = pandas_dataset\n",
    "\n",
    "        self.tokenizer = AutoTokenizer.from_pretrained(\"medicalai/ClinicalBERT\")\n",
    "        self.max_doc_len = 512\n",
    "        self.observations = self.data.obs.unique()\n",
    "        \n",
    "    def __len__(self):\n",
    "        # how many observations (pt-treatment courses) in the dataset\n",
    "        return len(self.observations)\n",
    "    \n",
    "    def __getitem__(self, index):\n",
    "        # get data for obs corresponding to index passed\n",
    "        thisobs = self.observations[index]\n",
    "        obs = self.data[self.data.obs == thisobs].copy().reset_index(drop=True)\n",
    "        \n",
    "        obs['charttime'] = pd.to_datetime(obs['charttime'])\n",
    "        obs = obs.sort_values(by=['charttime'])\n",
    "\n",
    "        start_times = torch.tensor(obs.time / 365, dtype=torch.float32)\n",
    "\n",
    "\n",
    "        text = obs.text.tolist()\n",
    "        \n",
    "        \n",
    "        encoded_list = self.tokenizer(text, padding='max_length', max_length=self.max_doc_len, truncation=True)\n",
    "        input_ids = torch.tensor(encoded_list['input_ids'], dtype=torch.long)\n",
    "        attention_mask = torch.tensor(encoded_list['attention_mask'], dtype=torch.long) \n",
    "\n",
    "        return input_ids, attention_mask, start_times\n",
    "\n",
    "    \n",
    "\n",
    "        "
   ]
  },
  {
   "cell_type": "code",
   "execution_count": null,
   "id": "5821a19f-131c-4c92-b362-ae91e8dabf93",
   "metadata": {},
   "outputs": [],
   "source": []
  },
  {
   "cell_type": "code",
   "execution_count": 29,
   "id": "90ae486f-c5c2-4178-b872-666f943a1f64",
   "metadata": {},
   "outputs": [],
   "source": [
    "from torch.utils import data\n",
    "import torch.nn.functional as F\n",
    "from transformers import AutoTokenizer\n",
    "\n",
    "\n",
    "# dataset for use with labeled PHI data\n",
    "\n",
    "class LabeledRecistDataset(data.Dataset):\n",
    "    def __init__(self, pandas_dataset):\n",
    "        self.data = pandas_dataset\n",
    "\n",
    "        #self.tokenizer = AutoTokenizer.from_pretrained(\"bert-base-uncased\", truncation_side='left') \n",
    "        self.tokenizer = AutoTokenizer.from_pretrained(\"medicalai/ClinicalBERT\")\n",
    "\n",
    "        self.observations = self.data.obs.unique()\n",
    "        self.max_doc_len=512\n",
    "        \n",
    "    def __len__(self):\n",
    "        # how many observations (pt-trial combos) in the dataset\n",
    "        return len(self.observations)\n",
    "    \n",
    "    def __getitem__(self, index):\n",
    "        # get data for MRN corresponding to index passed\n",
    "        thisobs = self.observations[index]\n",
    "        obs = self.data[self.data.obs == thisobs].copy().reset_index(drop=True)\n",
    "        \n",
    "        obs['date'] = pd.to_datetime(obs['date'])\n",
    "        obs = obs.sort_values(by=['date'])\n",
    "\n",
    "        start_times = torch.tensor(obs.time / 365, dtype=torch.float32)\n",
    "\n",
    "    \n",
    "        y_outcome = torch.tensor(obs['outcome'], dtype=torch.float32)\n",
    "\n",
    "        text = obs.text.tolist()\n",
    "        \n",
    "        \n",
    "        encoded_list = self.tokenizer(text, padding='max_length', max_length=self.max_doc_len, truncation=True)\n",
    "        input_ids = torch.tensor(encoded_list['input_ids'], dtype=torch.long)\n",
    "        attention_mask = torch.tensor(encoded_list['attention_mask'], dtype=torch.long) \n",
    "        \n",
    "        return input_ids, attention_mask, start_times, y_outcome\n",
    "\n",
    "    \n",
    "\n",
    "        "
   ]
  },
  {
   "cell_type": "code",
   "execution_count": 30,
   "id": "010a4728",
   "metadata": {},
   "outputs": [],
   "source": [
    "#model \n",
    "import math\n",
    "from transformers import AutoModel\n",
    "from torch.nn import functional as F\n",
    "import torch.nn as nn\n",
    "from torch import Tensor\n",
    "from torch.utils.data import DataLoader\n",
    "from torch.nn import LSTM, Linear, Embedding, Conv1d, MaxPool1d, GRU, LSTMCell, GRUCell, Dropout, AdaptiveMaxPool1d\n",
    "from recistmodels import HTransformer\n",
    "    \n",
    "\n",
    "\n",
    "\n",
    "###### from: https://pytorch.org/tutorials/beginner/transformer_tutorial.html\n",
    "class PositionalEncoding(nn.Module):\n",
    "\n",
    "    def __init__(self, d_model: int, dropout: float = 0.0, max_len: int = 150):\n",
    "        super().__init__()\n",
    "        self.dropout = nn.Dropout(p=dropout)\n",
    "\n",
    "        position = torch.arange(max_len).unsqueeze(1)\n",
    "        div_term = torch.exp(torch.arange(0, d_model, 2) * (-math.log(10000.0) / d_model))\n",
    "        pe = torch.zeros(max_len, 1, d_model)\n",
    "        pe[:, 0, 0::2] = torch.sin(position * div_term)\n",
    "        pe[:, 0, 1::2] = torch.cos(position * div_term)\n",
    "        self.register_buffer('pe', pe)\n",
    "\n",
    "    def forward(self, x: Tensor) -> Tensor:\n",
    "        \"\"\"\n",
    "        Arguments:\n",
    "            x: Tensor, shape ``[seq_len, batch_size, embedding_dim]``\n",
    "        \"\"\"\n",
    "        x = x + self.pe[:x.size(0)]\n",
    "        return self.dropout(x)\n",
    "\n",
    "    \n",
    "class RecistModel(nn.Module):\n",
    "\n",
    "\n",
    "    def __init__(self):\n",
    "        super(RecistModel, self).__init__()\n",
    "        \n",
    "        self.day_tensor_dim = 768\n",
    "        self.per_doc_hidden_dim = 256\n",
    "        \n",
    "        self.final_hidden_dim = 128\n",
    "        self.class_output_dim=1\n",
    "\n",
    "        \n",
    "        self.note_bert = AutoModel.from_pretrained('medicalai/ClinicalBERT')\n",
    "\n",
    "        self.per_doc_hidden = Linear(self.day_tensor_dim, self.per_doc_hidden_dim)\n",
    "        \n",
    "        self.day_transformer = HTransformer(emb=self.per_doc_hidden_dim, heads=4, depth=1)\n",
    "        \n",
    "        self.day_position_encoding = PositionalEncoding(self.per_doc_hidden_dim)\n",
    "        \n",
    "        self.final_hidden = Linear(self.per_doc_hidden_dim, self.final_hidden_dim)\n",
    "        \n",
    "        self.recist_out = Linear(self.final_hidden_dim, self.class_output_dim)\n",
    "\n",
    "        \n",
    "\n",
    "        \n",
    "\n",
    "    def forward(self, input_ids, mask, start_times):\n",
    "\n",
    "        \n",
    "        input_ids = input_ids.squeeze(0)\n",
    "        mask = mask.squeeze(0)\n",
    "        start_times = start_times.squeeze(0) # now (num_docs,)\n",
    "        \n",
    "        main = self.note_bert(input_ids, mask)\n",
    "        main = main.last_hidden_state[:,0,:].squeeze(1)\n",
    "        \n",
    "        main = self.per_doc_hidden(main)\n",
    "\n",
    "        # batch = sequence_length, embedding\n",
    "        # permute to get position encoding along temporal dimension\n",
    "\n",
    "\n",
    "        # add a single batch dimension, then position encode, then remove\n",
    "        main = main.unsqueeze(1)\n",
    "        main = self.day_position_encoding(main)\n",
    "        main = main.squeeze(1)\n",
    "        \n",
    "        # figure out unique start times.\n",
    "        unique_start_times = torch.unique(start_times)\n",
    "        \n",
    "        # loop over unique start times\n",
    "\n",
    "        day_tensor_list = []\n",
    "        for start_time in unique_start_times:\n",
    "            day_input = main[start_times == start_time]\n",
    "            \n",
    "            # batch axis back\n",
    "            day_input = day_input.unsqueeze(0)\n",
    "\n",
    "            day_output = torch.max(day_input, axis=1)[0]\n",
    "\n",
    "            day_tensor_list.append(day_output)\n",
    "        day_tensors = torch.cat(day_tensor_list)\n",
    "        \n",
    "\n",
    "        # batch axis back\n",
    "        day_tensors = day_tensors.unsqueeze(0)\n",
    "        \n",
    "        main = self.day_transformer(day_tensors)\n",
    "        main = self.final_hidden(main)\n",
    "        main = F.relu(main)\n",
    "        \n",
    "        # batch axis gone\n",
    "        main = main.squeeze(0)\n",
    "        main = self.recist_out(main).squeeze(1)\n",
    "       \n",
    "        \n",
    "        return main\n"
   ]
  },
  {
   "cell_type": "code",
   "execution_count": null,
   "id": "59351328-9174-4569-a6a2-18c6128441da",
   "metadata": {},
   "outputs": [],
   "source": []
  },
  {
   "cell_type": "code",
   "execution_count": null,
   "id": "cc5216cd-8a5f-42fc-a7a1-da142f128ebe",
   "metadata": {},
   "outputs": [],
   "source": []
  },
  {
   "cell_type": "code",
   "execution_count": 31,
   "id": "6acf7b68-30db-48db-9d71-a2ce511e558b",
   "metadata": {},
   "outputs": [
    {
     "name": "stdout",
     "output_type": "stream",
     "text": [
      "(30374, 6)\n",
      "(5477, 20)\n",
      "(6096, 20)\n"
     ]
    }
   ],
   "source": [
    "\n",
    "training = good_obses[good_obses['text'].notna()]\n",
    "validation = validation[validation['text'].notna()]\n",
    "test = test[test['text'].notna()]\n",
    "\n",
    "print(training.shape)\n",
    "print(validation.shape)\n",
    "print(test.shape)"
   ]
  },
  {
   "cell_type": "code",
   "execution_count": 32,
   "id": "6a33d0c6-6f65-4890-a33a-30cc3ce5966b",
   "metadata": {},
   "outputs": [
    {
     "name": "stdout",
     "output_type": "stream",
     "text": [
      "<class 'pandas.core.frame.DataFrame'>\n",
      "RangeIndex: 22558 entries, 0 to 22557\n",
      "Data columns (total 6 columns):\n",
      " #   Column             Non-Null Count  Dtype \n",
      "---  ------             --------------  ----- \n",
      " 0   obs                22558 non-null  int64 \n",
      " 1   time               22558 non-null  int64 \n",
      " 2   charttime          22558 non-null  int64 \n",
      " 3   recist_annotation  22558 non-null  object\n",
      " 4   text               22558 non-null  object\n",
      " 5   starttime          22558 non-null  int64 \n",
      "dtypes: int64(4), object(2)\n",
      "memory usage: 1.0+ MB\n"
     ]
    }
   ],
   "source": [
    "training_day_text = training.copy()\n",
    "training_day_text['text'] = training_day_text.text.astype(str)\n",
    "\n",
    "\n",
    "training_day_text = training_day_text.sort_values(by=['obs','time'])\n",
    "\n",
    "training_day_text['text'] = training_day_text.groupby(['obs','time'])['text'].transform(lambda x: ' '.join(x))\n",
    "training_day_text = training_day_text.groupby(['obs','time']).first().reset_index()\n",
    "training_day_text.info()"
   ]
  },
  {
   "cell_type": "code",
   "execution_count": 33,
   "id": "bd2993d1-d951-44b5-85b9-f9f12e6040ad",
   "metadata": {},
   "outputs": [],
   "source": [
    "# teacher inference on synthetic training\n",
    "\n",
    "themodel = RecistModel()\n",
    "themodel.load_state_dict(torch.load(prefix+'./recist_bert_htransformer_prcr.pt'))\n",
    "themodel.to(device)\n",
    "\n",
    "\n",
    "no_shuffle_train_dataset = data.DataLoader(UnlabeledRecistDataset(training.sort_values(by=['obs','time'])), batch_size=1, shuffle=False, num_workers=0)\n",
    "\n",
    "\n",
    "\n",
    "dflist = []\n",
    "for ids, mask, s_times in no_shuffle_train_dataset:\n",
    "    thisframe = pd.DataFrame()\n",
    "    \n",
    "    with torch.no_grad():\n",
    "        y_pred = themodel(ids.to(device), mask.to(device), s_times.to(device))\n",
    "        \n",
    "    thisframe = pd.DataFrame(y_pred.cpu().detach().numpy(), columns=['prcr_pred'])\n",
    "  \n",
    "    dflist.append(thisframe)\n",
    "\n",
    "    \n",
    "resultframe = pd.concat(dflist, axis=0)\n",
    "resultframe = resultframe.reset_index(drop=True)\n",
    "    \n",
    "\n",
    "output = training_day_text.reset_index(drop=True)\n",
    "\n",
    "train_output = pd.concat([output, resultframe], axis=1)\n",
    "train_output = train_output.sort_values(by=['obs','charttime']).reset_index(drop=True)\n",
    "\n",
    "train_output['outcome'] = train_output['prcr_pred']\n",
    "\n",
    "train_output['id_in_obs'] = train_output.groupby('obs').cumcount()\n",
    "train_output['outcome'] = np.where(train_output.id_in_obs==0, -1, train_output.outcome)\n",
    "train_output = train_output.rename(columns={'charttime':'date'})"
   ]
  },
  {
   "cell_type": "code",
   "execution_count": null,
   "id": "50ed81e9-823a-4237-be91-781b8ea0053d",
   "metadata": {},
   "outputs": [],
   "source": []
  },
  {
   "cell_type": "code",
   "execution_count": 34,
   "id": "8faab7e4-8671-48ca-8c5b-922c4b1d6c61",
   "metadata": {},
   "outputs": [],
   "source": [
    "train_output.to_csv('./auto_labeled_synthetic_prcr.csv')"
   ]
  },
  {
   "cell_type": "code",
   "execution_count": null,
   "id": "e38f2722-cb39-46fe-8a08-7a1e007818af",
   "metadata": {},
   "outputs": [],
   "source": []
  },
  {
   "cell_type": "code",
   "execution_count": null,
   "id": "ac805d77-088e-4349-a908-08307dc2eb01",
   "metadata": {},
   "outputs": [],
   "source": []
  },
  {
   "cell_type": "code",
   "execution_count": 35,
   "id": "c3a1c382",
   "metadata": {},
   "outputs": [],
   "source": [
    "# train loop\n",
    "from transformers import get_scheduler, get_linear_schedule_with_warmup\n",
    "from torch.optim import AdamW, Adam\n",
    "\n",
    "def train_model(model, num_epochs, trainloader, validloader):\n",
    "    \n",
    "    \n",
    "    import torch.optim as optim\n",
    "    \n",
    "    num_training_steps = num_epochs * len(trainloader)\n",
    "\n",
    "    \n",
    "    optimizer = AdamW(model.parameters(), lr=1e-5, weight_decay=1e-3)\n",
    "    lr_scheduler = get_linear_schedule_with_warmup(optimizer, num_warmup_steps=0, num_training_steps = num_epochs * num_training_steps)  # PyTorch scheduler\n",
    "    \n",
    "    \n",
    "    model.to(device)\n",
    "    \n",
    "    for epoch in range(num_epochs):  \n",
    "        running_train_main_loss = 0.0\n",
    "        mean_train_main_loss = 0.0\n",
    "\n",
    "        \n",
    "        running_val_main_loss = 0.0\n",
    "        mean_val_main_loss = 0.0\n",
    "\n",
    "        \n",
    "        num_train_batches = len(trainloader)\n",
    "                \n",
    "        model.train()\n",
    "        \n",
    "\n",
    "            \n",
    "        \n",
    "        for i, batch in enumerate(trainloader, 0):\n",
    "            ids, mask, s_times, y_true  = [x.to(device) for x in batch]\n",
    "\n",
    "\n",
    "            #get rid of batch1 axis from target labels\n",
    "            y_true = y_true.squeeze(0)\n",
    "\n",
    "\n",
    "            y_true_list = []\n",
    "            \n",
    "            unique_times = torch.unique(s_times)\n",
    " \n",
    "            for unique_time in unique_times:\n",
    "                y_true_list.append(y_true[s_times.squeeze(0) == unique_time][0,])\n",
    "           \n",
    "            y_true = torch.stack(y_true_list, dim=0)\n",
    "\n",
    "            \n",
    "\n",
    "            #################### actual train step\n",
    "            \n",
    "            \n",
    "            optimizer.zero_grad()\n",
    "            pred_recist = model(ids, mask, s_times)\n",
    "            \n",
    "            y_true_use = y_true[y_true != -1]\n",
    "            pred_recist_use = pred_recist[y_true != -1]\n",
    "            \n",
    "    \n",
    "            \n",
    "            if(pred_recist_use.shape[0] > 1):\n",
    "                loss = F.binary_cross_entropy_with_logits(pred_recist_use, torch.sigmoid(y_true_use))            \n",
    "                loss.backward()\n",
    "                optimizer.step()\n",
    "                lr_scheduler.step()\n",
    "            else:\n",
    "                loss = torch.tensor(0)\n",
    "            \n",
    "            running_train_main_loss += loss.data.cpu().numpy()\n",
    "            mean_train_main_loss = running_train_main_loss / (i+1)\n",
    "\n",
    "            del ids, mask, s_times, y_true, pred_recist\n",
    "                \n",
    "            # print statistics\n",
    "            print('Epoch: ' + str(epoch+1) + ', batch: ' + str(i + 1) + '/' + str(num_train_batches) + ', main train loss: ' + str(mean_train_main_loss), end='\\r', flush=True)\n",
    "\n",
    "\n",
    "             \n",
    "        print('')\n",
    "            \n",
    "        if validloader is not None:\n",
    "            # validate\n",
    "            valid_batches = len(validloader)\n",
    "\n",
    "            model.eval()\n",
    "\n",
    "\n",
    "\n",
    "            for j, vbatch in enumerate(validloader, 0):\n",
    "\n",
    "                ids, mask, s_times, y_true  = [x.to(device) for x in vbatch]\n",
    "                \n",
    "                y_true = y_true.squeeze(0)\n",
    "\n",
    "                y_true_list = []\n",
    "\n",
    "                unique_times = torch.unique(s_times)\n",
    "                for unique_time in unique_times:\n",
    "                    y_true_list.append(y_true[s_times.squeeze(0) == unique_time][0,])\n",
    "\n",
    "                y_true = torch.stack(y_true_list, dim=0)\n",
    "\n",
    "                with torch.no_grad():\n",
    "                    pred_recist = model(ids, mask, s_times)\n",
    "            \n",
    "                y_true_use = y_true[y_true != -1]\n",
    "                pred_recist_use = pred_recist[y_true != -1]\n",
    "\n",
    "                if(pred_recist_use.shape[0] > 1):\n",
    "                    loss = F.binary_cross_entropy_with_logits(pred_recist_use, y_true_use)\n",
    "\n",
    "\n",
    "                else:\n",
    "                    loss = torch.tensor(0)\n",
    "\n",
    "\n",
    "                running_val_main_loss += loss.data.cpu().numpy()\n",
    "                \n",
    "                del ids, mask, s_times, y_true, pred_recist\n",
    "            mean_val_main_loss = running_val_main_loss / (j+1)\n",
    "                \n",
    "\n",
    " \n",
    "\n",
    "               \n",
    "            print('Epoch: ' + str(epoch+1) + ', main val loss: ' + str(mean_val_main_loss), end='\\r', flush=True)\n",
    "        print('')\n",
    "    \n",
    "\n"
   ]
  },
  {
   "cell_type": "code",
   "execution_count": 36,
   "id": "dd32e744-f20f-48f1-a952-db8cb6911882",
   "metadata": {},
   "outputs": [
    {
     "name": "stdout",
     "output_type": "stream",
     "text": [
      "Epoch: 1, batch: 5723/5723, main train loss: 0.26967588218591984\n",
      "Epoch: 1, main val loss: 0.3151173466610709\n",
      "Epoch: 2, batch: 5723/5723, main train loss: 0.25084063599106475\n",
      "Epoch: 2, main val loss: 0.3081454917808752\n",
      "Epoch: 3, batch: 5723/5723, main train loss: 0.24738730369817593\n",
      "Epoch: 3, main val loss: 0.2822447872882628\n"
     ]
    }
   ],
   "source": [
    "themodel = RecistModel().to(device)\n",
    "trainloader = data.DataLoader(LabeledRecistDataset(train_output.reset_index(drop=True)), batch_size=1, num_workers=10, shuffle=True)\n",
    "\n",
    "validloader = data.DataLoader(LabeledRecistDataset(validation.reset_index(drop=True)), batch_size=1, num_workers=2, shuffle=True)\n",
    "\n",
    "train_model(themodel,3, trainloader, validloader)\n",
    "\n",
    "torch.save(themodel.state_dict(), prefix+'./recist_synthetic_htransformer_prcr.pt')"
   ]
  },
  {
   "cell_type": "code",
   "execution_count": 37,
   "id": "94989161",
   "metadata": {},
   "outputs": [
    {
     "name": "stdout",
     "output_type": "stream",
     "text": [
      "<class 'pandas.core.frame.DataFrame'>\n",
      "Int64Index: 5477 entries, 44 to 60449\n",
      "Data columns (total 20 columns):\n",
      " #   Column                   Non-Null Count  Dtype         \n",
      "---  ------                   --------------  -----         \n",
      " 0   Unnamed: 0               5477 non-null   int64         \n",
      " 1   dfci_mrn                 5477 non-null   int64         \n",
      " 2   date                     5477 non-null   datetime64[ns]\n",
      " 3   report_text              5477 non-null   object        \n",
      " 4   protocol                 5477 non-null   object        \n",
      " 5   overall_response         5477 non-null   object        \n",
      " 6   narrative_text           5476 non-null   object        \n",
      " 7   impression_text          3255 non-null   object        \n",
      " 8   drop_this_obs            5477 non-null   bool          \n",
      " 9   split                    5477 non-null   object        \n",
      " 10  obs                      5477 non-null   int64         \n",
      " 11  overall_response_factor  5477 non-null   int64         \n",
      " 12  report_length            5477 non-null   int64         \n",
      " 13  text                     5477 non-null   object        \n",
      " 14  starttime                5477 non-null   datetime64[ns]\n",
      " 15  time                     5477 non-null   int64         \n",
      " 16  prcr_true                5477 non-null   int64         \n",
      " 17  pd_true                  5477 non-null   int64         \n",
      " 18  outcome                  5477 non-null   int64         \n",
      " 19  is_bl                    5477 non-null   bool          \n",
      "dtypes: bool(2), datetime64[ns](2), int64(9), object(7)\n",
      "memory usage: 823.7+ KB\n"
     ]
    }
   ],
   "source": [
    "validation.info()"
   ]
  },
  {
   "cell_type": "code",
   "execution_count": 38,
   "id": "7d287a8c",
   "metadata": {},
   "outputs": [
    {
     "name": "stdout",
     "output_type": "stream",
     "text": [
      "<class 'pandas.core.frame.DataFrame'>\n",
      "Int64Index: 5477 entries, 44 to 60449\n",
      "Data columns (total 20 columns):\n",
      " #   Column                   Non-Null Count  Dtype         \n",
      "---  ------                   --------------  -----         \n",
      " 0   Unnamed: 0               5477 non-null   int64         \n",
      " 1   dfci_mrn                 5477 non-null   int64         \n",
      " 2   date                     5477 non-null   datetime64[ns]\n",
      " 3   report_text              5477 non-null   object        \n",
      " 4   protocol                 5477 non-null   object        \n",
      " 5   overall_response         5477 non-null   object        \n",
      " 6   narrative_text           5476 non-null   object        \n",
      " 7   impression_text          3255 non-null   object        \n",
      " 8   drop_this_obs            5477 non-null   bool          \n",
      " 9   split                    5477 non-null   object        \n",
      " 10  obs                      5477 non-null   int64         \n",
      " 11  overall_response_factor  5477 non-null   int64         \n",
      " 12  report_length            5477 non-null   int64         \n",
      " 13  text                     5477 non-null   object        \n",
      " 14  starttime                5477 non-null   datetime64[ns]\n",
      " 15  time                     5477 non-null   int64         \n",
      " 16  prcr_true                5477 non-null   int64         \n",
      " 17  pd_true                  5477 non-null   int64         \n",
      " 18  outcome                  5477 non-null   int64         \n",
      " 19  is_bl                    5477 non-null   bool          \n",
      "dtypes: bool(2), datetime64[ns](2), int64(9), object(7)\n",
      "memory usage: 823.7+ KB\n"
     ]
    }
   ],
   "source": [
    "validation.head()\n",
    "validation_day_text = validation.copy()\n",
    "validation_day_text['text'] = validation_day_text.text.astype(str)\n",
    "validation_day_text.info()"
   ]
  },
  {
   "cell_type": "code",
   "execution_count": 39,
   "id": "db75ce91",
   "metadata": {},
   "outputs": [
    {
     "name": "stdout",
     "output_type": "stream",
     "text": [
      "<class 'pandas.core.frame.DataFrame'>\n",
      "RangeIndex: 2496 entries, 0 to 2495\n",
      "Data columns (total 20 columns):\n",
      " #   Column                   Non-Null Count  Dtype         \n",
      "---  ------                   --------------  -----         \n",
      " 0   obs                      2496 non-null   int64         \n",
      " 1   dfci_mrn                 2496 non-null   int64         \n",
      " 2   time                     2496 non-null   int64         \n",
      " 3   Unnamed: 0               2496 non-null   int64         \n",
      " 4   date                     2496 non-null   datetime64[ns]\n",
      " 5   report_text              2496 non-null   object        \n",
      " 6   protocol                 2496 non-null   object        \n",
      " 7   overall_response         2496 non-null   object        \n",
      " 8   narrative_text           2496 non-null   object        \n",
      " 9   impression_text          1836 non-null   object        \n",
      " 10  drop_this_obs            2496 non-null   bool          \n",
      " 11  split                    2496 non-null   object        \n",
      " 12  overall_response_factor  2496 non-null   int64         \n",
      " 13  report_length            2496 non-null   int64         \n",
      " 14  text                     2496 non-null   object        \n",
      " 15  starttime                2496 non-null   datetime64[ns]\n",
      " 16  prcr_true                2496 non-null   int64         \n",
      " 17  pd_true                  2496 non-null   int64         \n",
      " 18  outcome                  2496 non-null   int64         \n",
      " 19  is_bl                    2496 non-null   bool          \n",
      "dtypes: bool(2), datetime64[ns](2), int64(9), object(7)\n",
      "memory usage: 356.0+ KB\n"
     ]
    }
   ],
   "source": [
    "validation_day_text = validation_day_text.sort_values(by=['obs','dfci_mrn','time'])\n",
    "\n",
    "validation_day_text['text'] = validation_day_text.groupby(['obs','dfci_mrn','time'])['text'].transform(lambda x: ' '.join(x))\n",
    "validation_day_text = validation_day_text.groupby(['obs','dfci_mrn','time']).first().reset_index()\n",
    "validation_day_text.info()"
   ]
  },
  {
   "cell_type": "code",
   "execution_count": 40,
   "id": "38525c7d",
   "metadata": {},
   "outputs": [
    {
     "data": {
      "text/plain": [
       "0    1771\n",
       "1     725\n",
       "Name: prcr_true, dtype: int64"
      ]
     },
     "execution_count": 40,
     "metadata": {},
     "output_type": "execute_result"
    }
   ],
   "source": [
    "validation_day_text.prcr_true.value_counts()"
   ]
  },
  {
   "cell_type": "code",
   "execution_count": 41,
   "id": "70c159f6",
   "metadata": {},
   "outputs": [
    {
     "data": {
      "text/plain": [
       " 0    1284\n",
       " 1     725\n",
       "-1     487\n",
       "Name: outcome, dtype: int64"
      ]
     },
     "execution_count": 41,
     "metadata": {},
     "output_type": "execute_result"
    }
   ],
   "source": [
    "validation_day_text.outcome.value_counts()"
   ]
  },
  {
   "cell_type": "code",
   "execution_count": 42,
   "id": "d28b7cbf-a0dc-457b-b9ac-ca3c10af6f77",
   "metadata": {},
   "outputs": [
    {
     "data": {
      "text/plain": [
       " 0    29328\n",
       " 1    18635\n",
       "-1    12631\n",
       "Name: outcome, dtype: int64"
      ]
     },
     "execution_count": 42,
     "metadata": {},
     "output_type": "execute_result"
    }
   ],
   "source": [
    "all_reports.outcome.value_counts()"
   ]
  },
  {
   "cell_type": "code",
   "execution_count": 43,
   "id": "7d2cd48f",
   "metadata": {},
   "outputs": [],
   "source": [
    "# write out actual validation dataset\n",
    "themodel = RecistModel()\n",
    "themodel.load_state_dict(torch.load(prefix+'./recist_synthetic_htransformer_prcr.pt'))\n",
    "themodel.to(device)\n",
    "\n",
    "\n",
    "no_shuffle_valid_dataset = data.DataLoader(LabeledRecistDataset(validation.sort_values(by=['obs','time'])), batch_size=1, shuffle=False, num_workers=0)\n",
    "\n",
    "\n",
    "\n",
    "dflist = []\n",
    "for ids, mask, s_times, y_true in no_shuffle_valid_dataset:\n",
    "    thisframe = pd.DataFrame()\n",
    "    \n",
    "    with torch.no_grad():\n",
    "        y_pred = themodel(ids.to(device), mask.to(device), s_times.to(device))\n",
    "        \n",
    "    thisframe = pd.DataFrame(y_pred.cpu().detach().numpy(), columns=['prcr_pred'])\n",
    "  \n",
    "    dflist.append(thisframe)\n",
    "    \n",
    "resultframe = pd.concat(dflist, axis=0)\n",
    "resultframe = resultframe.reset_index(drop=True)\n",
    "    \n",
    "\n",
    "output = validation_day_text.reset_index(drop=True)\n",
    "\n",
    "\n",
    "\n",
    "valid_output = pd.concat([output, resultframe], axis=1)\n",
    "valid_output = valid_output.sort_values(by=['obs','dfci_mrn', 'date']).reset_index(drop=True)\n",
    "\n",
    "\n",
    "\n",
    "\n"
   ]
  },
  {
   "cell_type": "code",
   "execution_count": 44,
   "id": "5c9df69a",
   "metadata": {},
   "outputs": [],
   "source": [
    "valid_output = valid_output.sort_values(by=['obs','dfci_mrn', 'date']).reset_index(drop=True)\n",
    "\n",
    "\n"
   ]
  },
  {
   "cell_type": "code",
   "execution_count": 45,
   "id": "594ea767-c041-42bc-ae78-97475aec337e",
   "metadata": {},
   "outputs": [
    {
     "data": {
      "text/plain": [
       "(2496, 21)"
      ]
     },
     "execution_count": 45,
     "metadata": {},
     "output_type": "execute_result"
    }
   ],
   "source": [
    "valid_output.shape"
   ]
  },
  {
   "cell_type": "code",
   "execution_count": 46,
   "id": "5e2ef256",
   "metadata": {},
   "outputs": [],
   "source": [
    "import seaborn as sns\n",
    "import pandas as pd\n",
    "import numpy as np\n"
   ]
  },
  {
   "cell_type": "code",
   "execution_count": 47,
   "id": "b93dec6c",
   "metadata": {},
   "outputs": [
    {
     "name": "stderr",
     "output_type": "stream",
     "text": [
      "/tmp/ipykernel_3049/207542133.py:2: UserWarning: \n",
      "\n",
      "`distplot` is a deprecated function and will be removed in seaborn v0.14.0.\n",
      "\n",
      "Please adapt your code to use either `displot` (a figure-level function with\n",
      "similar flexibility) or `histplot` (an axes-level function for histograms).\n",
      "\n",
      "For a guide to updating your code to use the new functions, please see\n",
      "https://gist.github.com/mwaskom/de44147ed2974457ad6372750bbe5751\n",
      "\n",
      "  sns.distplot(valid_output.query('prcr_true==1').prcr_pred)\n",
      "/tmp/ipykernel_3049/207542133.py:3: UserWarning: \n",
      "\n",
      "`distplot` is a deprecated function and will be removed in seaborn v0.14.0.\n",
      "\n",
      "Please adapt your code to use either `displot` (a figure-level function with\n",
      "similar flexibility) or `histplot` (an axes-level function for histograms).\n",
      "\n",
      "For a guide to updating your code to use the new functions, please see\n",
      "https://gist.github.com/mwaskom/de44147ed2974457ad6372750bbe5751\n",
      "\n",
      "  sns.distplot(valid_output.query('prcr_true==0').prcr_pred)\n"
     ]
    },
    {
     "data": {
      "text/plain": [
       "<Axes: xlabel='prcr_pred', ylabel='Density'>"
      ]
     },
     "execution_count": 47,
     "metadata": {},
     "output_type": "execute_result"
    },
    {
     "data": {
      "image/png": "[encoded data removed]",
      "text/plain": [
       "<Figure size 640x480 with 1 Axes>"
      ]
     },
     "metadata": {},
     "output_type": "display_data"
    }
   ],
   "source": [
    "import seaborn as sns\n",
    "sns.distplot(valid_output.query('prcr_true==1').prcr_pred)\n",
    "sns.distplot(valid_output.query('prcr_true==0').prcr_pred)\n"
   ]
  },
  {
   "cell_type": "code",
   "execution_count": 48,
   "id": "db12616f-bc10-42e0-8871-72ddd7c0ecd3",
   "metadata": {},
   "outputs": [
    {
     "name": "stderr",
     "output_type": "stream",
     "text": [
      "/tmp/ipykernel_3049/4230742259.py:2: UserWarning: \n",
      "\n",
      "`distplot` is a deprecated function and will be removed in seaborn v0.14.0.\n",
      "\n",
      "Please adapt your code to use either `displot` (a figure-level function with\n",
      "similar flexibility) or `histplot` (an axes-level function for histograms).\n",
      "\n",
      "For a guide to updating your code to use the new functions, please see\n",
      "https://gist.github.com/mwaskom/de44147ed2974457ad6372750bbe5751\n",
      "\n",
      "  sns.distplot(valid_output.query('prcr_true==1').prcr_pred)\n",
      "/tmp/ipykernel_3049/4230742259.py:3: UserWarning: \n",
      "\n",
      "`distplot` is a deprecated function and will be removed in seaborn v0.14.0.\n",
      "\n",
      "Please adapt your code to use either `displot` (a figure-level function with\n",
      "similar flexibility) or `histplot` (an axes-level function for histograms).\n",
      "\n",
      "For a guide to updating your code to use the new functions, please see\n",
      "https://gist.github.com/mwaskom/de44147ed2974457ad6372750bbe5751\n",
      "\n",
      "  sns.distplot(valid_output.query('prcr_true==0').prcr_pred)\n"
     ]
    },
    {
     "data": {
      "text/plain": [
       "<Axes: xlabel='prcr_pred', ylabel='Density'>"
      ]
     },
     "execution_count": 48,
     "metadata": {},
     "output_type": "execute_result"
    },
    {
     "data": {
      "image/png": "[encoded data removed]",
      "text/plain": [
       "<Figure size 640x480 with 1 Axes>"
      ]
     },
     "metadata": {},
     "output_type": "display_data"
    }
   ],
   "source": [
    "valid_output= valid_output[valid_output.overall_response != 'BL']\n",
    "sns.distplot(valid_output.query('prcr_true==1').prcr_pred)\n",
    "sns.distplot(valid_output.query('prcr_true==0').prcr_pred)\n"
   ]
  },
  {
   "cell_type": "code",
   "execution_count": 49,
   "id": "e26b227a",
   "metadata": {},
   "outputs": [],
   "source": [
    "from sklearn.metrics import roc_auc_score\n",
    "import matplotlib as plt\n",
    "\n",
    "%matplotlib inline"
   ]
  },
  {
   "cell_type": "code",
   "execution_count": 50,
   "id": "830296da",
   "metadata": {},
   "outputs": [],
   "source": [
    "\n",
    "\n",
    "# helper functions for performance evaluation\n",
    "\n",
    "\n",
    "def plot_confusion_matrix(cm, classes,\n",
    "                          normalize=False,\n",
    "                          title='Confusion matrix',\n",
    "                          cmap=plt.cm.Blues):\n",
    "    \"\"\"\n",
    "    This function prints and plots the confusion matrix.\n",
    "    Normalization can be applied by setting `normalize=True`.\n",
    "    \"\"\"\n",
    "\n",
    "    import itertools\n",
    "    import numpy as np\n",
    "\n",
    "    from sklearn.metrics import confusion_matrix\n",
    "  \n",
    "    if normalize:\n",
    "        cm = cm.astype('float') / cm.sum(axis=1)[:, np.newaxis]\n",
    "        print(\"Normalized confusion matrix\")\n",
    "    else:\n",
    "        print('Confusion matrix, without normalization')\n",
    "\n",
    "    print(cm)\n",
    "\n",
    "    plt.imshow(cm, interpolation='nearest', cmap=cmap)\n",
    "    plt.title(title)\n",
    "    plt.colorbar()\n",
    "    tick_marks = np.arange(len(classes))\n",
    "    plt.xticks(tick_marks, classes, rotation=45)\n",
    "    plt.yticks(tick_marks, classes)\n",
    "\n",
    "    fmt = '.2f' if normalize else 'd'\n",
    "    thresh = cm.max() / 2.\n",
    "    for i, j in itertools.product(range(cm.shape[0]), range(cm.shape[1])):\n",
    "        plt.text(j, i, format(cm[i, j], fmt),\n",
    "                 horizontalalignment=\"center\",\n",
    "                 color=\"white\" if cm[i, j] > thresh else \"black\")\n",
    "\n",
    "    plt.ylabel('True label')\n",
    "    plt.xlabel('Predicted label')\n",
    "    plt.tight_layout()\n",
    "    plt.grid(False)\n",
    "    plt.show()\n",
    "\n",
    "    \n",
    "    \n",
    "# now eval model function\n",
    "# evaluate model auc\n",
    "def eval_model(predicted, actual, graph=True):\n",
    "    from sklearn.metrics import roc_auc_score\n",
    "    from sklearn.metrics import f1_score\n",
    "    from sklearn.metrics import classification_report\n",
    "    from sklearn.metrics import precision_recall_curve\n",
    "    from sklearn.metrics import auc\n",
    "    from sklearn.metrics import roc_curve\n",
    "    \n",
    "    outcome_counts = np.unique(actual, return_counts=True)[1]\n",
    "    prob_outcome = outcome_counts[1] / (outcome_counts[0] + outcome_counts[1])\n",
    "\n",
    "    print(\"AUC \" + str(roc_auc_score(actual, predicted)))\n",
    "\n",
    "    # calculate the fpr and tpr for all thresholds of the classification\n",
    "    fpr, tpr, threshold = roc_curve(actual, predicted)\n",
    "    roc_auc = auc(fpr, tpr)\n",
    "\n",
    "    from sklearn.metrics import average_precision_score\n",
    "    average_precision = average_precision_score(actual, predicted)\n",
    "\n",
    "    print('Outcome probability: ' + str(prob_outcome))\n",
    "\n",
    "    \n",
    "    print('Average precision score: {0:0.2f}'.format(\n",
    "        average_precision))\n",
    "\n",
    "    # best F1\n",
    "    precision, recall, thresholds = precision_recall_curve(actual, predicted)\n",
    "\n",
    "    \n",
    "    F1 = 2*((precision*recall)/(precision+recall))\n",
    "    print(\"Best F1: \" + str(max(F1)))\n",
    "\n",
    "    \n",
    "    # threshold for best F1\n",
    "    bestF1_thresh = thresholds[np.argmax(F1)]\n",
    "    \n",
    "    if graph==True:\n",
    "        print('Best F1 threshold: ' + str(bestF1_thresh))\n",
    "        return bestF1_thresh\n",
    "    \n",
    "    # method I: plt\n",
    "    import matplotlib.pyplot as plt\n",
    "    plt.title('Receiver Operating Characteristic: ' )\n",
    "    plt.plot(fpr, tpr, 'b', label = 'AUC = %0.2f' % roc_auc)\n",
    "    plt.legend(loc = 'lower right')\n",
    "    plt.plot([0, 1], [0, 1],'r--')\n",
    "    plt.xlim([0, 1])\n",
    "    plt.ylim([0, 1])\n",
    "    plt.ylabel('True Positive Rate')\n",
    "    plt.xlabel('False Positive Rate')\n",
    "    plt.show()\n",
    "\n",
    "\n",
    "\n",
    "    import matplotlib.pyplot as plt\n",
    "\n",
    "    \n",
    "    plt.plot(recall, precision, color='b')\n",
    "    plt.plot([0,1],[prob_outcome,prob_outcome], 'r--')\n",
    "    plt.step(recall, precision, color='b', alpha=0.2,\n",
    "             where='post')\n",
    "    plt.fill_between(recall, precision, alpha=0.2, color='b')\n",
    "\n",
    "    plt.xlabel('Recall (Sensitivity)')\n",
    "    plt.ylabel('Precision (PPV)')\n",
    "    plt.ylim([0.0, 1.05])\n",
    "    plt.xlim([0.0, 1.0])\n",
    "    plt.title('2-class Precision-Recall curve: AP={0:0.2f}'.format(\n",
    "            average_precision))\n",
    "    plt.show()\n",
    "\n",
    "\n",
    "\n",
    "    print(\"Threshold for best F1:\")\n",
    "    print(bestF1_thresh)\n",
    "    pred_outcome_best_f1_thresh = np.where(predicted >= bestF1_thresh,1,0)\n",
    "    pred_outcome_05_thresh = np.where(predicted >= 0.5,1,0)\n",
    "    \n",
    "    # # predictions\n",
    "    \n",
    "    # # confusion matrix\n",
    "    print(\"Confusion matrix at best F1 thresh:\")\n",
    "    from sklearn.metrics import confusion_matrix\n",
    "    cnf_matrix = confusion_matrix(actual, pred_outcome_best_f1_thresh)\n",
    "    np.set_printoptions(precision=2)\n",
    "    # Plot non-normalized confusion matrix\n",
    "    plt.figure()\n",
    "    plot_confusion_matrix(cnf_matrix, classes=['No','Yes'],\n",
    "                        title='Confusion matrix, without normalization')\n",
    "    print(\"Metrics at best F1 thresh (specificity is recall for negative class):\")\n",
    "    from sklearn.metrics import classification_report\n",
    "    print(classification_report(actual, pred_outcome_best_f1_thresh, target_names=['No','Yes']))\n",
    "\n",
    "\n",
    "    print(\"Confusion matrix at 0.5 thresh:\")\n",
    "    from sklearn.metrics import confusion_matrix\n",
    "    cnf_matrix = confusion_matrix(actual, pred_outcome_05_thresh)\n",
    "    np.set_printoptions(precision=2)\n",
    "    # Plot non-normalized confusion matrix\n",
    "    plt.figure()\n",
    "    plot_confusion_matrix(cnf_matrix, classes=['No','Yes'],\n",
    "                        title='Confusion matrix, without normalization')\n",
    "    print(\"Metrics at 0.5 thresh thresh (specificity is recall for negative class):\")\n",
    "    print(classification_report(actual, pred_outcome_05_thresh, target_names=['No','Yes']))\n",
    "\n",
    "\n",
    "    # # plot threshold vs ppv curve\n",
    "    plt.plot(thresholds, precision[0:len(precision)-1], color='b')\n",
    "\n",
    "    plt.xlabel('Threshold probability')\n",
    "    plt.ylabel('Precision (PPV)')\n",
    "    plt.ylim([0.0, 1.0])\n",
    "    plt.xlim([0.0, 1.0])\n",
    "    plt.title('Threshold vs precision')\n",
    "    plt.show()\n",
    "\n",
    "    # histogram\n",
    "    plt.hist(predicted)\n",
    "    plt.title(\"Histogram\")\n",
    "    plt.xlabel(\"Predicted probability\" )\n",
    "    plt.ylabel(\"Frequency\")\n",
    "    plt.show()\n",
    "\n",
    "    return bestF1_thresh\n",
    "    "
   ]
  },
  {
   "cell_type": "code",
   "execution_count": 51,
   "id": "a7c18c70",
   "metadata": {},
   "outputs": [
    {
     "data": {
      "text/plain": [
       "0.8201149425287357"
      ]
     },
     "execution_count": 51,
     "metadata": {},
     "output_type": "execute_result"
    }
   ],
   "source": [
    "# AUROC for getting pdscans\n",
    "roc_auc_score(valid_output.outcome, valid_output.prcr_pred)\n"
   ]
  },
  {
   "cell_type": "code",
   "execution_count": 52,
   "id": "a880af35",
   "metadata": {
    "tags": []
   },
   "outputs": [
    {
     "name": "stdout",
     "output_type": "stream",
     "text": [
      "AUC 0.8201149425287357\n",
      "Outcome probability: 0.36087605774016923\n",
      "Average precision score: 0.70\n",
      "Best F1: 0.6832018038331454\n",
      "Best F1 threshold: -1.3420634\n"
     ]
    },
    {
     "data": {
      "text/plain": [
       "-1.3420634"
      ]
     },
     "execution_count": 52,
     "metadata": {},
     "output_type": "execute_result"
    }
   ],
   "source": [
    "eval_model(valid_output.prcr_pred, valid_output.outcome, graph=True)"
   ]
  },
  {
   "cell_type": "code",
   "execution_count": null,
   "id": "8fa2fb03-e2bc-49bb-ad95-8e138fcaa888",
   "metadata": {},
   "outputs": [],
   "source": []
  },
  {
   "cell_type": "code",
   "execution_count": null,
   "id": "79012951-5eda-48e2-87dc-ffe000a15331",
   "metadata": {},
   "outputs": [],
   "source": []
  },
  {
   "cell_type": "code",
   "execution_count": 53,
   "id": "1d218dff-db61-42a3-aacd-ccfa762425e1",
   "metadata": {},
   "outputs": [
    {
     "name": "stdout",
     "output_type": "stream",
     "text": [
      "<class 'pandas.core.frame.DataFrame'>\n",
      "Int64Index: 6096 entries, 148 to 60471\n",
      "Data columns (total 20 columns):\n",
      " #   Column                   Non-Null Count  Dtype         \n",
      "---  ------                   --------------  -----         \n",
      " 0   Unnamed: 0               6096 non-null   int64         \n",
      " 1   dfci_mrn                 6096 non-null   int64         \n",
      " 2   date                     6096 non-null   datetime64[ns]\n",
      " 3   report_text              6096 non-null   object        \n",
      " 4   protocol                 6096 non-null   object        \n",
      " 5   overall_response         6096 non-null   object        \n",
      " 6   narrative_text           6096 non-null   object        \n",
      " 7   impression_text          3350 non-null   object        \n",
      " 8   drop_this_obs            6096 non-null   bool          \n",
      " 9   split                    6096 non-null   object        \n",
      " 10  obs                      6096 non-null   int64         \n",
      " 11  overall_response_factor  6096 non-null   int64         \n",
      " 12  report_length            6096 non-null   int64         \n",
      " 13  text                     6096 non-null   object        \n",
      " 14  starttime                6096 non-null   datetime64[ns]\n",
      " 15  time                     6096 non-null   int64         \n",
      " 16  prcr_true                6096 non-null   int64         \n",
      " 17  pd_true                  6096 non-null   int64         \n",
      " 18  outcome                  6096 non-null   int64         \n",
      " 19  is_bl                    6096 non-null   bool          \n",
      "dtypes: bool(2), datetime64[ns](2), int64(9), object(7)\n",
      "memory usage: 916.8+ KB\n"
     ]
    }
   ],
   "source": [
    "test.info()"
   ]
  },
  {
   "cell_type": "code",
   "execution_count": 55,
   "id": "a148735d-6273-4dd9-b71a-5f1709504cb5",
   "metadata": {},
   "outputs": [
    {
     "name": "stdout",
     "output_type": "stream",
     "text": [
      "<class 'pandas.core.frame.DataFrame'>\n",
      "Int64Index: 6096 entries, 148 to 60471\n",
      "Data columns (total 20 columns):\n",
      " #   Column                   Non-Null Count  Dtype         \n",
      "---  ------                   --------------  -----         \n",
      " 0   Unnamed: 0               6096 non-null   int64         \n",
      " 1   dfci_mrn                 6096 non-null   int64         \n",
      " 2   date                     6096 non-null   datetime64[ns]\n",
      " 3   report_text              6096 non-null   object        \n",
      " 4   protocol                 6096 non-null   object        \n",
      " 5   overall_response         6096 non-null   object        \n",
      " 6   narrative_text           6096 non-null   object        \n",
      " 7   impression_text          3350 non-null   object        \n",
      " 8   drop_this_obs            6096 non-null   bool          \n",
      " 9   split                    6096 non-null   object        \n",
      " 10  obs                      6096 non-null   int64         \n",
      " 11  overall_response_factor  6096 non-null   int64         \n",
      " 12  report_length            6096 non-null   int64         \n",
      " 13  text                     6096 non-null   object        \n",
      " 14  starttime                6096 non-null   datetime64[ns]\n",
      " 15  time                     6096 non-null   int64         \n",
      " 16  prcr_true                6096 non-null   int64         \n",
      " 17  pd_true                  6096 non-null   int64         \n",
      " 18  outcome                  6096 non-null   int64         \n",
      " 19  is_bl                    6096 non-null   bool          \n",
      "dtypes: bool(2), datetime64[ns](2), int64(9), object(7)\n",
      "memory usage: 916.8+ KB\n"
     ]
    }
   ],
   "source": [
    "test.head()\n",
    "test_day_text = test.copy()\n",
    "test_day_text['text'] = test_day_text.text.astype(str)\n",
    "test_day_text.info()"
   ]
  },
  {
   "cell_type": "code",
   "execution_count": 57,
   "id": "2033224d-cd28-488e-af99-1aebb1c2cf3a",
   "metadata": {},
   "outputs": [
    {
     "name": "stdout",
     "output_type": "stream",
     "text": [
      "<class 'pandas.core.frame.DataFrame'>\n",
      "RangeIndex: 2694 entries, 0 to 2693\n",
      "Data columns (total 20 columns):\n",
      " #   Column                   Non-Null Count  Dtype         \n",
      "---  ------                   --------------  -----         \n",
      " 0   obs                      2694 non-null   int64         \n",
      " 1   dfci_mrn                 2694 non-null   int64         \n",
      " 2   time                     2694 non-null   int64         \n",
      " 3   Unnamed: 0               2694 non-null   int64         \n",
      " 4   date                     2694 non-null   datetime64[ns]\n",
      " 5   report_text              2694 non-null   object        \n",
      " 6   protocol                 2694 non-null   object        \n",
      " 7   overall_response         2694 non-null   object        \n",
      " 8   narrative_text           2694 non-null   object        \n",
      " 9   impression_text          1865 non-null   object        \n",
      " 10  drop_this_obs            2694 non-null   bool          \n",
      " 11  split                    2694 non-null   object        \n",
      " 12  overall_response_factor  2694 non-null   int64         \n",
      " 13  report_length            2694 non-null   int64         \n",
      " 14  text                     2694 non-null   object        \n",
      " 15  starttime                2694 non-null   datetime64[ns]\n",
      " 16  prcr_true                2694 non-null   int64         \n",
      " 17  pd_true                  2694 non-null   int64         \n",
      " 18  outcome                  2694 non-null   int64         \n",
      " 19  is_bl                    2694 non-null   bool          \n",
      "dtypes: bool(2), datetime64[ns](2), int64(9), object(7)\n",
      "memory usage: 384.2+ KB\n"
     ]
    }
   ],
   "source": [
    "test_day_text = test_day_text.sort_values(by=['obs','dfci_mrn','time'])\n",
    "\n",
    "test_day_text['text'] = test_day_text.groupby(['obs','dfci_mrn','time'])['text'].transform(lambda x: ' '.join(x))\n",
    "test_day_text = test_day_text.groupby(['obs','dfci_mrn','time']).first().reset_index()\n",
    "test_day_text.info()"
   ]
  },
  {
   "cell_type": "code",
   "execution_count": 58,
   "id": "75c6cb57-0cda-4ad0-a46e-a778dade93d6",
   "metadata": {},
   "outputs": [
    {
     "data": {
      "text/plain": [
       "0    1981\n",
       "1     713\n",
       "Name: prcr_true, dtype: int64"
      ]
     },
     "execution_count": 58,
     "metadata": {},
     "output_type": "execute_result"
    }
   ],
   "source": [
    "test_day_text.prcr_true.value_counts()"
   ]
  },
  {
   "cell_type": "code",
   "execution_count": 59,
   "id": "89697624-fa20-408f-b9ec-5da6c9a20852",
   "metadata": {},
   "outputs": [
    {
     "data": {
      "text/plain": [
       " 0    1457\n",
       " 1     713\n",
       "-1     524\n",
       "Name: outcome, dtype: int64"
      ]
     },
     "execution_count": 59,
     "metadata": {},
     "output_type": "execute_result"
    }
   ],
   "source": [
    "test_day_text.outcome.value_counts()"
   ]
  },
  {
   "cell_type": "code",
   "execution_count": 60,
   "id": "8c64f1dd-d246-4ebf-8e29-4c4a6ba9c6cc",
   "metadata": {},
   "outputs": [
    {
     "data": {
      "text/plain": [
       " 0    29328\n",
       " 1    18635\n",
       "-1    12631\n",
       "Name: outcome, dtype: int64"
      ]
     },
     "execution_count": 60,
     "metadata": {},
     "output_type": "execute_result"
    }
   ],
   "source": [
    "all_reports.outcome.value_counts()"
   ]
  },
  {
   "cell_type": "code",
   "execution_count": 61,
   "id": "505a8677-10ed-44a9-920d-2f01f89e5f2d",
   "metadata": {},
   "outputs": [],
   "source": [
    "# write out actual validation dataset\n",
    "themodel = RecistModel()\n",
    "themodel.load_state_dict(torch.load(prefix+'./recist_synthetic_htransformer_prcr.pt'))\n",
    "themodel.to(device)\n",
    "\n",
    "\n",
    "no_shuffle_test_dataset = data.DataLoader(LabeledRecistDataset(test.sort_values(by=['obs','time'])), batch_size=1, shuffle=False, num_workers=0)\n",
    "\n",
    "\n",
    "\n",
    "dflist = []\n",
    "for ids, mask, s_times, y_true in no_shuffle_test_dataset:\n",
    "    thisframe = pd.DataFrame()\n",
    "    \n",
    "    with torch.no_grad():\n",
    "        y_pred = themodel(ids.to(device), mask.to(device), s_times.to(device))\n",
    "        \n",
    "    thisframe = pd.DataFrame(y_pred.cpu().detach().numpy(), columns=['prcr_pred'])\n",
    "  \n",
    "    dflist.append(thisframe)\n",
    "    \n",
    "resultframe = pd.concat(dflist, axis=0)\n",
    "resultframe = resultframe.reset_index(drop=True)\n",
    "    \n",
    "\n",
    "output = test_day_text.reset_index(drop=True)\n",
    "\n",
    "\n",
    "\n",
    "test_output = pd.concat([output, resultframe], axis=1)\n",
    "test_output = test_output.sort_values(by=['obs','dfci_mrn', 'date']).reset_index(drop=True)\n",
    "\n",
    "\n",
    "\n",
    "\n"
   ]
  },
  {
   "cell_type": "code",
   "execution_count": 62,
   "id": "b59c6892-b6e0-4780-875b-19fa876f5730",
   "metadata": {},
   "outputs": [],
   "source": [
    "test_output = test_output.sort_values(by=['obs','dfci_mrn', 'date']).reset_index(drop=True)\n",
    "\n",
    "\n"
   ]
  },
  {
   "cell_type": "code",
   "execution_count": 63,
   "id": "e8598872-1aec-4fd3-990f-bdb137e24689",
   "metadata": {},
   "outputs": [
    {
     "data": {
      "text/plain": [
       "(2694, 21)"
      ]
     },
     "execution_count": 63,
     "metadata": {},
     "output_type": "execute_result"
    }
   ],
   "source": [
    "test_output.shape"
   ]
  },
  {
   "cell_type": "code",
   "execution_count": 64,
   "id": "75d28900-7e38-4a26-baef-e1dea279fd7b",
   "metadata": {},
   "outputs": [],
   "source": [
    "import seaborn as sns\n",
    "import pandas as pd\n",
    "import numpy as np\n"
   ]
  },
  {
   "cell_type": "code",
   "execution_count": 65,
   "id": "508c0f52-2099-4d07-a6c3-3f5fcc7d9970",
   "metadata": {},
   "outputs": [
    {
     "name": "stderr",
     "output_type": "stream",
     "text": [
      "/tmp/ipykernel_3049/3894141603.py:2: UserWarning: \n",
      "\n",
      "`distplot` is a deprecated function and will be removed in seaborn v0.14.0.\n",
      "\n",
      "Please adapt your code to use either `displot` (a figure-level function with\n",
      "similar flexibility) or `histplot` (an axes-level function for histograms).\n",
      "\n",
      "For a guide to updating your code to use the new functions, please see\n",
      "https://gist.github.com/mwaskom/de44147ed2974457ad6372750bbe5751\n",
      "\n",
      "  sns.distplot(test_output.query('prcr_true==1').prcr_pred)\n",
      "/tmp/ipykernel_3049/3894141603.py:3: UserWarning: \n",
      "\n",
      "`distplot` is a deprecated function and will be removed in seaborn v0.14.0.\n",
      "\n",
      "Please adapt your code to use either `displot` (a figure-level function with\n",
      "similar flexibility) or `histplot` (an axes-level function for histograms).\n",
      "\n",
      "For a guide to updating your code to use the new functions, please see\n",
      "https://gist.github.com/mwaskom/de44147ed2974457ad6372750bbe5751\n",
      "\n",
      "  sns.distplot(test_output.query('prcr_true==0').prcr_pred)\n"
     ]
    },
    {
     "data": {
      "text/plain": [
       "<Axes: xlabel='prcr_pred', ylabel='Density'>"
      ]
     },
     "execution_count": 65,
     "metadata": {},
     "output_type": "execute_result"
    },
    {
     "data": {
      "image/png": "[encoded data removed]",
      "text/plain": [
       "<Figure size 640x480 with 1 Axes>"
      ]
     },
     "metadata": {},
     "output_type": "display_data"
    }
   ],
   "source": [
    "import seaborn as sns\n",
    "sns.distplot(test_output.query('prcr_true==1').prcr_pred)\n",
    "sns.distplot(test_output.query('prcr_true==0').prcr_pred)\n"
   ]
  },
  {
   "cell_type": "code",
   "execution_count": 66,
   "id": "c287be17-5210-4ec7-ab28-f0310a6d3c4f",
   "metadata": {},
   "outputs": [
    {
     "name": "stderr",
     "output_type": "stream",
     "text": [
      "/tmp/ipykernel_3049/1024521420.py:2: UserWarning: \n",
      "\n",
      "`distplot` is a deprecated function and will be removed in seaborn v0.14.0.\n",
      "\n",
      "Please adapt your code to use either `displot` (a figure-level function with\n",
      "similar flexibility) or `histplot` (an axes-level function for histograms).\n",
      "\n",
      "For a guide to updating your code to use the new functions, please see\n",
      "https://gist.github.com/mwaskom/de44147ed2974457ad6372750bbe5751\n",
      "\n",
      "  sns.distplot(test_output.query('prcr_true==1').prcr_pred)\n",
      "/tmp/ipykernel_3049/1024521420.py:3: UserWarning: \n",
      "\n",
      "`distplot` is a deprecated function and will be removed in seaborn v0.14.0.\n",
      "\n",
      "Please adapt your code to use either `displot` (a figure-level function with\n",
      "similar flexibility) or `histplot` (an axes-level function for histograms).\n",
      "\n",
      "For a guide to updating your code to use the new functions, please see\n",
      "https://gist.github.com/mwaskom/de44147ed2974457ad6372750bbe5751\n",
      "\n",
      "  sns.distplot(test_output.query('prcr_true==0').prcr_pred)\n"
     ]
    },
    {
     "data": {
      "text/plain": [
       "<Axes: xlabel='prcr_pred', ylabel='Density'>"
      ]
     },
     "execution_count": 66,
     "metadata": {},
     "output_type": "execute_result"
    },
    {
     "data": {
      "image/png": "[encoded data removed]",
      "text/plain": [
       "<Figure size 640x480 with 1 Axes>"
      ]
     },
     "metadata": {},
     "output_type": "display_data"
    }
   ],
   "source": [
    "test_output= test_output[test_output.overall_response != 'BL']\n",
    "sns.distplot(test_output.query('prcr_true==1').prcr_pred)\n",
    "sns.distplot(test_output.query('prcr_true==0').prcr_pred)\n"
   ]
  },
  {
   "cell_type": "code",
   "execution_count": 67,
   "id": "8af7b42f-1d3f-447e-b5d9-514b7959cc08",
   "metadata": {},
   "outputs": [],
   "source": [
    "from sklearn.metrics import roc_auc_score\n",
    "import matplotlib as plt\n",
    "\n",
    "%matplotlib inline"
   ]
  },
  {
   "cell_type": "code",
   "execution_count": 68,
   "id": "0368e8fd-8d11-43a6-bc75-17aabfc87469",
   "metadata": {},
   "outputs": [
    {
     "data": {
      "text/plain": [
       "0.8167390389867168"
      ]
     },
     "execution_count": 68,
     "metadata": {},
     "output_type": "execute_result"
    }
   ],
   "source": [
    "# AUROC for getting pdscans\n",
    "roc_auc_score(test_output.outcome, test_output.prcr_pred)\n"
   ]
  },
  {
   "cell_type": "code",
   "execution_count": 69,
   "id": "1d1caa99-4310-40a2-9a94-5842b76a9548",
   "metadata": {
    "tags": []
   },
   "outputs": [
    {
     "name": "stdout",
     "output_type": "stream",
     "text": [
      "AUC 0.8167390389867168\n",
      "Outcome probability: 0.32857142857142857\n",
      "Average precision score: 0.67\n",
      "Best F1: 0.6548387096774194\n",
      "Best F1 threshold: -1.4994994\n"
     ]
    },
    {
     "data": {
      "text/plain": [
       "-1.4994994"
      ]
     },
     "execution_count": 69,
     "metadata": {},
     "output_type": "execute_result"
    }
   ],
   "source": [
    "eval_model(test_output.prcr_pred, test_output.outcome, graph=True)"
   ]
  },
  {
   "cell_type": "code",
   "execution_count": null,
   "id": "dacc4e44-ebaa-4c0c-b14e-43c03d675dfe",
   "metadata": {},
   "outputs": [],
   "source": []
  }
 ],
 "metadata": {
  "kernelspec": {
   "display_name": "Python 3 (ipykernel)",
   "language": "python",
   "name": "python3"
  },
  "language_info": {
   "codemirror_mode": {
    "name": "ipython",
    "version": 3
   },
   "file_extension": ".py",
   "mimetype": "text/x-python",
   "name": "python",
   "nbconvert_exporter": "python",
   "pygments_lexer": "ipython3",
   "version": "3.9.18"
  }
 },
 "nbformat": 4,
 "nbformat_minor": 5
}
