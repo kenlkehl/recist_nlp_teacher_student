{
 "cells": [
  {
   "cell_type": "code",
   "execution_count": 10,
   "id": "71c6f6cb-34ef-464b-b620-87d3d751a619",
   "metadata": {},
   "outputs": [],
   "source": [
    "import numpy as np\n",
    "import pandas as pd\n",
    "import openai\n",
    "import time"
   ]
  },
  {
   "cell_type": "code",
   "execution_count": 2,
   "id": "c9be1a19-feb8-48dc-b5de-5ee94280787b",
   "metadata": {},
   "outputs": [],
   "source": [
    "openai.api_key = \"your_api_key_here\""
   ]
  },
  {
   "cell_type": "code",
   "execution_count": 3,
   "id": "85f55366-620c-4e0e-8c44-21f0948458de",
   "metadata": {},
   "outputs": [],
   "source": [
    "timc_data = pd.read_csv('./timc_recist_labeled_dataset_id.csv')"
   ]
  },
  {
   "cell_type": "code",
   "execution_count": null,
   "id": "47b49bc5-3634-457d-ab03-59c12e8f0ea7",
   "metadata": {},
   "outputs": [],
   "source": [
    "training_timc = timc_data[timc_data.split=='train'][['obs','date','overall_response']].groupby(['obs','date']).first().reset_index()\n",
    "training_timc = training_timc.sort_values(by=['obs','date'])\n",
    "training_timc['timepoint'] = training_timc.groupby('obs').cumcount()\n",
    "training_timc['annotation'] = training_timc.timepoint.astype(str) + \". \" + training_timc.overall_response\n",
    "training_timc.head()"
   ]
  },
  {
   "cell_type": "code",
   "execution_count": 5,
   "id": "55139098-0883-4617-b099-c56a17d05aea",
   "metadata": {},
   "outputs": [],
   "source": [
    "temp = training_timc[training_timc.obs==0]"
   ]
  },
  {
   "cell_type": "code",
   "execution_count": 6,
   "id": "27af703b-953b-4c6a-bdc9-9606aba1ff0a",
   "metadata": {},
   "outputs": [],
   "source": [
    "temp2 = \" \\n \".join(temp.annotation.tolist())"
   ]
  },
  {
   "cell_type": "code",
   "execution_count": 7,
   "id": "db49afb3-2cf4-4520-af16-939fa6c319c6",
   "metadata": {},
   "outputs": [],
   "source": [
    "base_prompt = \"\"\"\n",
    "Imagine a patient with advanced cancer; please choose the cancer type. The patient is treated on a clinical trial of a new drug. I will provide a list of timepoint-specific RECIST annotations corresponding to one or more imaging studies performed at that timepoint. For each timepoint annotation in the list, generate a list of one or more reports of a CT scan, PET/CT, bone scan, and/or MRI scan that could have been the basis for the RECIST annotation at that timepoint. Format your output as JSON, consisting of a list of timepoints, in which each timepoint element contains three fields. The first field should be the timepoint number (\"timepoint_number\"). The second should be the RECIST annotation (\"recist_annotation\"). The third should be a list of synthetic reports (\"synthetic_reports\") for that timepoint. The reports should be full-length radiology reports formatted as one string, including type of scan, narrative describing findings, and an impression. There should usually be multiple imaging studies performed at the each timepoint.\n",
    "Here is an example of a report:\n",
    "Examination: Computed Tomography (CT) of the Chest\n",
    "Indication: Non-small cell lung cancer, restaging.\n",
    "Technique: Axial images were obtained through the chest after the administration of intravenous contrast. Coronal and sagittal reformatted images were also reviewed.\n",
    "Findings:\n",
    "The primary tumor located in the right upper lobe appears to have decreased in size compared to the previous scan, measuring approximately 3.2 cm in the greatest dimension, previously 4.5 cm.\n",
    "There is no evidence of new pulmonary nodules or masses. The previously noted mediastinal and hilar lymphadenopathy has also decreased in size.\n",
    "There are no pleural or pericardial effusions. The heart size is within normal limits. The visualized upper abdomen is unremarkable.\n",
    "Impression:\n",
    "1. Decrease in size of the primary right upper lobe non-small cell lung cancer and associated lymphadenopathy, suggestive of response to therapy.\n",
    "2. No new pulmonary nodules or masses.\n",
    "3. No evidence of metastatic disease in the visualized upper abdomen.\n",
    "(end example)\n",
    "\n",
    "The list of annotations is as follows. Note that BL means baseline, PR means partial response, CR means complete response, SD means stable disease, and PD means progressive disease. \\n\"\"\"\n"
   ]
  },
  {
   "cell_type": "code",
   "execution_count": 8,
   "id": "d99c01bc-b0d1-4599-8ea2-b8a9056dceb7",
   "metadata": {},
   "outputs": [
    {
     "data": {
      "text/plain": [
       "5724"
      ]
     },
     "execution_count": 8,
     "metadata": {},
     "output_type": "execute_result"
    }
   ],
   "source": [
    "training_timc.obs.nunique()"
   ]
  },
  {
   "cell_type": "code",
   "execution_count": null,
   "id": "b91302f9-f46d-4e8c-8ca3-7ee7268394ab",
   "metadata": {},
   "outputs": [],
   "source": [
    "for i in range(training_timc.obs.nunique()):\n",
    "    thisobs = training_timc[training_timc.obs == i]\n",
    "    annotation_string = \" \\n \".join(thisobs.annotation.tolist())\n",
    "    prompt = base_prompt + annotation_string\n",
    "    try:\n",
    "        response = openai.ChatCompletion.create(\n",
    "        model = \"gpt-4-1106-preview\",\n",
    "        messages = [{\"role\": \"user\", \"content\": prompt}],\n",
    "        temperature = 0.7,\n",
    "        response_format = {'type': \"json_object\"}            \n",
    "        )\n",
    "    except:\n",
    "        time.sleep(10)\n",
    "        response = openai.ChatCompletion.create(\n",
    "        model = \"gpt-4-1106-preview\",\n",
    "        messages = [{\"role\": \"user\", \"content\": prompt}],\n",
    "        temperature = 0.7,\n",
    "        response_format = {'type': \"json_object\"}\n",
    "        )\n",
    "    \n",
    "    output_text = response['choices'][0]['message']['content']\n",
    "    with open('./synthetic_data/obs' + str(i) + '.txt', 'w') as f:\n",
    "        f.write(output_text)\n",
    "    \n",
    "    if i % 10 == 0:\n",
    "        print(i)\n",
    "    \n",
    "    \n",
    "               "
   ]
  },
  {
   "cell_type": "code",
   "execution_count": null,
   "id": "0e81a4db-3ca6-40ff-92ec-9763165d84c5",
   "metadata": {},
   "outputs": [],
   "source": []
  }
 ],
 "metadata": {
  "kernelspec": {
   "display_name": "Python 3 (ipykernel)",
   "language": "python",
   "name": "python3"
  },
  "language_info": {
   "codemirror_mode": {
    "name": "ipython",
    "version": 3
   },
   "file_extension": ".py",
   "mimetype": "text/x-python",
   "name": "python",
   "nbconvert_exporter": "python",
   "pygments_lexer": "ipython3",
   "version": "3.9.18"
  }
 },
 "nbformat": 4,
 "nbformat_minor": 5
}
