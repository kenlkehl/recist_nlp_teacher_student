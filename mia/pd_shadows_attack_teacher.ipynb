{
 "cells": [
  {
   "cell_type": "code",
   "execution_count": 1,
   "id": "4562b2a8",
   "metadata": {},
   "outputs": [],
   "source": [
    "import numpy as np\n",
    "import pandas as pd\n",
    "import pickle\n",
    "import os\n",
    "import torch\n",
    "os.environ[\"TOKENIZERS_PARALLELISM\"] = \"false\"\n",
    "os.environ['CUDA_VISIBLE_DEVICES'] = '1'\n"
   ]
  },
  {
   "cell_type": "code",
   "execution_count": 2,
   "id": "226809af-3047-4c9f-bef7-b4dfd0da231f",
   "metadata": {},
   "outputs": [],
   "source": [
    "os.environ['CUDA_LAUNCH_BLOCKING'] = '1'\n",
    "torch.use_deterministic_algorithms(False)\n",
    "torch.backends.cudnn.benchmark = False"
   ]
  },
  {
   "cell_type": "code",
   "execution_count": 3,
   "id": "33532154",
   "metadata": {},
   "outputs": [
    {
     "data": {
      "text/plain": [
       "True"
      ]
     },
     "execution_count": 3,
     "metadata": {},
     "output_type": "execute_result"
    }
   ],
   "source": [
    "torch.cuda.is_available()"
   ]
  },
  {
   "cell_type": "code",
   "execution_count": 4,
   "id": "323fe0e8-adef-40af-aefe-0bc81ab51521",
   "metadata": {},
   "outputs": [],
   "source": [
    "outcome='pd_true'"
   ]
  },
  {
   "cell_type": "code",
   "execution_count": 5,
   "id": "e084fd40-d147-45d2-bed5-b8bda521908e",
   "metadata": {},
   "outputs": [
    {
     "name": "stdout",
     "output_type": "stream",
     "text": [
      "There are 1 GPU(s) available.\n",
      "We will use the GPU: NVIDIA RTX A6000\n"
     ]
    }
   ],
   "source": [
    "import torch\n",
    "\n",
    "cuda = torch.device('cuda')     # Default CUDA device\n",
    "cuda0 = torch.device('cuda:0')\n",
    "cuda1 = torch.device('cuda:1')  \n",
    "\n",
    "\n",
    "# If there's a GPU available...\n",
    "if torch.cuda.is_available():    \n",
    "\n",
    "    # Tell PyTorch to use the GPU.    \n",
    "    device = torch.device(cuda)\n",
    "\n",
    "    print('There are %d GPU(s) available.' % torch.cuda.device_count())\n",
    "\n",
    "    print('We will use the GPU:', torch.cuda.get_device_name(cuda))\n",
    "\n",
    "# If not...\n",
    "else:\n",
    "    print('No GPU available, using the CPU instead.')\n",
    "    device = torch.device(\"cpu\")"
   ]
  },
  {
   "cell_type": "code",
   "execution_count": null,
   "id": "ef471993-c6a5-4a89-9c33-08804af96132",
   "metadata": {},
   "outputs": [],
   "source": []
  },
  {
   "cell_type": "code",
   "execution_count": 6,
   "id": "b4789c2b",
   "metadata": {},
   "outputs": [],
   "source": [
    "prefix = './'"
   ]
  },
  {
   "cell_type": "code",
   "execution_count": 7,
   "id": "392f05dd",
   "metadata": {},
   "outputs": [
    {
     "name": "stderr",
     "output_type": "stream",
     "text": [
      "/tmp/ipykernel_14856/1554159933.py:6: FutureWarning: The default value of regex will change from True to False in a future version.\n",
      "  all_reports['text'] = all_reports.text.str.lower().str.replace(\"\\r|\\n\", \" \")\n",
      "/tmp/ipykernel_14856/1554159933.py:7: FutureWarning: The default value of regex will change from True to False in a future version.\n",
      "  all_reports['text'] = all_reports.text.str.replace('\\s+', ' ')\n"
     ]
    }
   ],
   "source": [
    "all_reports = pd.read_csv(prefix + 'timc_recist_labeled_dataset_id.csv')\n",
    "all_reports['report_length'] = all_reports.report_text.str.len()\n",
    "all_reports['date'] = pd.to_datetime(all_reports.date)\n",
    "all_reports = all_reports.sort_values(by=['obs','dfci_mrn','date'])\n",
    "all_reports['text'] = all_reports[\"report_text\"]\n",
    "all_reports['text'] = all_reports.text.str.lower().str.replace(\"\\r|\\n\", \" \")\n",
    "all_reports['text'] = all_reports.text.str.replace('\\s+', ' ')"
   ]
  },
  {
   "cell_type": "code",
   "execution_count": 8,
   "id": "a949ab7a-1e02-43f2-aa69-77372550fa3b",
   "metadata": {},
   "outputs": [],
   "source": [
    "# remove\n",
    "all_reports = all_reports.drop_duplicates(subset=['dfci_mrn','text'])"
   ]
  },
  {
   "cell_type": "code",
   "execution_count": 9,
   "id": "76989b8a-cef5-498a-b150-17347008a7a2",
   "metadata": {},
   "outputs": [
    {
     "data": {
      "text/plain": [
       "(63897, 14)"
      ]
     },
     "execution_count": 9,
     "metadata": {},
     "output_type": "execute_result"
    }
   ],
   "source": [
    "all_reports.shape"
   ]
  },
  {
   "cell_type": "code",
   "execution_count": 10,
   "id": "7697ed52",
   "metadata": {},
   "outputs": [],
   "source": [
    "all_reports['starttime'] = all_reports.groupby('obs').date.transform('first')\n",
    "all_reports['time'] =  (all_reports['date'] - all_reports['starttime']).dt.days"
   ]
  },
  {
   "cell_type": "code",
   "execution_count": 11,
   "id": "613b48eb-fb7f-414a-b848-d3b084086d18",
   "metadata": {},
   "outputs": [
    {
     "data": {
      "text/plain": [
       "(63897, 16)"
      ]
     },
     "execution_count": 11,
     "metadata": {},
     "output_type": "execute_result"
    }
   ],
   "source": [
    "all_reports.shape"
   ]
  },
  {
   "cell_type": "code",
   "execution_count": 12,
   "id": "a528a7c7-4b82-432a-b364-6323f5168cd7",
   "metadata": {},
   "outputs": [
    {
     "data": {
      "text/plain": [
       "3    20140\n",
       "0    15935\n",
       "1    15396\n",
       "4     9188\n",
       "2     3238\n",
       "Name: overall_response_factor, dtype: int64"
      ]
     },
     "execution_count": 12,
     "metadata": {},
     "output_type": "execute_result"
    }
   ],
   "source": [
    "all_reports.overall_response_factor.value_counts()"
   ]
  },
  {
   "cell_type": "code",
   "execution_count": 13,
   "id": "05c66025-73f3-459a-a356-86c99ab29def",
   "metadata": {},
   "outputs": [
    {
     "data": {
      "text/plain": [
       "SD    20140\n",
       "BL    15935\n",
       "PR    15396\n",
       "PD     9188\n",
       "CR     3238\n",
       "Name: overall_response, dtype: int64"
      ]
     },
     "execution_count": 13,
     "metadata": {},
     "output_type": "execute_result"
    }
   ],
   "source": [
    "all_reports.overall_response.value_counts()"
   ]
  },
  {
   "cell_type": "code",
   "execution_count": 14,
   "id": "ee805503-796a-44d9-a3d7-05d8bebe80a0",
   "metadata": {},
   "outputs": [
    {
     "name": "stdout",
     "output_type": "stream",
     "text": [
      " 0    38774\n",
      "-1    15935\n",
      " 1     9188\n",
      "Name: outcome, dtype: int64\n",
      "0    45263\n",
      "1    18634\n",
      "Name: prcr_true, dtype: int64\n",
      "0    54709\n",
      "1     9188\n",
      "Name: pd_true, dtype: int64\n",
      " 0    38774\n",
      "-1    12630\n",
      " 1     9188\n",
      "Name: outcome, dtype: int64\n",
      "0    41958\n",
      "1    18634\n",
      "Name: prcr_true, dtype: int64\n",
      "0    51404\n",
      "1     9188\n",
      "Name: pd_true, dtype: int64\n"
     ]
    }
   ],
   "source": [
    "all_reports['prcr_true'] = np.where(all_reports.overall_response.isin(['PR','CR']), 1, 0)\n",
    "all_reports['pd_true'] = np.where(all_reports.overall_response == 'PD', 1, 0)\n",
    "\n",
    "# baseline scans get coded as -1 for both the PD and PRCR outcomes.\n",
    "all_reports['outcome'] = np.where(all_reports.overall_response == 'BL', -1, 0)\n",
    "all_reports['outcome'] = np.where(all_reports[outcome]==1, 1, all_reports['outcome'])\n",
    "print(all_reports.outcome.value_counts())\n",
    "print(all_reports.prcr_true.value_counts())\n",
    "print(all_reports.pd_true.value_counts())\n",
    "all_reports['is_bl'] = np.where(all_reports.overall_response == 'BL', True, False)\n",
    "\n",
    "good_obs = all_reports.groupby('obs').is_bl.all().reset_index()\n",
    "good_obs = good_obs[good_obs.is_bl == False]\n",
    "\n",
    "all_reports = pd.merge(all_reports, good_obs[['obs']], on='obs')\n",
    "\n",
    "print(all_reports.outcome.value_counts())\n",
    "print(all_reports.prcr_true.value_counts())\n",
    "print(all_reports.pd_true.value_counts())"
   ]
  },
  {
   "cell_type": "code",
   "execution_count": null,
   "id": "29d5fd21-553a-4e27-b8c3-b48807258a60",
   "metadata": {},
   "outputs": [],
   "source": []
  },
  {
   "cell_type": "code",
   "execution_count": 15,
   "id": "fbefd74e",
   "metadata": {},
   "outputs": [],
   "source": [
    "training = all_reports[all_reports['split'] == 'train']\n",
    "validation = all_reports[all_reports['split'] == 'validation']\n",
    "test = all_reports[all_reports['split'] == 'test']"
   ]
  },
  {
   "cell_type": "code",
   "execution_count": null,
   "id": "cc7ea541-53fc-48cb-b26b-78c0dae796d3",
   "metadata": {},
   "outputs": [],
   "source": []
  },
  {
   "cell_type": "code",
   "execution_count": null,
   "id": "5821a19f-131c-4c92-b362-ae91e8dabf93",
   "metadata": {},
   "outputs": [],
   "source": []
  },
  {
   "cell_type": "code",
   "execution_count": 16,
   "id": "90ae486f-c5c2-4178-b872-666f943a1f64",
   "metadata": {},
   "outputs": [],
   "source": [
    "from torch.utils import data\n",
    "import torch.nn.functional as F\n",
    "from transformers import AutoTokenizer\n",
    "\n",
    "class RecistDataset(data.Dataset):\n",
    "    def __init__(self, pandas_dataset):\n",
    "        self.data = pandas_dataset\n",
    "        self.max_doc_len = 512\n",
    "        self.tokenizer = AutoTokenizer.from_pretrained(\"medicalai/ClinicalBERT\")\n",
    "        self.observations = self.data.obs.unique()\n",
    "        \n",
    "    def __len__(self):\n",
    "        # how many observations (pt-trial combos) in the dataset\n",
    "        return len(self.observations)\n",
    "    \n",
    "    def __getitem__(self, index):\n",
    "        # get data for observation corresponding to index passed\n",
    "        thisobs = self.observations[index]\n",
    "        obs = self.data[self.data.obs == thisobs].copy().reset_index(drop=True).head(20)\n",
    "        \n",
    "        obs['date'] = pd.to_datetime(obs['date'])\n",
    "        obs = obs.sort_values(by=['date'])\n",
    "\n",
    "        start_times = torch.tensor(obs.time / 365, dtype=torch.float32)\n",
    "\n",
    "    \n",
    "        y_outcome = torch.tensor(obs['outcome'], dtype=torch.float32)\n",
    "\n",
    "        text = obs.text.tolist()\n",
    "        \n",
    "        \n",
    "        encoded_list = self.tokenizer(text, padding='max_length', max_length=self.max_doc_len, truncation=True)\n",
    "        input_ids = torch.tensor(encoded_list['input_ids'], dtype=torch.long)\n",
    "        attention_mask = torch.tensor(encoded_list['attention_mask'], dtype=torch.long) \n",
    "        \n",
    "        return input_ids, attention_mask, start_times, y_outcome\n",
    "\n",
    "    \n",
    "\n",
    "        "
   ]
  },
  {
   "cell_type": "code",
   "execution_count": 17,
   "id": "010a4728",
   "metadata": {},
   "outputs": [],
   "source": [
    "#model \n",
    "import math\n",
    "from transformers import AutoModel\n",
    "from torch.nn import functional as F\n",
    "import torch.nn as nn\n",
    "from torch import Tensor\n",
    "from torch.utils.data import DataLoader\n",
    "from torch.nn import LSTM, Linear, Embedding, Conv1d, MaxPool1d, GRU, LSTMCell, GRUCell, Dropout, AdaptiveMaxPool1d\n",
    "from recistmodels import HTransformer\n",
    "    \n",
    "    \n",
    "\n",
    "###### from: https://pytorch.org/tutorials/beginner/transformer_tutorial.html\n",
    "class PositionalEncoding(nn.Module):\n",
    "\n",
    "    def __init__(self, d_model: int, dropout: float = 0.0, max_len: int = 150):\n",
    "        super().__init__()\n",
    "        self.dropout = nn.Dropout(p=dropout)\n",
    "\n",
    "        position = torch.arange(max_len).unsqueeze(1)\n",
    "        div_term = torch.exp(torch.arange(0, d_model, 2) * (-math.log(10000.0) / d_model))\n",
    "        pe = torch.zeros(max_len, 1, d_model)\n",
    "        pe[:, 0, 0::2] = torch.sin(position * div_term)\n",
    "        pe[:, 0, 1::2] = torch.cos(position * div_term)\n",
    "        self.register_buffer('pe', pe)\n",
    "\n",
    "    def forward(self, x: Tensor) -> Tensor:\n",
    "        \"\"\"\n",
    "        Arguments:\n",
    "            x: Tensor, shape ``[seq_len, batch_size, embedding_dim]``\n",
    "        \"\"\"\n",
    "        x = x + self.pe[:x.size(0)]\n",
    "        return self.dropout(x)\n",
    "\n",
    "    \n",
    "class RecistModel(nn.Module):\n",
    "\n",
    "\n",
    "    def __init__(self):\n",
    "        super(RecistModel, self).__init__()\n",
    "        \n",
    "        self.day_tensor_dim = 768\n",
    "        self.per_doc_hidden_dim = 256\n",
    "        \n",
    "        self.final_hidden_dim = 128\n",
    "        self.class_output_dim=1\n",
    "      \n",
    "        self.note_bert = AutoModel.from_pretrained('medicalai/ClinicalBERT')\n",
    "            \n",
    "        self.per_doc_hidden = Linear(self.day_tensor_dim, self.per_doc_hidden_dim)\n",
    "        \n",
    "        self.day_transformer = HTransformer(emb=self.per_doc_hidden_dim, heads=4, depth=1)\n",
    "        \n",
    "        self.day_position_encoding = PositionalEncoding(self.per_doc_hidden_dim)\n",
    "        \n",
    "        self.final_hidden = Linear(self.per_doc_hidden_dim, self.final_hidden_dim)\n",
    "        \n",
    "        self.recist_out = Linear(self.final_hidden_dim, self.class_output_dim)\n",
    "\n",
    "        \n",
    "\n",
    "        \n",
    "\n",
    "    def forward(self, input_ids, mask, start_times):\n",
    "\n",
    "        \n",
    "        input_ids = input_ids.squeeze(0)\n",
    "        mask = mask.squeeze(0)\n",
    "        start_times = start_times.squeeze(0) # now (num_docs,)\n",
    "        \n",
    "        main = self.note_bert(input_ids, mask)\n",
    "        main = main.last_hidden_state[:,0,:].squeeze(1)\n",
    "              \n",
    "        main = self.per_doc_hidden(main)\n",
    "\n",
    "        # batch = sequence_length, embedding\n",
    "        # permute to get position encoding along temporal dimension\n",
    "\n",
    "\n",
    "        # add a single batch dimension, then position encode, then remove batch dimension\n",
    "        main = main.unsqueeze(1)\n",
    "        main = self.day_position_encoding(main)\n",
    "        main = main.squeeze(1)\n",
    "        \n",
    "        # figure out unique start times.\n",
    "        unique_start_times = torch.unique(start_times)\n",
    "        \n",
    "        # loop over unique start times\n",
    "        day_tensor_list = []\n",
    "        for start_time in unique_start_times:\n",
    "            day_input = main[start_times == start_time]\n",
    "            \n",
    "            # batch of 1 axis back\n",
    "            day_input = day_input.unsqueeze(0)\n",
    "\n",
    "            day_output = torch.max(day_input, axis=1)[0]\n",
    "\n",
    "            day_tensor_list.append(day_output)\n",
    "        day_tensors = torch.cat(day_tensor_list)\n",
    "        \n",
    "\n",
    "        # batch axis back for hierarchical transformer\n",
    "        day_tensors = day_tensors.unsqueeze(0)\n",
    "        main = self.day_transformer(day_tensors)\n",
    "        main = self.final_hidden(main)\n",
    "        main = F.relu(main)\n",
    "        \n",
    "        # remove batch axis again\n",
    "        main = main.squeeze(0)\n",
    "        main = self.recist_out(main).squeeze(1)\n",
    "               \n",
    "        return main\n"
   ]
  },
  {
   "cell_type": "code",
   "execution_count": 18,
   "id": "6acf7b68-30db-48db-9d71-a2ce511e558b",
   "metadata": {},
   "outputs": [
    {
     "name": "stdout",
     "output_type": "stream",
     "text": [
      "(49019, 20)\n",
      "(5477, 20)\n",
      "(6096, 20)\n"
     ]
    }
   ],
   "source": [
    "training = training[training['text'].notna()]\n",
    "validation = validation[validation['text'].notna()]\n",
    "test = test[test['text'].notna()]\n",
    "print(training.shape)\n",
    "print(validation.shape)\n",
    "print(test.shape)"
   ]
  },
  {
   "cell_type": "code",
   "execution_count": 19,
   "id": "7d2cd48f",
   "metadata": {},
   "outputs": [
    {
     "name": "stderr",
     "output_type": "stream",
     "text": [
      "/home/klkehl/miniconda3/envs/pytorch2/lib/python3.10/site-packages/torch/_utils.py:776: UserWarning: TypedStorage is deprecated. It will be removed in the future and UntypedStorage will be the only storage class. This should only matter to you if you are using storages directly.  To access UntypedStorage directly, use tensor.untyped_storage() instead of tensor.storage()\n",
      "  return self.fget.__get__(instance, owner)()\n"
     ]
    },
    {
     "data": {
      "text/plain": [
       "RecistModel(\n",
       "  (note_bert): DistilBertModel(\n",
       "    (embeddings): Embeddings(\n",
       "      (word_embeddings): Embedding(119547, 768, padding_idx=0)\n",
       "      (position_embeddings): Embedding(512, 768)\n",
       "      (LayerNorm): LayerNorm((768,), eps=1e-12, elementwise_affine=True)\n",
       "      (dropout): Dropout(p=0.1, inplace=False)\n",
       "    )\n",
       "    (transformer): Transformer(\n",
       "      (layer): ModuleList(\n",
       "        (0-5): 6 x TransformerBlock(\n",
       "          (attention): MultiHeadSelfAttention(\n",
       "            (dropout): Dropout(p=0.1, inplace=False)\n",
       "            (q_lin): Linear(in_features=768, out_features=768, bias=True)\n",
       "            (k_lin): Linear(in_features=768, out_features=768, bias=True)\n",
       "            (v_lin): Linear(in_features=768, out_features=768, bias=True)\n",
       "            (out_lin): Linear(in_features=768, out_features=768, bias=True)\n",
       "          )\n",
       "          (sa_layer_norm): LayerNorm((768,), eps=1e-12, elementwise_affine=True)\n",
       "          (ffn): FFN(\n",
       "            (dropout): Dropout(p=0.1, inplace=False)\n",
       "            (lin1): Linear(in_features=768, out_features=3072, bias=True)\n",
       "            (lin2): Linear(in_features=3072, out_features=768, bias=True)\n",
       "            (activation): GELUActivation()\n",
       "          )\n",
       "          (output_layer_norm): LayerNorm((768,), eps=1e-12, elementwise_affine=True)\n",
       "        )\n",
       "      )\n",
       "    )\n",
       "  )\n",
       "  (per_doc_hidden): Linear(in_features=768, out_features=256, bias=True)\n",
       "  (day_transformer): HTransformer(\n",
       "    (tblocks): Sequential(\n",
       "      (0): TransformerBlock(\n",
       "        (attention): SelfAttention(\n",
       "          (tokeys): Linear(in_features=256, out_features=256, bias=False)\n",
       "          (toqueries): Linear(in_features=256, out_features=256, bias=False)\n",
       "          (tovalues): Linear(in_features=256, out_features=256, bias=False)\n",
       "          (unifyheads): Linear(in_features=256, out_features=256, bias=True)\n",
       "        )\n",
       "        (norm1): LayerNorm((256,), eps=1e-05, elementwise_affine=True)\n",
       "        (norm2): LayerNorm((256,), eps=1e-05, elementwise_affine=True)\n",
       "        (ff): Sequential(\n",
       "          (0): Linear(in_features=256, out_features=1024, bias=True)\n",
       "          (1): ReLU()\n",
       "          (2): Linear(in_features=1024, out_features=256, bias=True)\n",
       "        )\n",
       "        (do): Dropout(p=0.0, inplace=False)\n",
       "      )\n",
       "    )\n",
       "    (do): Dropout(p=0.0, inplace=False)\n",
       "  )\n",
       "  (day_position_encoding): PositionalEncoding(\n",
       "    (dropout): Dropout(p=0.0, inplace=False)\n",
       "  )\n",
       "  (final_hidden): Linear(in_features=256, out_features=128, bias=True)\n",
       "  (recist_out): Linear(in_features=128, out_features=1, bias=True)\n",
       ")"
      ]
     },
     "execution_count": 19,
     "metadata": {},
     "output_type": "execute_result"
    }
   ],
   "source": [
    "# load model\n",
    "model = RecistModel()\n",
    "#model.load_state_dict(torch.load(prefix+'./recist_bert_htransformer_pd.pt'))\n",
    "#model.load_state_dict(torch.load(prefix+'./recist_noPHISyntheticBERT_htransformer_pd.pt'))\n",
    "\n",
    "model.to(device)\n",
    "model.eval()"
   ]
  },
  {
   "cell_type": "code",
   "execution_count": 20,
   "id": "476906e2",
   "metadata": {},
   "outputs": [],
   "source": [
    "import torch\n",
    "import torch.nn.functional as F\n",
    "from torch.utils.data import DataLoader\n",
    "import numpy as np\n",
    "from sklearn.neighbors import KernelDensity\n",
    "from torch.nn import MSELoss, BCEWithLogitsLoss\n",
    "\n",
    "# Set up the device\n",
    "device = torch.device('cuda' if torch.cuda.is_available() else 'cpu')\n",
    "\n",
    "\n",
    "# Define the loss criterion with no reduction to get per-example losses\n",
    "criterion = BCEWithLogitsLoss(reduction='none')\n"
   ]
  },
  {
   "cell_type": "code",
   "execution_count": 21,
   "id": "72ce9bfc-30c1-4c08-b1dc-08dc480cc4a0",
   "metadata": {},
   "outputs": [],
   "source": [
    "import torch\n",
    "import torch.nn.functional as F\n",
    "from torch.utils.data import DataLoader\n",
    "import numpy as np\n",
    "from sklearn.neighbors import KernelDensity\n",
    "from torch.nn import MSELoss, BCEWithLogitsLoss\n",
    "\n",
    "# Set up the device\n",
    "device = torch.device('cuda' if torch.cuda.is_available() else 'cpu')\n",
    "\n",
    "\n",
    "# Define the loss criterion with no reduction to get per-example losses\n",
    "criterion = BCEWithLogitsLoss(reduction='none')\n",
    "\n",
    "# Function to compute per-observation losses\n",
    "def compute_per_observation_loss(model, data_loader):\n",
    "    per_observation_losses = []\n",
    "    \n",
    "    model.eval()\n",
    "    with torch.no_grad():\n",
    "        for input_ids, attention_mask, start_times, y_outcome in data_loader:\n",
    "            # Move data to device\n",
    "            input_ids = input_ids.to(device)\n",
    "            attention_mask = attention_mask.to(device)\n",
    "            start_times = start_times.to(device)\n",
    "            y_outcome = y_outcome.to(device)\n",
    "            \n",
    "            y_outcome = y_outcome.squeeze(0)\n",
    "\n",
    "            y_true_list = []\n",
    "\n",
    "            unique_times = torch.unique(start_times)\n",
    "\n",
    "            for unique_time in unique_times:\n",
    "                y_true_list.append(y_outcome[start_times.squeeze(0) == unique_time][0,])\n",
    "\n",
    "            y_outcome = torch.stack(y_true_list, dim=0) \n",
    "            y_outcome = y_outcome.to(device)\n",
    "            \n",
    "            # Get the model's outputs\n",
    "            outputs = model(input_ids, attention_mask, start_times)\n",
    "            \n",
    "            # Compute the per-example losses\n",
    "            losses = criterion(outputs, y_outcome)  # losses per output\n",
    "            mean_loss = torch.mean(losses)  # Mean loss per observation\n",
    "            per_observation_losses.append(mean_loss.item())\n",
    "            \n",
    "    return per_observation_losses\n",
    "\n",
    "# Function to compute the likelihood ratio for a given sample\n",
    "def compute_likelihood_ratio(model, sample):\n",
    "    input_ids, attention_mask, start_times, y_outcome = sample\n",
    "    input_ids = input_ids.to(device)\n",
    "    attention_mask = attention_mask.to(device)\n",
    "    start_times = start_times.to(device)\n",
    "    \n",
    "    y_outcome = y_outcome.squeeze(0)\n",
    "\n",
    "    y_true_list = []\n",
    "\n",
    "    unique_times = torch.unique(start_times)\n",
    "\n",
    "    for unique_time in unique_times:\n",
    "        y_true_list.append(y_outcome[start_times.squeeze(0) == unique_time][0,])\n",
    "\n",
    "    y_outcome = torch.stack(y_true_list, dim=0) \n",
    "    y_outcome = y_outcome.to(device)\n",
    "    \n",
    "    with torch.no_grad():\n",
    "        outputs = model(input_ids, attention_mask, start_times)\n",
    "        losses = criterion(outputs, y_outcome)\n",
    "        mean_loss = torch.mean(losses)\n",
    "        loss_value = mean_loss.item()\n",
    "        \n",
    "    # Compute the log likelihoods under both KDEs\n",
    "    log_likelihood_member = kde_members.score([[loss_value]])  # Returns log density\n",
    "    log_likelihood_nonmember = kde_nonmembers.score([[loss_value]])\n",
    "    \n",
    "    # Compute the likelihood ratio\n",
    "    likelihood_ratio = np.exp(log_likelihood_member - log_likelihood_nonmember)\n",
    "    \n",
    "    return likelihood_ratio, loss_value"
   ]
  },
  {
   "cell_type": "code",
   "execution_count": null,
   "id": "aef675ac-4cd7-4050-a8b2-41f64226c492",
   "metadata": {},
   "outputs": [],
   "source": []
  },
  {
   "cell_type": "code",
   "execution_count": null,
   "id": "ca1cd7cc-2e38-44b2-9ff7-240c2b795a64",
   "metadata": {},
   "outputs": [],
   "source": []
  },
  {
   "cell_type": "code",
   "execution_count": null,
   "id": "97a35edf-1300-4322-a202-d6da95e89e59",
   "metadata": {},
   "outputs": [],
   "source": []
  },
  {
   "cell_type": "code",
   "execution_count": 23,
   "id": "00f5e851-acd2-4136-b847-c447c29be415",
   "metadata": {},
   "outputs": [
    {
     "name": "stdout",
     "output_type": "stream",
     "text": [
      "<class 'pandas.core.frame.DataFrame'>\n",
      "Int64Index: 5477 entries, 44 to 60447\n",
      "Data columns (total 20 columns):\n",
      " #   Column                   Non-Null Count  Dtype         \n",
      "---  ------                   --------------  -----         \n",
      " 0   Unnamed: 0               5477 non-null   int64         \n",
      " 1   dfci_mrn                 5477 non-null   int64         \n",
      " 2   date                     5477 non-null   datetime64[ns]\n",
      " 3   report_text              5477 non-null   object        \n",
      " 4   protocol                 5477 non-null   object        \n",
      " 5   overall_response         5477 non-null   object        \n",
      " 6   narrative_text           5476 non-null   object        \n",
      " 7   impression_text          3255 non-null   object        \n",
      " 8   drop_this_obs            5477 non-null   bool          \n",
      " 9   split                    5477 non-null   object        \n",
      " 10  obs                      5477 non-null   int64         \n",
      " 11  overall_response_factor  5477 non-null   int64         \n",
      " 12  report_length            5477 non-null   int64         \n",
      " 13  text                     5477 non-null   object        \n",
      " 14  starttime                5477 non-null   datetime64[ns]\n",
      " 15  time                     5477 non-null   int64         \n",
      " 16  prcr_true                5477 non-null   int64         \n",
      " 17  pd_true                  5477 non-null   int64         \n",
      " 18  outcome                  5477 non-null   int64         \n",
      " 19  is_bl                    5477 non-null   bool          \n",
      "dtypes: bool(2), datetime64[ns](2), int64(9), object(7)\n",
      "memory usage: 823.7+ KB\n"
     ]
    },
    {
     "data": {
      "text/plain": [
       "552"
      ]
     },
     "execution_count": 23,
     "metadata": {},
     "output_type": "execute_result"
    }
   ],
   "source": [
    "\n",
    "validation.info()\n",
    "validation.obs.nunique()"
   ]
  },
  {
   "cell_type": "code",
   "execution_count": 24,
   "id": "5c52ad5e-45ef-413b-bf43-b0454651ab79",
   "metadata": {},
   "outputs": [],
   "source": [
    "# train loop\n",
    "from transformers import get_scheduler, get_linear_schedule_with_warmup\n",
    "from torch.optim import AdamW, Adam\n",
    "\n",
    "def train_model(model, num_epochs, trainloader, validloader=None):\n",
    "    \n",
    "    \n",
    "    import torch.optim as optim\n",
    "\n",
    "    num_training_steps = num_epochs * len(trainloader)\n",
    "\n",
    "    \n",
    "    optimizer = AdamW(model.parameters(), lr=1e-5, weight_decay=1e-3)\n",
    "    lr_scheduler = get_linear_schedule_with_warmup(optimizer, num_warmup_steps=0, num_training_steps = num_epochs * num_training_steps)  # PyTorch scheduler\n",
    "    \n",
    "    model.to(device)\n",
    "    \n",
    "    for epoch in range(num_epochs):  \n",
    "        running_train_main_loss = 0.0\n",
    "        mean_train_main_loss = 0.0\n",
    "\n",
    "        \n",
    "        running_val_main_loss = 0.0\n",
    "        mean_val_main_loss = 0.0\n",
    "\n",
    "        \n",
    "        num_train_batches = len(trainloader)\n",
    "                \n",
    "        model.train()\n",
    "        \n",
    "\n",
    "            \n",
    "        \n",
    "        for i, batch in enumerate(trainloader, 0):\n",
    "            ids, mask,  s_times, y_true  = [x.to(device) for x in batch]\n",
    "\n",
    "            #get rid of batch1 axis from target labels\n",
    "            y_true = y_true.squeeze(0)\n",
    "\n",
    "            y_true_list = []\n",
    "            \n",
    "            unique_times = torch.unique(s_times)\n",
    " \n",
    "            for unique_time in unique_times:\n",
    "                y_true_list.append(y_true[s_times.squeeze(0) == unique_time][0,])\n",
    "           \n",
    "            y_true = torch.stack(y_true_list, dim=0)          \n",
    "            \n",
    "            optimizer.zero_grad()\n",
    "            pred_recist = model(ids, mask, s_times)\n",
    "            \n",
    "            y_true_use = y_true[y_true != -1]\n",
    "            pred_recist_use = pred_recist[y_true != -1]\n",
    "            \n",
    "    \n",
    "            \n",
    "            if(pred_recist_use.shape[0] > 0):\n",
    "                loss = F.binary_cross_entropy_with_logits(pred_recist_use, y_true_use)            \n",
    "                loss.backward()\n",
    "                optimizer.step()\n",
    "                lr_scheduler.step()\n",
    "            else:\n",
    "                loss = torch.tensor(0)\n",
    "            \n",
    "            running_train_main_loss += loss.data.cpu().numpy()\n",
    "            mean_train_main_loss = running_train_main_loss / (i+1)\n",
    "\n",
    "            del ids, mask, s_times, y_true, pred_recist, pred_recist_use, y_true_use, y_true_list\n",
    "                \n",
    "            # print statistics\n",
    "            print('Epoch: ' + str(epoch+1) + ', batch: ' + str(i + 1) + '/' + str(num_train_batches) + ', main train loss: ' + str(mean_train_main_loss), end='\\r', flush=True)\n",
    "\n",
    "\n",
    "             \n",
    "        print('')\n",
    "            \n",
    "        if validloader is not None:\n",
    "            # validate\n",
    "            valid_batches = len(validloader)\n",
    "\n",
    "            model.eval()\n",
    "\n",
    "            for j, vbatch in enumerate(validloader, 0):\n",
    "\n",
    "                ids, mask,  s_times, y_true  = [x.to(device) for x in vbatch]\n",
    "                \n",
    "                #get rid of batch1 axis from target labels\n",
    "                y_true = y_true.squeeze(0)\n",
    "\n",
    "                y_true_list = []\n",
    "\n",
    "                unique_times = torch.unique(s_times)\n",
    "                for unique_time in unique_times:\n",
    "                    y_true_list.append(y_true[s_times.squeeze(0) == unique_time][0,])\n",
    "\n",
    "                y_true = torch.stack(y_true_list, dim=0)\n",
    "\n",
    "                with torch.no_grad():\n",
    "                    pred_recist = model(ids, mask, s_times)\n",
    "            \n",
    "                y_true_use = y_true[y_true != -1]\n",
    "                pred_recist_use = pred_recist[y_true != -1]\n",
    "\n",
    "                if(pred_recist_use.shape[0] > 0):\n",
    "                    loss = F.binary_cross_entropy_with_logits(pred_recist_use, y_true_use)\n",
    "                else:\n",
    "                    loss = torch.tensor(0)\n",
    "\n",
    "                running_val_main_loss += loss.data.cpu().numpy()\n",
    "                \n",
    "                del ids, mask, s_times, y_true, pred_recist, y_true_use, pred_recist_use, y_true_list\n",
    "            mean_val_main_loss = running_val_main_loss / (j+1)\n",
    "                \n",
    "            print('Epoch: ' + str(epoch+1) + ', main val loss: ' + str(mean_val_main_loss), end='\\r', flush=True)\n",
    "        print('')\n",
    "    \n",
    "\n"
   ]
  },
  {
   "cell_type": "code",
   "execution_count": 41,
   "id": "b6908130-6770-4eb4-882b-dae9054436a1",
   "metadata": {},
   "outputs": [],
   "source": [
    "# try shadow model approach\n",
    "# Your full dataset as a pandas DataFrame\n",
    "#full_pandas_dataset = validation  # Replace with your DataFrame\n",
    "\n",
    "# Parameters for shadow models\n",
    "num_shadow_models = 30  # Number of shadow models to train\n",
    "#shadow_dataset_size = int(len(full_pandas_dataset) * 0.5)  # Size of each shadow dataset\n",
    "\n",
    "# Function to create shadow datasets\n",
    "def create_shadow_datasets(full_dataset, num_models, dataset_size):\n",
    "    np.random.seed(42)\n",
    "    unique_obses = full_dataset.obs.unique()\n",
    "    shadow_datasets = []\n",
    "    for i in range(num_models):\n",
    "        sample_obs_ids = np.random.choice(unique_obses, dataset_size)\n",
    "        shadow_data = full_dataset[full_dataset.obs.isin(sample_obs_ids)]\n",
    "        shadow_datasets.append(shadow_data.reset_index(drop=True))\n",
    "    return shadow_datasets\n",
    "\n",
    "# Create shadow datasets\n",
    "shadow_datasets = create_shadow_datasets(validation, num_shadow_models, 400)"
   ]
  },
  {
   "cell_type": "code",
   "execution_count": 42,
   "id": "93f2b0ab-2a2d-47b8-9526-bfc915b3c60d",
   "metadata": {},
   "outputs": [
    {
     "name": "stdout",
     "output_type": "stream",
     "text": [
      "Training shadow model 1/30\n"
     ]
    },
    {
     "name": "stderr",
     "output_type": "stream",
     "text": [
      "/home/klkehl/miniconda3/envs/pytorch2/lib/python3.10/site-packages/torch/_utils.py:776: UserWarning: TypedStorage is deprecated. It will be removed in the future and UntypedStorage will be the only storage class. This should only matter to you if you are using storages directly.  To access UntypedStorage directly, use tensor.untyped_storage() instead of tensor.storage()\n",
      "  return self.fget.__get__(instance, owner)()\n"
     ]
    },
    {
     "name": "stdout",
     "output_type": "stream",
     "text": [
      "Epoch: 1, batch: 114/114, main train loss: 0.6609282300137637\n",
      "\n",
      "Epoch: 2, batch: 114/114, main train loss: 0.6085083685946047\n",
      "\n",
      "Epoch: 3, batch: 114/114, main train loss: 0.5629597676819876\n",
      "\n",
      "Epoch: 4, batch: 114/114, main train loss: 0.49425842488805455\n",
      "\n",
      "Epoch: 5, batch: 114/114, main train loss: 0.40666142681188756\n",
      "\n",
      "Training shadow model 2/30\n"
     ]
    },
    {
     "name": "stderr",
     "output_type": "stream",
     "text": [
      "/home/klkehl/miniconda3/envs/pytorch2/lib/python3.10/site-packages/torch/_utils.py:776: UserWarning: TypedStorage is deprecated. It will be removed in the future and UntypedStorage will be the only storage class. This should only matter to you if you are using storages directly.  To access UntypedStorage directly, use tensor.untyped_storage() instead of tensor.storage()\n",
      "  return self.fget.__get__(instance, owner)()\n"
     ]
    },
    {
     "name": "stdout",
     "output_type": "stream",
     "text": [
      "Epoch: 1, batch: 115/115, main train loss: 0.6599958171015299\n",
      "\n",
      "Epoch: 2, batch: 115/115, main train loss: 0.6327458990656811\n",
      "\n",
      "Epoch: 3, batch: 115/115, main train loss: 0.6221155012431352\n",
      "\n",
      "Epoch: 4, batch: 115/115, main train loss: 0.6055909371894339\n",
      "\n",
      "Epoch: 5, batch: 115/115, main train loss: 0.5418879099514173\n",
      "\n",
      "Training shadow model 3/30\n"
     ]
    },
    {
     "name": "stderr",
     "output_type": "stream",
     "text": [
      "/home/klkehl/miniconda3/envs/pytorch2/lib/python3.10/site-packages/torch/_utils.py:776: UserWarning: TypedStorage is deprecated. It will be removed in the future and UntypedStorage will be the only storage class. This should only matter to you if you are using storages directly.  To access UntypedStorage directly, use tensor.untyped_storage() instead of tensor.storage()\n",
      "  return self.fget.__get__(instance, owner)()\n"
     ]
    },
    {
     "name": "stdout",
     "output_type": "stream",
     "text": [
      "Epoch: 1, batch: 114/114, main train loss: 0.6532817825413587\n",
      "\n",
      "Epoch: 2, batch: 114/114, main train loss: 0.6460426052411398\n",
      "\n",
      "Epoch: 3, batch: 114/114, main train loss: 0.6289239348026744\n",
      "\n",
      "Epoch: 4, batch: 114/114, main train loss: 0.5941384590247221\n",
      "\n",
      "Epoch: 5, batch: 114/114, main train loss: 0.5065295973367858\n",
      "\n",
      "Training shadow model 4/30\n"
     ]
    },
    {
     "name": "stderr",
     "output_type": "stream",
     "text": [
      "/home/klkehl/miniconda3/envs/pytorch2/lib/python3.10/site-packages/torch/_utils.py:776: UserWarning: TypedStorage is deprecated. It will be removed in the future and UntypedStorage will be the only storage class. This should only matter to you if you are using storages directly.  To access UntypedStorage directly, use tensor.untyped_storage() instead of tensor.storage()\n",
      "  return self.fget.__get__(instance, owner)()\n"
     ]
    },
    {
     "name": "stdout",
     "output_type": "stream",
     "text": [
      "Epoch: 1, batch: 107/107, main train loss: 0.6618548695729157\n",
      "\n",
      "Epoch: 2, batch: 107/107, main train loss: 0.6349717244923672\n",
      "\n",
      "Epoch: 3, batch: 107/107, main train loss: 0.6328418259030191\n",
      "\n",
      "Epoch: 4, batch: 107/107, main train loss: 0.5803226725520375\n",
      "\n",
      "Epoch: 5, batch: 107/107, main train loss: 0.46537623812105056\n",
      "\n",
      "Training shadow model 5/30\n"
     ]
    },
    {
     "name": "stderr",
     "output_type": "stream",
     "text": [
      "/home/klkehl/miniconda3/envs/pytorch2/lib/python3.10/site-packages/torch/_utils.py:776: UserWarning: TypedStorage is deprecated. It will be removed in the future and UntypedStorage will be the only storage class. This should only matter to you if you are using storages directly.  To access UntypedStorage directly, use tensor.untyped_storage() instead of tensor.storage()\n",
      "  return self.fget.__get__(instance, owner)()\n"
     ]
    },
    {
     "name": "stdout",
     "output_type": "stream",
     "text": [
      "Epoch: 1, batch: 103/103, main train loss: 0.6917966436413885\n",
      "\n",
      "Epoch: 2, batch: 103/103, main train loss: 0.6872287433124283\n",
      "\n",
      "Epoch: 3, batch: 103/103, main train loss: 0.6633560729836955\n",
      "\n",
      "Epoch: 4, batch: 103/103, main train loss: 0.5944252429367269\n",
      "\n",
      "Epoch: 5, batch: 103/103, main train loss: 0.5176603096781425\n",
      "\n",
      "Training shadow model 6/30\n"
     ]
    },
    {
     "name": "stderr",
     "output_type": "stream",
     "text": [
      "/home/klkehl/miniconda3/envs/pytorch2/lib/python3.10/site-packages/torch/_utils.py:776: UserWarning: TypedStorage is deprecated. It will be removed in the future and UntypedStorage will be the only storage class. This should only matter to you if you are using storages directly.  To access UntypedStorage directly, use tensor.untyped_storage() instead of tensor.storage()\n",
      "  return self.fget.__get__(instance, owner)()\n"
     ]
    },
    {
     "name": "stdout",
     "output_type": "stream",
     "text": [
      "Epoch: 1, batch: 110/110, main train loss: 0.6743160342628306\n",
      "\n",
      "Epoch: 2, batch: 110/110, main train loss: 0.6675483969124888\n",
      "\n",
      "Epoch: 3, batch: 110/110, main train loss: 0.6034584473479878\n",
      "\n",
      "Epoch: 4, batch: 110/110, main train loss: 0.5545379990881144\n",
      "\n",
      "Epoch: 5, batch: 110/110, main train loss: 0.42959623072635045\n",
      "\n",
      "Training shadow model 7/30\n"
     ]
    },
    {
     "name": "stderr",
     "output_type": "stream",
     "text": [
      "/home/klkehl/miniconda3/envs/pytorch2/lib/python3.10/site-packages/torch/_utils.py:776: UserWarning: TypedStorage is deprecated. It will be removed in the future and UntypedStorage will be the only storage class. This should only matter to you if you are using storages directly.  To access UntypedStorage directly, use tensor.untyped_storage() instead of tensor.storage()\n",
      "  return self.fget.__get__(instance, owner)()\n"
     ]
    },
    {
     "name": "stdout",
     "output_type": "stream",
     "text": [
      "Epoch: 1, batch: 125/125, main train loss: 0.6660182378292083\n",
      "\n",
      "Epoch: 2, batch: 125/125, main train loss: 0.6474834113121033\n",
      "\n",
      "Epoch: 3, batch: 125/125, main train loss: 0.6349473264217377\n",
      "\n",
      "Epoch: 4, batch: 125/125, main train loss: 0.5477032916545868\n",
      "\n",
      "Epoch: 5, batch: 125/125, main train loss: 0.43112422430515293\n",
      "\n",
      "Training shadow model 8/30\n"
     ]
    },
    {
     "name": "stderr",
     "output_type": "stream",
     "text": [
      "/home/klkehl/miniconda3/envs/pytorch2/lib/python3.10/site-packages/torch/_utils.py:776: UserWarning: TypedStorage is deprecated. It will be removed in the future and UntypedStorage will be the only storage class. This should only matter to you if you are using storages directly.  To access UntypedStorage directly, use tensor.untyped_storage() instead of tensor.storage()\n",
      "  return self.fget.__get__(instance, owner)()\n"
     ]
    },
    {
     "name": "stdout",
     "output_type": "stream",
     "text": [
      "Epoch: 1, batch: 116/116, main train loss: 0.6976483474517691\n",
      "\n",
      "Epoch: 2, batch: 116/116, main train loss: 0.6722288571041206\n",
      "\n",
      "Epoch: 3, batch: 116/116, main train loss: 0.6558168412282549\n",
      "\n",
      "Epoch: 4, batch: 116/116, main train loss: 0.6128463840176319\n",
      "\n",
      "Epoch: 5, batch: 116/116, main train loss: 0.5344855985764799\n",
      "\n",
      "Training shadow model 9/30\n"
     ]
    },
    {
     "name": "stderr",
     "output_type": "stream",
     "text": [
      "/home/klkehl/miniconda3/envs/pytorch2/lib/python3.10/site-packages/torch/_utils.py:776: UserWarning: TypedStorage is deprecated. It will be removed in the future and UntypedStorage will be the only storage class. This should only matter to you if you are using storages directly.  To access UntypedStorage directly, use tensor.untyped_storage() instead of tensor.storage()\n",
      "  return self.fget.__get__(instance, owner)()\n"
     ]
    },
    {
     "name": "stdout",
     "output_type": "stream",
     "text": [
      "Epoch: 1, batch: 111/111, main train loss: 0.6711051214385677\n",
      "\n",
      "Epoch: 2, batch: 111/111, main train loss: 0.6414640513626305\n",
      "\n",
      "Epoch: 3, batch: 111/111, main train loss: 0.5877859721312652\n",
      "\n",
      "Epoch: 4, batch: 111/111, main train loss: 0.5298580751494244\n",
      "\n",
      "Epoch: 5, batch: 111/111, main train loss: 0.47811389895709785\n",
      "\n",
      "Training shadow model 10/30\n"
     ]
    },
    {
     "name": "stderr",
     "output_type": "stream",
     "text": [
      "/home/klkehl/miniconda3/envs/pytorch2/lib/python3.10/site-packages/torch/_utils.py:776: UserWarning: TypedStorage is deprecated. It will be removed in the future and UntypedStorage will be the only storage class. This should only matter to you if you are using storages directly.  To access UntypedStorage directly, use tensor.untyped_storage() instead of tensor.storage()\n",
      "  return self.fget.__get__(instance, owner)()\n"
     ]
    },
    {
     "name": "stdout",
     "output_type": "stream",
     "text": [
      "Epoch: 1, batch: 108/108, main train loss: 0.6760298204090861\n",
      "\n",
      "Epoch: 2, batch: 108/108, main train loss: 0.6446534571824251\n",
      "\n",
      "Epoch: 3, batch: 108/108, main train loss: 0.6404147586888738\n",
      "\n",
      "Epoch: 4, batch: 108/108, main train loss: 0.6190881420064855\n",
      "\n",
      "Epoch: 5, batch: 108/108, main train loss: 0.5796479700064218\n",
      "\n",
      "Training shadow model 11/30\n"
     ]
    },
    {
     "name": "stderr",
     "output_type": "stream",
     "text": [
      "/home/klkehl/miniconda3/envs/pytorch2/lib/python3.10/site-packages/torch/_utils.py:776: UserWarning: TypedStorage is deprecated. It will be removed in the future and UntypedStorage will be the only storage class. This should only matter to you if you are using storages directly.  To access UntypedStorage directly, use tensor.untyped_storage() instead of tensor.storage()\n",
      "  return self.fget.__get__(instance, owner)()\n"
     ]
    },
    {
     "name": "stdout",
     "output_type": "stream",
     "text": [
      "Epoch: 1, batch: 109/109, main train loss: 0.6812294680591023\n",
      "\n",
      "Epoch: 2, batch: 109/109, main train loss: 0.6763608733174997\n",
      "\n",
      "Epoch: 3, batch: 109/109, main train loss: 0.6649531875181636\n",
      "\n",
      "Epoch: 4, batch: 109/109, main train loss: 0.6594386360514055\n",
      "\n",
      "Epoch: 5, batch: 109/109, main train loss: 0.6632264040478872\n",
      "\n",
      "Training shadow model 12/30\n"
     ]
    },
    {
     "name": "stderr",
     "output_type": "stream",
     "text": [
      "/home/klkehl/miniconda3/envs/pytorch2/lib/python3.10/site-packages/torch/_utils.py:776: UserWarning: TypedStorage is deprecated. It will be removed in the future and UntypedStorage will be the only storage class. This should only matter to you if you are using storages directly.  To access UntypedStorage directly, use tensor.untyped_storage() instead of tensor.storage()\n",
      "  return self.fget.__get__(instance, owner)()\n"
     ]
    },
    {
     "name": "stdout",
     "output_type": "stream",
     "text": [
      "Epoch: 1, batch: 120/120, main train loss: 0.6856311524907748\n",
      "\n",
      "Epoch: 2, batch: 120/120, main train loss: 0.6773687851925697\n",
      "\n",
      "Epoch: 3, batch: 120/120, main train loss: 0.6638767160475254\n",
      "\n",
      "Epoch: 4, batch: 120/120, main train loss: 0.6402516928811868\n",
      "\n",
      "Epoch: 5, batch: 120/120, main train loss: 0.6371182861427466\n",
      "\n",
      "Training shadow model 13/30\n"
     ]
    },
    {
     "name": "stderr",
     "output_type": "stream",
     "text": [
      "/home/klkehl/miniconda3/envs/pytorch2/lib/python3.10/site-packages/torch/_utils.py:776: UserWarning: TypedStorage is deprecated. It will be removed in the future and UntypedStorage will be the only storage class. This should only matter to you if you are using storages directly.  To access UntypedStorage directly, use tensor.untyped_storage() instead of tensor.storage()\n",
      "  return self.fget.__get__(instance, owner)()\n"
     ]
    },
    {
     "name": "stdout",
     "output_type": "stream",
     "text": [
      "Epoch: 1, batch: 106/106, main train loss: 0.6596874777438506\n",
      "\n",
      "Epoch: 2, batch: 106/106, main train loss: 0.6486766481736921\n",
      "\n",
      "Epoch: 3, batch: 106/106, main train loss: 0.6356186810529457\n",
      "\n",
      "Epoch: 4, batch: 106/106, main train loss: 0.6226098063700604\n",
      "\n",
      "Epoch: 5, batch: 106/106, main train loss: 0.5727715354483083\n",
      "\n",
      "Training shadow model 14/30\n"
     ]
    },
    {
     "name": "stderr",
     "output_type": "stream",
     "text": [
      "/home/klkehl/miniconda3/envs/pytorch2/lib/python3.10/site-packages/torch/_utils.py:776: UserWarning: TypedStorage is deprecated. It will be removed in the future and UntypedStorage will be the only storage class. This should only matter to you if you are using storages directly.  To access UntypedStorage directly, use tensor.untyped_storage() instead of tensor.storage()\n",
      "  return self.fget.__get__(instance, owner)()\n"
     ]
    },
    {
     "name": "stdout",
     "output_type": "stream",
     "text": [
      "Epoch: 1, batch: 104/104, main train loss: 0.6638692697653403\n",
      "\n",
      "Epoch: 2, batch: 104/104, main train loss: 0.6427441508724139\n",
      "\n",
      "Epoch: 3, batch: 104/104, main train loss: 0.6336001802522403\n",
      "\n",
      "Epoch: 4, batch: 104/104, main train loss: 0.6025491402699397\n",
      "\n",
      "Epoch: 5, batch: 104/104, main train loss: 0.5658388077639617\n",
      "\n",
      "Training shadow model 15/30\n"
     ]
    },
    {
     "name": "stderr",
     "output_type": "stream",
     "text": [
      "/home/klkehl/miniconda3/envs/pytorch2/lib/python3.10/site-packages/torch/_utils.py:776: UserWarning: TypedStorage is deprecated. It will be removed in the future and UntypedStorage will be the only storage class. This should only matter to you if you are using storages directly.  To access UntypedStorage directly, use tensor.untyped_storage() instead of tensor.storage()\n",
      "  return self.fget.__get__(instance, owner)()\n"
     ]
    },
    {
     "name": "stdout",
     "output_type": "stream",
     "text": [
      "Epoch: 1, batch: 114/114, main train loss: 0.6595581074555715\n",
      "\n",
      "Epoch: 2, batch: 114/114, main train loss: 0.6412866361308516\n",
      "\n",
      "Epoch: 3, batch: 114/114, main train loss: 0.6170280088196721\n",
      "\n",
      "Epoch: 4, batch: 114/114, main train loss: 0.5577687358385638\n",
      "\n",
      "Epoch: 5, batch: 114/114, main train loss: 0.43107781807581586\n",
      "\n",
      "Training shadow model 16/30\n"
     ]
    },
    {
     "name": "stderr",
     "output_type": "stream",
     "text": [
      "/home/klkehl/miniconda3/envs/pytorch2/lib/python3.10/site-packages/torch/_utils.py:776: UserWarning: TypedStorage is deprecated. It will be removed in the future and UntypedStorage will be the only storage class. This should only matter to you if you are using storages directly.  To access UntypedStorage directly, use tensor.untyped_storage() instead of tensor.storage()\n",
      "  return self.fget.__get__(instance, owner)()\n"
     ]
    },
    {
     "name": "stdout",
     "output_type": "stream",
     "text": [
      "Epoch: 1, batch: 115/115, main train loss: 0.6503312934999881\n",
      "\n",
      "Epoch: 2, batch: 115/115, main train loss: 0.6058021571325225\n",
      "\n",
      "Epoch: 3, batch: 115/115, main train loss: 0.5863060968077701\n",
      "\n",
      "Epoch: 4, batch: 115/115, main train loss: 0.5472092352483584\n",
      "\n",
      "Epoch: 5, batch: 115/115, main train loss: 0.43667731349882874\n",
      "\n",
      "Training shadow model 17/30\n"
     ]
    },
    {
     "name": "stderr",
     "output_type": "stream",
     "text": [
      "/home/klkehl/miniconda3/envs/pytorch2/lib/python3.10/site-packages/torch/_utils.py:776: UserWarning: TypedStorage is deprecated. It will be removed in the future and UntypedStorage will be the only storage class. This should only matter to you if you are using storages directly.  To access UntypedStorage directly, use tensor.untyped_storage() instead of tensor.storage()\n",
      "  return self.fget.__get__(instance, owner)()\n"
     ]
    },
    {
     "name": "stdout",
     "output_type": "stream",
     "text": [
      "Epoch: 1, batch: 115/115, main train loss: 0.6765595516432886\n",
      "\n",
      "Epoch: 2, batch: 115/115, main train loss: 0.6405301371346349\n",
      "\n",
      "Epoch: 3, batch: 115/115, main train loss: 0.6240858617036239\n",
      "\n",
      "Epoch: 4, batch: 115/115, main train loss: 0.5924179104359254\n",
      "\n",
      "Epoch: 5, batch: 115/115, main train loss: 0.5077586484991986\n",
      "\n",
      "Training shadow model 18/30\n"
     ]
    },
    {
     "name": "stderr",
     "output_type": "stream",
     "text": [
      "/home/klkehl/miniconda3/envs/pytorch2/lib/python3.10/site-packages/torch/_utils.py:776: UserWarning: TypedStorage is deprecated. It will be removed in the future and UntypedStorage will be the only storage class. This should only matter to you if you are using storages directly.  To access UntypedStorage directly, use tensor.untyped_storage() instead of tensor.storage()\n",
      "  return self.fget.__get__(instance, owner)()\n"
     ]
    },
    {
     "name": "stdout",
     "output_type": "stream",
     "text": [
      "Epoch: 1, batch: 110/110, main train loss: 0.6765283213420348\n",
      "\n",
      "Epoch: 2, batch: 110/110, main train loss: 0.6623779502781955\n",
      "\n",
      "Epoch: 3, batch: 110/110, main train loss: 0.6461927568370646\n",
      "\n",
      "Epoch: 4, batch: 110/110, main train loss: 0.6203376504507931\n",
      "\n",
      "Epoch: 5, batch: 110/110, main train loss: 0.5685779320922765\n",
      "\n",
      "Training shadow model 19/30\n"
     ]
    },
    {
     "name": "stderr",
     "output_type": "stream",
     "text": [
      "/home/klkehl/miniconda3/envs/pytorch2/lib/python3.10/site-packages/torch/_utils.py:776: UserWarning: TypedStorage is deprecated. It will be removed in the future and UntypedStorage will be the only storage class. This should only matter to you if you are using storages directly.  To access UntypedStorage directly, use tensor.untyped_storage() instead of tensor.storage()\n",
      "  return self.fget.__get__(instance, owner)()\n"
     ]
    },
    {
     "name": "stdout",
     "output_type": "stream",
     "text": [
      "Epoch: 1, batch: 111/111, main train loss: 0.6628054055544708\n",
      "\n",
      "Epoch: 2, batch: 111/111, main train loss: 0.6567418988760527\n",
      "\n",
      "Epoch: 3, batch: 111/111, main train loss: 0.6468939985240902\n",
      "\n",
      "Epoch: 4, batch: 111/111, main train loss: 0.6064717538721927\n",
      "\n",
      "Epoch: 5, batch: 111/111, main train loss: 0.49708165161244505\n",
      "\n",
      "Training shadow model 20/30\n"
     ]
    },
    {
     "name": "stderr",
     "output_type": "stream",
     "text": [
      "/home/klkehl/miniconda3/envs/pytorch2/lib/python3.10/site-packages/torch/_utils.py:776: UserWarning: TypedStorage is deprecated. It will be removed in the future and UntypedStorage will be the only storage class. This should only matter to you if you are using storages directly.  To access UntypedStorage directly, use tensor.untyped_storage() instead of tensor.storage()\n",
      "  return self.fget.__get__(instance, owner)()\n"
     ]
    },
    {
     "name": "stdout",
     "output_type": "stream",
     "text": [
      "Epoch: 1, batch: 123/123, main train loss: 0.6853522939410636\n",
      "\n",
      "Epoch: 2, batch: 123/123, main train loss: 0.6574471733434414\n",
      "\n",
      "Epoch: 3, batch: 123/123, main train loss: 0.6323944898397942\n",
      "\n",
      "Epoch: 4, batch: 123/123, main train loss: 0.5823118020363949\n",
      "\n",
      "Epoch: 5, batch: 123/123, main train loss: 0.47942086527260336\n",
      "\n",
      "Training shadow model 21/30\n"
     ]
    },
    {
     "name": "stderr",
     "output_type": "stream",
     "text": [
      "/home/klkehl/miniconda3/envs/pytorch2/lib/python3.10/site-packages/torch/_utils.py:776: UserWarning: TypedStorage is deprecated. It will be removed in the future and UntypedStorage will be the only storage class. This should only matter to you if you are using storages directly.  To access UntypedStorage directly, use tensor.untyped_storage() instead of tensor.storage()\n",
      "  return self.fget.__get__(instance, owner)()\n"
     ]
    },
    {
     "name": "stdout",
     "output_type": "stream",
     "text": [
      "Epoch: 1, batch: 119/119, main train loss: 0.6647159369552836\n",
      "\n",
      "Epoch: 2, batch: 119/119, main train loss: 0.6484211928704205\n",
      "\n",
      "Epoch: 3, batch: 119/119, main train loss: 0.6417182265710431\n",
      "\n",
      "Epoch: 4, batch: 119/119, main train loss: 0.6330497982371756\n",
      "\n",
      "Epoch: 5, batch: 119/119, main train loss: 0.6222007280888677\n",
      "\n",
      "Training shadow model 22/30\n"
     ]
    },
    {
     "name": "stderr",
     "output_type": "stream",
     "text": [
      "/home/klkehl/miniconda3/envs/pytorch2/lib/python3.10/site-packages/torch/_utils.py:776: UserWarning: TypedStorage is deprecated. It will be removed in the future and UntypedStorage will be the only storage class. This should only matter to you if you are using storages directly.  To access UntypedStorage directly, use tensor.untyped_storage() instead of tensor.storage()\n",
      "  return self.fget.__get__(instance, owner)()\n"
     ]
    },
    {
     "name": "stdout",
     "output_type": "stream",
     "text": [
      "Epoch: 1, batch: 104/104, main train loss: 0.6808034777641296\n",
      "\n",
      "Epoch: 2, batch: 104/104, main train loss: 0.6496342646961029\n",
      "\n",
      "Epoch: 3, batch: 104/104, main train loss: 0.6406125208506217\n",
      "\n",
      "Epoch: 4, batch: 104/104, main train loss: 0.6079321474983141\n",
      "\n",
      "Epoch: 5, batch: 104/104, main train loss: 0.5289793245207804\n",
      "\n",
      "Training shadow model 23/30\n"
     ]
    },
    {
     "name": "stderr",
     "output_type": "stream",
     "text": [
      "/home/klkehl/miniconda3/envs/pytorch2/lib/python3.10/site-packages/torch/_utils.py:776: UserWarning: TypedStorage is deprecated. It will be removed in the future and UntypedStorage will be the only storage class. This should only matter to you if you are using storages directly.  To access UntypedStorage directly, use tensor.untyped_storage() instead of tensor.storage()\n",
      "  return self.fget.__get__(instance, owner)()\n"
     ]
    },
    {
     "name": "stdout",
     "output_type": "stream",
     "text": [
      "Epoch: 1, batch: 111/111, main train loss: 0.6760233683629079\n",
      "\n",
      "Epoch: 2, batch: 111/111, main train loss: 0.6399015631224658\n",
      "\n",
      "Epoch: 3, batch: 111/111, main train loss: 0.5603732608997074\n",
      "\n",
      "Epoch: 4, batch: 111/111, main train loss: 0.45797325590172335\n",
      "\n",
      "Epoch: 5, batch: 111/111, main train loss: 0.37822038230595293\n",
      "\n",
      "Training shadow model 24/30\n"
     ]
    },
    {
     "name": "stderr",
     "output_type": "stream",
     "text": [
      "/home/klkehl/miniconda3/envs/pytorch2/lib/python3.10/site-packages/torch/_utils.py:776: UserWarning: TypedStorage is deprecated. It will be removed in the future and UntypedStorage will be the only storage class. This should only matter to you if you are using storages directly.  To access UntypedStorage directly, use tensor.untyped_storage() instead of tensor.storage()\n",
      "  return self.fget.__get__(instance, owner)()\n"
     ]
    },
    {
     "name": "stdout",
     "output_type": "stream",
     "text": [
      "Epoch: 1, batch: 106/106, main train loss: 0.6665033192004798\n",
      "\n",
      "Epoch: 2, batch: 106/106, main train loss: 0.6331580570846234\n",
      "\n",
      "Epoch: 3, batch: 106/106, main train loss: 0.6176225081929626\n",
      "\n",
      "Epoch: 4, batch: 106/106, main train loss: 0.5589030945919594\n",
      "\n",
      "Epoch: 5, batch: 106/106, main train loss: 0.47446302619745145\n",
      "\n",
      "Training shadow model 25/30\n"
     ]
    },
    {
     "name": "stderr",
     "output_type": "stream",
     "text": [
      "/home/klkehl/miniconda3/envs/pytorch2/lib/python3.10/site-packages/torch/_utils.py:776: UserWarning: TypedStorage is deprecated. It will be removed in the future and UntypedStorage will be the only storage class. This should only matter to you if you are using storages directly.  To access UntypedStorage directly, use tensor.untyped_storage() instead of tensor.storage()\n",
      "  return self.fget.__get__(instance, owner)()\n"
     ]
    },
    {
     "name": "stdout",
     "output_type": "stream",
     "text": [
      "Epoch: 1, batch: 114/114, main train loss: 0.6868266220155516\n",
      "\n",
      "Epoch: 2, batch: 114/114, main train loss: 0.6766731874984607\n",
      "\n",
      "Epoch: 3, batch: 114/114, main train loss: 0.6639253850045957\n",
      "\n",
      "Epoch: 4, batch: 114/114, main train loss: 0.6272384885110354\n",
      "\n",
      "Epoch: 5, batch: 114/114, main train loss: 0.5311013318990406\n",
      "\n",
      "Training shadow model 26/30\n"
     ]
    },
    {
     "name": "stderr",
     "output_type": "stream",
     "text": [
      "/home/klkehl/miniconda3/envs/pytorch2/lib/python3.10/site-packages/torch/_utils.py:776: UserWarning: TypedStorage is deprecated. It will be removed in the future and UntypedStorage will be the only storage class. This should only matter to you if you are using storages directly.  To access UntypedStorage directly, use tensor.untyped_storage() instead of tensor.storage()\n",
      "  return self.fget.__get__(instance, owner)()\n"
     ]
    },
    {
     "name": "stdout",
     "output_type": "stream",
     "text": [
      "Epoch: 1, batch: 113/113, main train loss: 0.6277087686863623\n",
      "\n",
      "Epoch: 2, batch: 113/113, main train loss: 0.6034594099078558\n",
      "\n",
      "Epoch: 3, batch: 113/113, main train loss: 0.5829423067316545\n",
      "\n",
      "Epoch: 4, batch: 113/113, main train loss: 0.5630691625111925\n",
      "\n",
      "Epoch: 5, batch: 113/113, main train loss: 0.48923932879635725\n",
      "\n",
      "Training shadow model 27/30\n"
     ]
    },
    {
     "name": "stderr",
     "output_type": "stream",
     "text": [
      "/home/klkehl/miniconda3/envs/pytorch2/lib/python3.10/site-packages/torch/_utils.py:776: UserWarning: TypedStorage is deprecated. It will be removed in the future and UntypedStorage will be the only storage class. This should only matter to you if you are using storages directly.  To access UntypedStorage directly, use tensor.untyped_storage() instead of tensor.storage()\n",
      "  return self.fget.__get__(instance, owner)()\n"
     ]
    },
    {
     "name": "stdout",
     "output_type": "stream",
     "text": [
      "Epoch: 1, batch: 111/111, main train loss: 0.6357532986649522\n",
      "\n",
      "Epoch: 2, batch: 111/111, main train loss: 0.6166437732743787\n",
      "\n",
      "Epoch: 3, batch: 111/111, main train loss: 0.6018528834925042\n",
      "\n",
      "Epoch: 4, batch: 111/111, main train loss: 0.5549973615923444\n",
      "\n",
      "Epoch: 5, batch: 111/111, main train loss: 0.47951380613150896\n",
      "\n",
      "Training shadow model 28/30\n"
     ]
    },
    {
     "name": "stderr",
     "output_type": "stream",
     "text": [
      "/home/klkehl/miniconda3/envs/pytorch2/lib/python3.10/site-packages/torch/_utils.py:776: UserWarning: TypedStorage is deprecated. It will be removed in the future and UntypedStorage will be the only storage class. This should only matter to you if you are using storages directly.  To access UntypedStorage directly, use tensor.untyped_storage() instead of tensor.storage()\n",
      "  return self.fget.__get__(instance, owner)()\n"
     ]
    },
    {
     "name": "stdout",
     "output_type": "stream",
     "text": [
      "Epoch: 1, batch: 113/113, main train loss: 0.6603508760443831\n",
      "\n",
      "Epoch: 2, batch: 113/113, main train loss: 0.6393161993638604\n",
      "\n",
      "Epoch: 3, batch: 113/113, main train loss: 0.6041994506278924\n",
      "\n",
      "Epoch: 4, batch: 113/113, main train loss: 0.5262840473941998\n",
      "\n",
      "Epoch: 5, batch: 113/113, main train loss: 0.42856761298875895\n",
      "\n",
      "Training shadow model 29/30\n"
     ]
    },
    {
     "name": "stderr",
     "output_type": "stream",
     "text": [
      "/home/klkehl/miniconda3/envs/pytorch2/lib/python3.10/site-packages/torch/_utils.py:776: UserWarning: TypedStorage is deprecated. It will be removed in the future and UntypedStorage will be the only storage class. This should only matter to you if you are using storages directly.  To access UntypedStorage directly, use tensor.untyped_storage() instead of tensor.storage()\n",
      "  return self.fget.__get__(instance, owner)()\n"
     ]
    },
    {
     "name": "stdout",
     "output_type": "stream",
     "text": [
      "Epoch: 1, batch: 115/115, main train loss: 0.6809813118499258\n",
      "\n",
      "Epoch: 2, batch: 115/115, main train loss: 0.6516666697419208\n",
      "\n",
      "Epoch: 3, batch: 115/115, main train loss: 0.6464201691357986\n",
      "\n",
      "Epoch: 4, batch: 115/115, main train loss: 0.6227364521959554\n",
      "\n",
      "Epoch: 5, batch: 115/115, main train loss: 0.5190418501263083\n",
      "\n",
      "Training shadow model 30/30\n"
     ]
    },
    {
     "name": "stderr",
     "output_type": "stream",
     "text": [
      "/home/klkehl/miniconda3/envs/pytorch2/lib/python3.10/site-packages/torch/_utils.py:776: UserWarning: TypedStorage is deprecated. It will be removed in the future and UntypedStorage will be the only storage class. This should only matter to you if you are using storages directly.  To access UntypedStorage directly, use tensor.untyped_storage() instead of tensor.storage()\n",
      "  return self.fget.__get__(instance, owner)()\n"
     ]
    },
    {
     "name": "stdout",
     "output_type": "stream",
     "text": [
      "Epoch: 1, batch: 106/106, main train loss: 0.6499346393459248\n",
      "\n",
      "Epoch: 2, batch: 106/106, main train loss: 0.6066323603099247\n",
      "\n",
      "Epoch: 3, batch: 106/106, main train loss: 0.5622161771610098\n",
      "\n",
      "Epoch: 4, batch: 106/106, main train loss: 0.49929491261828627\n",
      "\n",
      "Epoch: 5, batch: 106/106, main train loss: 0.45422965906700996\n",
      "\n"
     ]
    }
   ],
   "source": [
    "# Device configuration\n",
    "device = torch.device('cuda' if torch.cuda.is_available() else 'cpu')\n",
    "\n",
    "# Loss criterion\n",
    "criterion = BCEWithLogitsLoss(reduction='none')\n",
    "\n",
    "# Lists to store member and non-member losses\n",
    "member_losses = []\n",
    "nonmember_losses = []\n",
    "\n",
    "# Train shadow models and collect losses\n",
    "for i, shadow_data in enumerate(shadow_datasets):\n",
    "    print(f\"Training shadow model {i+1}/{num_shadow_models}\")\n",
    "    \n",
    "    # Split shadow data into training and testing sets\n",
    "    this_set_obses = shadow_data.obs.unique()\n",
    "    shadow_train_obses = np.random.choice(this_set_obses, int(len(this_set_obses) / 2))\n",
    "    shadow_train_data = shadow_data[shadow_data.obs.isin(shadow_train_obses)].reset_index(drop=True)\n",
    "    shadow_test_data = shadow_data[~shadow_data.obs.isin(shadow_train_obses)].reset_index(drop=True)\n",
    "\n",
    "    \n",
    "    # Create datasets and dataloaders\n",
    "    shadow_train_dataset = RecistDataset(shadow_train_data)\n",
    "    shadow_test_dataset = RecistDataset(shadow_test_data)\n",
    "    \n",
    "    shadow_train_loader = DataLoader(shadow_train_dataset, batch_size=1, shuffle=True)\n",
    "    shadow_test_loader = DataLoader(shadow_test_dataset, batch_size=1, shuffle=False)\n",
    "    \n",
    "    # Initialize a new shadow model\n",
    "    shadow_model = RecistModel()\n",
    "    shadow_model.to(device)\n",
    "    \n",
    "    train_model(shadow_model, 5, shadow_train_loader)\n",
    "    \n",
    "\n",
    "\n",
    "    \n",
    "    # Collect losses from the shadow model\n",
    "    # Member losses (on shadow training data)\n",
    "    train_losses = []\n",
    "\n",
    "    shadow_model.eval()\n",
    "    \n",
    "    member_losses.extend(compute_per_observation_loss(shadow_model, shadow_train_loader))\n",
    "    \n",
    "    nonmember_losses.extend(compute_per_observation_loss(shadow_model, shadow_test_loader))\n",
    "\n",
    "    \n",
    "    \n",
    "    # Free up memory\n",
    "    del shadow_model\n",
    "    torch.cuda.empty_cache()"
   ]
  },
  {
   "cell_type": "code",
   "execution_count": 43,
   "id": "74da50b8-83ab-483e-a859-447de7b86354",
   "metadata": {},
   "outputs": [],
   "source": [
    "# Convert losses to numpy arrays\n",
    "member_losses = np.array(member_losses).reshape(-1, 1)\n",
    "nonmember_losses = np.array(nonmember_losses).reshape(-1, 1)\n",
    "\n",
    "# Fit Kernel Density Estimators\n",
    "bandwidth = 0.02  # Adjust based on your data\n",
    "\n",
    "kde_members = KernelDensity(kernel='gaussian', bandwidth=bandwidth).fit(member_losses)\n",
    "kde_nonmembers = KernelDensity(kernel='gaussian', bandwidth=bandwidth).fit(nonmember_losses)"
   ]
  },
  {
   "cell_type": "code",
   "execution_count": 44,
   "id": "8717b376-7847-4ee2-9942-3fbfab21ec93",
   "metadata": {},
   "outputs": [],
   "source": [
    "train_dataset = RecistDataset(training.sort_values(by=['obs','time']))\n",
    "test_dataset = RecistDataset(test.sort_values(by=['obs','time']))"
   ]
  },
  {
   "cell_type": "code",
   "execution_count": null,
   "id": "710af82b-ddb0-4734-84da-9df53eba1dd6",
   "metadata": {},
   "outputs": [],
   "source": []
  },
  {
   "cell_type": "code",
   "execution_count": 45,
   "id": "3228bbeb-d9a1-4e45-8249-6d02206d1c23",
   "metadata": {},
   "outputs": [
    {
     "name": "stderr",
     "output_type": "stream",
     "text": [
      "/home/klkehl/miniconda3/envs/pytorch2/lib/python3.10/site-packages/torch/_utils.py:776: UserWarning: TypedStorage is deprecated. It will be removed in the future and UntypedStorage will be the only storage class. This should only matter to you if you are using storages directly.  To access UntypedStorage directly, use tensor.untyped_storage() instead of tensor.storage()\n",
      "  return self.fget.__get__(instance, owner)()\n"
     ]
    },
    {
     "data": {
      "text/plain": [
       "RecistModel(\n",
       "  (note_bert): DistilBertModel(\n",
       "    (embeddings): Embeddings(\n",
       "      (word_embeddings): Embedding(119547, 768, padding_idx=0)\n",
       "      (position_embeddings): Embedding(512, 768)\n",
       "      (LayerNorm): LayerNorm((768,), eps=1e-12, elementwise_affine=True)\n",
       "      (dropout): Dropout(p=0.1, inplace=False)\n",
       "    )\n",
       "    (transformer): Transformer(\n",
       "      (layer): ModuleList(\n",
       "        (0-5): 6 x TransformerBlock(\n",
       "          (attention): MultiHeadSelfAttention(\n",
       "            (dropout): Dropout(p=0.1, inplace=False)\n",
       "            (q_lin): Linear(in_features=768, out_features=768, bias=True)\n",
       "            (k_lin): Linear(in_features=768, out_features=768, bias=True)\n",
       "            (v_lin): Linear(in_features=768, out_features=768, bias=True)\n",
       "            (out_lin): Linear(in_features=768, out_features=768, bias=True)\n",
       "          )\n",
       "          (sa_layer_norm): LayerNorm((768,), eps=1e-12, elementwise_affine=True)\n",
       "          (ffn): FFN(\n",
       "            (dropout): Dropout(p=0.1, inplace=False)\n",
       "            (lin1): Linear(in_features=768, out_features=3072, bias=True)\n",
       "            (lin2): Linear(in_features=3072, out_features=768, bias=True)\n",
       "            (activation): GELUActivation()\n",
       "          )\n",
       "          (output_layer_norm): LayerNorm((768,), eps=1e-12, elementwise_affine=True)\n",
       "        )\n",
       "      )\n",
       "    )\n",
       "  )\n",
       "  (per_doc_hidden): Linear(in_features=768, out_features=256, bias=True)\n",
       "  (day_transformer): HTransformer(\n",
       "    (tblocks): Sequential(\n",
       "      (0): TransformerBlock(\n",
       "        (attention): SelfAttention(\n",
       "          (tokeys): Linear(in_features=256, out_features=256, bias=False)\n",
       "          (toqueries): Linear(in_features=256, out_features=256, bias=False)\n",
       "          (tovalues): Linear(in_features=256, out_features=256, bias=False)\n",
       "          (unifyheads): Linear(in_features=256, out_features=256, bias=True)\n",
       "        )\n",
       "        (norm1): LayerNorm((256,), eps=1e-05, elementwise_affine=True)\n",
       "        (norm2): LayerNorm((256,), eps=1e-05, elementwise_affine=True)\n",
       "        (ff): Sequential(\n",
       "          (0): Linear(in_features=256, out_features=1024, bias=True)\n",
       "          (1): ReLU()\n",
       "          (2): Linear(in_features=1024, out_features=256, bias=True)\n",
       "        )\n",
       "        (do): Dropout(p=0.0, inplace=False)\n",
       "      )\n",
       "    )\n",
       "    (do): Dropout(p=0.0, inplace=False)\n",
       "  )\n",
       "  (day_position_encoding): PositionalEncoding(\n",
       "    (dropout): Dropout(p=0.0, inplace=False)\n",
       "  )\n",
       "  (final_hidden): Linear(in_features=256, out_features=128, bias=True)\n",
       "  (recist_out): Linear(in_features=128, out_features=1, bias=True)\n",
       ")"
      ]
     },
     "execution_count": 45,
     "metadata": {},
     "output_type": "execute_result"
    }
   ],
   "source": [
    "# load target model\n",
    "model = RecistModel()\n",
    "model.load_state_dict(torch.load(prefix+'./recist_bert_htransformer_pd.pt'))\n",
    "model.to('cuda')"
   ]
  },
  {
   "cell_type": "code",
   "execution_count": 46,
   "id": "07150ece-d95c-49d8-a3b5-b0b295b1155f",
   "metadata": {},
   "outputs": [],
   "source": [
    "def compute_likelihood_ratio(model, sample):\n",
    "    input_ids, attention_mask, start_times, y_outcome = sample\n",
    "    input_ids = input_ids.to(device)\n",
    "    attention_mask = attention_mask.to(device)\n",
    "    start_times = start_times.to(device)\n",
    "    \n",
    "    y_outcome = y_outcome.squeeze(0)\n",
    "\n",
    "    y_true_list = []\n",
    "\n",
    "    unique_times = torch.unique(start_times)\n",
    "\n",
    "    for unique_time in unique_times:\n",
    "        y_true_list.append(y_outcome[start_times.squeeze(0) == unique_time][0,])\n",
    "\n",
    "    y_outcome = torch.stack(y_true_list, dim=0) \n",
    "    y_outcome = y_outcome.to(device)\n",
    "    \n",
    "    with torch.no_grad():\n",
    "        outputs = model(input_ids, attention_mask, start_times)\n",
    "        losses = criterion(outputs, y_outcome)\n",
    "        mean_loss = torch.mean(losses)\n",
    "        loss_value = mean_loss.item()\n",
    "        \n",
    "    # Compute the log likelihoods under both KDEs\n",
    "    log_likelihood_member = kde_members.score([[loss_value]])  # Returns log density\n",
    "    log_likelihood_nonmember = kde_nonmembers.score([[loss_value]])\n",
    "    \n",
    "    # Compute the likelihood ratio\n",
    "    likelihood_ratio = np.exp(log_likelihood_member - log_likelihood_nonmember)\n",
    "    \n",
    "    return likelihood_ratio, loss_value\n",
    "\n",
    "# Example usage:\n",
    "# Choose a sample from the dataset (replace with your own sample)\n",
    "train_lrs = []\n",
    "train_losses = []\n",
    "labels = []\n",
    "for i in range(len(train_dataset)):\n",
    "    sample_index = i\n",
    "    sample = train_dataset[sample_index]  # Use test_dataset for a non-member sample\n",
    "    sample = [x.to(device) for x in sample]\n",
    "    try:\n",
    "        likelihood_ratio, loss_value = compute_likelihood_ratio(model, sample)\n",
    "        train_lrs.append(likelihood_ratio)\n",
    "        train_losses.append(loss_value)\n",
    "        labels.append(1.)\n",
    "    except:\n",
    "        pass\n",
    "    \n",
    "test_lrs = []\n",
    "test_losses = []\n",
    "for i in range(len(test_dataset)):\n",
    "    sample_index = i\n",
    "    sample = test_dataset[sample_index]  # Use test_dataset for a non-member sample\n",
    "    sample = [x.to(device) for x in sample]\n",
    "\n",
    "    try:\n",
    "        likelihood_ratio, loss_value = compute_likelihood_ratio(model, sample)\n",
    "        test_lrs.append(likelihood_ratio)\n",
    "        test_losses.append(loss_value)\n",
    "        labels.append(0.)\n",
    "    except:\n",
    "        pass\n",
    "    \n",
    "\n",
    "# # You can set a threshold on the likelihood ratio to decide membership\n",
    "# threshold = 1.0\n",
    "# if likelihood_ratio > threshold:\n",
    "#     print(\"Sample is inferred to be a member (in training data).\")\n",
    "# else:\n",
    "#     print(\"Sample is inferred to be a non-member (not in training data).\")"
   ]
  },
  {
   "cell_type": "code",
   "execution_count": 47,
   "id": "18cf8a9a-ce1c-4b04-a979-d710bc320ed4",
   "metadata": {},
   "outputs": [
    {
     "data": {
      "image/png": "[encoded data removed]",
      "text/plain": [
       "<Figure size 640x480 with 1 Axes>"
      ]
     },
     "metadata": {},
     "output_type": "display_data"
    }
   ],
   "source": [
    "import matplotlib.pyplot as plt\n",
    "from sklearn.metrics import roc_curve, auc\n",
    "\n",
    "from sklearn.metrics import roc_auc_score\n",
    "labels = np.concatenate([np.ones_like(train_lrs), np.zeros_like(test_lrs)])\n",
    "lrs = np.concatenate([train_lrs, test_lrs])\n",
    "labels = labels[np.logical_and(lrs > -10, lrs < 10)]\n",
    "lrs = lrs[np.logical_and(lrs > -10, lrs < 10)]\n",
    "\n",
    "\n",
    "# Compute ROC curve and AUC\n",
    "fpr, tpr, thresholds = roc_curve(labels, lrs)\n",
    "roc_auc = auc(fpr, tpr)\n",
    "\n",
    "# Plot the ROC curve\n",
    "plt.figure()\n",
    "lw = 2\n",
    "plt.plot(fpr, tpr, color='darkorange',\n",
    "         lw=lw, label=f'LIRA Attack ROC curve (area = {roc_auc:.2f})')\n",
    "plt.plot([0, 1], [0, 1], color='navy', lw=lw, linestyle='--', label='Random Guess')\n",
    "plt.xlim([0.0, 1.0])\n",
    "plt.ylim([0.0, 1.05])\n",
    "plt.xlabel('False Positive Rate')\n",
    "plt.ylabel('True Positive Rate')\n",
    "plt.title('Receiver Operating Characteristic - LIRA Attack')\n",
    "plt.legend(loc=\"lower right\")\n",
    "plt.show()"
   ]
  },
  {
   "cell_type": "code",
   "execution_count": null,
   "id": "c2dcc4a6-1695-492c-9f1a-0b60e7a8ea3f",
   "metadata": {},
   "outputs": [],
   "source": []
  }
 ],
 "metadata": {
  "kernelspec": {
   "display_name": "Python 3 (ipykernel)",
   "language": "python",
   "name": "python3"
  },
  "language_info": {
   "codemirror_mode": {
    "name": "ipython",
    "version": 3
   },
   "file_extension": ".py",
   "mimetype": "text/x-python",
   "name": "python",
   "nbconvert_exporter": "python",
   "pygments_lexer": "ipython3",
   "version": "3.10.10"
  }
 },
 "nbformat": 4,
 "nbformat_minor": 5
}
